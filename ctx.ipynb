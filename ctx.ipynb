{
 "cells": [
  {
   "cell_type": "markdown",
   "metadata": {},
   "source": [
    "# Data preparation"
   ]
  },
  {
   "cell_type": "code",
   "execution_count": 1,
   "metadata": {},
   "outputs": [],
   "source": [
    "# Import pandas to make DataFrames from the available datasets\n",
    "import pandas as pd"
   ]
  },
  {
   "cell_type": "code",
   "execution_count": 2,
   "metadata": {},
   "outputs": [],
   "source": [
    "# Read datasets and assign them in each DataFrame variable\n",
    "df_product_catalog = pd.read_excel('/Users/sakabumi/project/dsw-2023/Product Catalog.xlsx')\n",
    "df_product_pos_trx = pd.read_excel('/Users/sakabumi/project/dsw-2023/Product Name from PoS Transactions.xlsx')"
   ]
  },
  {
   "cell_type": "code",
   "execution_count": 3,
   "metadata": {},
   "outputs": [
    {
     "data": {
      "text/html": [
       "<div>\n",
       "<style scoped>\n",
       "    .dataframe tbody tr th:only-of-type {\n",
       "        vertical-align: middle;\n",
       "    }\n",
       "\n",
       "    .dataframe tbody tr th {\n",
       "        vertical-align: top;\n",
       "    }\n",
       "\n",
       "    .dataframe thead th {\n",
       "        text-align: right;\n",
       "    }\n",
       "</style>\n",
       "<table border=\"1\" class=\"dataframe\">\n",
       "  <thead>\n",
       "    <tr style=\"text-align: right;\">\n",
       "      <th></th>\n",
       "      <th>Product SKU</th>\n",
       "      <th>Brand</th>\n",
       "      <th>Type</th>\n",
       "      <th>Formula</th>\n",
       "    </tr>\n",
       "  </thead>\n",
       "  <tbody>\n",
       "    <tr>\n",
       "      <th>0</th>\n",
       "      <td>Urea Petro</td>\n",
       "      <td>PIHC</td>\n",
       "      <td>Urea</td>\n",
       "      <td>NaN</td>\n",
       "    </tr>\n",
       "    <tr>\n",
       "      <th>1</th>\n",
       "      <td>Urea PIM</td>\n",
       "      <td>PIHC</td>\n",
       "      <td>Urea</td>\n",
       "      <td>NaN</td>\n",
       "    </tr>\n",
       "    <tr>\n",
       "      <th>2</th>\n",
       "      <td>Urea Nitrea</td>\n",
       "      <td>PIHC</td>\n",
       "      <td>Urea</td>\n",
       "      <td>NaN</td>\n",
       "    </tr>\n",
       "    <tr>\n",
       "      <th>3</th>\n",
       "      <td>Urea Daun Buah</td>\n",
       "      <td>PIHC</td>\n",
       "      <td>Urea</td>\n",
       "      <td>NaN</td>\n",
       "    </tr>\n",
       "    <tr>\n",
       "      <th>4</th>\n",
       "      <td>Urea Pusri</td>\n",
       "      <td>PIHC</td>\n",
       "      <td>Urea</td>\n",
       "      <td>NaN</td>\n",
       "    </tr>\n",
       "  </tbody>\n",
       "</table>\n",
       "</div>"
      ],
      "text/plain": [
       "      Product SKU Brand  Type Formula\n",
       "0      Urea Petro  PIHC  Urea     NaN\n",
       "1        Urea PIM  PIHC  Urea     NaN\n",
       "2     Urea Nitrea  PIHC  Urea     NaN\n",
       "3  Urea Daun Buah  PIHC  Urea     NaN\n",
       "4      Urea Pusri  PIHC  Urea     NaN"
      ]
     },
     "execution_count": 3,
     "metadata": {},
     "output_type": "execute_result"
    }
   ],
   "source": [
    "df_product_catalog.head()"
   ]
  },
  {
   "cell_type": "code",
   "execution_count": 4,
   "metadata": {},
   "outputs": [
    {
     "name": "stdout",
     "output_type": "stream",
     "text": [
      "<class 'pandas.core.frame.DataFrame'>\n",
      "RangeIndex: 187 entries, 0 to 186\n",
      "Data columns (total 4 columns):\n",
      " #   Column       Non-Null Count  Dtype \n",
      "---  ------       --------------  ----- \n",
      " 0   Product SKU  187 non-null    object\n",
      " 1   Brand        187 non-null    object\n",
      " 2   Type         187 non-null    object\n",
      " 3   Formula      123 non-null    object\n",
      "dtypes: object(4)\n",
      "memory usage: 6.0+ KB\n"
     ]
    }
   ],
   "source": [
    "# Checking how many NaN values are there\n",
    "df_product_catalog.info()"
   ]
  },
  {
   "cell_type": "code",
   "execution_count": 5,
   "metadata": {},
   "outputs": [
    {
     "data": {
      "text/html": [
       "<div>\n",
       "<style scoped>\n",
       "    .dataframe tbody tr th:only-of-type {\n",
       "        vertical-align: middle;\n",
       "    }\n",
       "\n",
       "    .dataframe tbody tr th {\n",
       "        vertical-align: top;\n",
       "    }\n",
       "\n",
       "    .dataframe thead th {\n",
       "        text-align: right;\n",
       "    }\n",
       "</style>\n",
       "<table border=\"1\" class=\"dataframe\">\n",
       "  <thead>\n",
       "    <tr style=\"text-align: right;\">\n",
       "      <th></th>\n",
       "      <th>Product SKU</th>\n",
       "      <th>Brand</th>\n",
       "      <th>Type</th>\n",
       "      <th>Formula</th>\n",
       "    </tr>\n",
       "  </thead>\n",
       "  <tbody>\n",
       "    <tr>\n",
       "      <th>count</th>\n",
       "      <td>187</td>\n",
       "      <td>187</td>\n",
       "      <td>187</td>\n",
       "      <td>123</td>\n",
       "    </tr>\n",
       "    <tr>\n",
       "      <th>unique</th>\n",
       "      <td>186</td>\n",
       "      <td>9</td>\n",
       "      <td>10</td>\n",
       "      <td>57</td>\n",
       "    </tr>\n",
       "    <tr>\n",
       "      <th>top</th>\n",
       "      <td>ENTEC 13-10-20</td>\n",
       "      <td>PIHC</td>\n",
       "      <td>Majemuk</td>\n",
       "      <td>15-15-15</td>\n",
       "    </tr>\n",
       "    <tr>\n",
       "      <th>freq</th>\n",
       "      <td>2</td>\n",
       "      <td>43</td>\n",
       "      <td>123</td>\n",
       "      <td>15</td>\n",
       "    </tr>\n",
       "  </tbody>\n",
       "</table>\n",
       "</div>"
      ],
      "text/plain": [
       "           Product SKU Brand     Type    Formula\n",
       "count              187   187      187        123\n",
       "unique             186     9       10         57\n",
       "top     ENTEC 13-10-20  PIHC  Majemuk   15-15-15\n",
       "freq                 2    43      123         15"
      ]
     },
     "execution_count": 5,
     "metadata": {},
     "output_type": "execute_result"
    }
   ],
   "source": [
    "# Checking how many unique values on each column to help further data exploration\n",
    "df_product_catalog.describe()"
   ]
  },
  {
   "cell_type": "markdown",
   "metadata": {},
   "source": [
    "From 187 entries, there are:\n",
    "- 186 unique product SKUs\n",
    "- 9 brands,\n",
    "- 10 types, &\n",
    "- 57 unique formulas\n",
    "\n",
    "The occurence of Formula is equal to the frequency of Type \"Majemuk\". Therefore, Formula is not null only for that Type."
   ]
  },
  {
   "cell_type": "code",
   "execution_count": 6,
   "metadata": {},
   "outputs": [],
   "source": [
    "df_product_catalog = df_product_catalog.drop_duplicates()\n",
    "df_product_catalog = df_product_catalog.reset_index(drop=True)"
   ]
  },
  {
   "cell_type": "code",
   "execution_count": 7,
   "metadata": {},
   "outputs": [
    {
     "name": "stdout",
     "output_type": "stream",
     "text": [
      "<class 'pandas.core.frame.DataFrame'>\n",
      "Index: 186 entries, 0 to 186\n",
      "Data columns (total 4 columns):\n",
      " #   Column       Non-Null Count  Dtype \n",
      "---  ------       --------------  ----- \n",
      " 0   Product SKU  186 non-null    object\n",
      " 1   Brand        186 non-null    object\n",
      " 2   Type         186 non-null    object\n",
      " 3   Formula      122 non-null    object\n",
      "dtypes: object(4)\n",
      "memory usage: 7.3+ KB\n"
     ]
    }
   ],
   "source": [
    "df_product_catalog.info()"
   ]
  },
  {
   "cell_type": "code",
   "execution_count": 8,
   "metadata": {},
   "outputs": [
    {
     "data": {
      "text/html": [
       "<div>\n",
       "<style scoped>\n",
       "    .dataframe tbody tr th:only-of-type {\n",
       "        vertical-align: middle;\n",
       "    }\n",
       "\n",
       "    .dataframe tbody tr th {\n",
       "        vertical-align: top;\n",
       "    }\n",
       "\n",
       "    .dataframe thead th {\n",
       "        text-align: right;\n",
       "    }\n",
       "</style>\n",
       "<table border=\"1\" class=\"dataframe\">\n",
       "  <thead>\n",
       "    <tr style=\"text-align: right;\">\n",
       "      <th></th>\n",
       "      <th>Product SKU</th>\n",
       "      <th>Brand</th>\n",
       "      <th>Type</th>\n",
       "      <th>Formula</th>\n",
       "    </tr>\n",
       "  </thead>\n",
       "  <tbody>\n",
       "    <tr>\n",
       "      <th>count</th>\n",
       "      <td>186</td>\n",
       "      <td>186</td>\n",
       "      <td>186</td>\n",
       "      <td>122</td>\n",
       "    </tr>\n",
       "    <tr>\n",
       "      <th>unique</th>\n",
       "      <td>186</td>\n",
       "      <td>9</td>\n",
       "      <td>10</td>\n",
       "      <td>57</td>\n",
       "    </tr>\n",
       "    <tr>\n",
       "      <th>top</th>\n",
       "      <td>Urea Petro</td>\n",
       "      <td>PIHC</td>\n",
       "      <td>Majemuk</td>\n",
       "      <td>15-15-15</td>\n",
       "    </tr>\n",
       "    <tr>\n",
       "      <th>freq</th>\n",
       "      <td>1</td>\n",
       "      <td>43</td>\n",
       "      <td>122</td>\n",
       "      <td>15</td>\n",
       "    </tr>\n",
       "  </tbody>\n",
       "</table>\n",
       "</div>"
      ],
      "text/plain": [
       "       Product SKU Brand     Type    Formula\n",
       "count          186   186      186        122\n",
       "unique         186     9       10         57\n",
       "top     Urea Petro  PIHC  Majemuk   15-15-15\n",
       "freq             1    43      122         15"
      ]
     },
     "execution_count": 8,
     "metadata": {},
     "output_type": "execute_result"
    }
   ],
   "source": [
    "df_product_catalog.describe()"
   ]
  },
  {
   "cell_type": "code",
   "execution_count": 9,
   "metadata": {},
   "outputs": [],
   "source": [
    "df_product_catalog = df_product_catalog.reset_index(drop=True)"
   ]
  },
  {
   "cell_type": "code",
   "execution_count": 10,
   "metadata": {},
   "outputs": [
    {
     "name": "stdout",
     "output_type": "stream",
     "text": [
      "<class 'pandas.core.frame.DataFrame'>\n",
      "RangeIndex: 186 entries, 0 to 185\n",
      "Data columns (total 4 columns):\n",
      " #   Column       Non-Null Count  Dtype \n",
      "---  ------       --------------  ----- \n",
      " 0   Product SKU  186 non-null    object\n",
      " 1   Brand        186 non-null    object\n",
      " 2   Type         186 non-null    object\n",
      " 3   Formula      122 non-null    object\n",
      "dtypes: object(4)\n",
      "memory usage: 5.9+ KB\n"
     ]
    }
   ],
   "source": [
    "df_product_catalog.info()"
   ]
  },
  {
   "cell_type": "code",
   "execution_count": 11,
   "metadata": {},
   "outputs": [
    {
     "name": "stdout",
     "output_type": "stream",
     "text": [
      "<class 'pandas.core.frame.DataFrame'>\n",
      "RangeIndex: 44002 entries, 0 to 44001\n",
      "Data columns (total 1 columns):\n",
      " #   Column        Non-Null Count  Dtype \n",
      "---  ------        --------------  ----- \n",
      " 0   Product Name  44001 non-null  object\n",
      "dtypes: object(1)\n",
      "memory usage: 343.9+ KB\n"
     ]
    }
   ],
   "source": [
    "df_product_pos_trx.info()"
   ]
  },
  {
   "cell_type": "code",
   "execution_count": 12,
   "metadata": {},
   "outputs": [
    {
     "data": {
      "text/html": [
       "<div>\n",
       "<style scoped>\n",
       "    .dataframe tbody tr th:only-of-type {\n",
       "        vertical-align: middle;\n",
       "    }\n",
       "\n",
       "    .dataframe tbody tr th {\n",
       "        vertical-align: top;\n",
       "    }\n",
       "\n",
       "    .dataframe thead th {\n",
       "        text-align: right;\n",
       "    }\n",
       "</style>\n",
       "<table border=\"1\" class=\"dataframe\">\n",
       "  <thead>\n",
       "    <tr style=\"text-align: right;\">\n",
       "      <th></th>\n",
       "      <th>Product Name</th>\n",
       "    </tr>\n",
       "  </thead>\n",
       "  <tbody>\n",
       "    <tr>\n",
       "      <th>count</th>\n",
       "      <td>44001</td>\n",
       "    </tr>\n",
       "    <tr>\n",
       "      <th>unique</th>\n",
       "      <td>44001</td>\n",
       "    </tr>\n",
       "    <tr>\n",
       "      <th>top</th>\n",
       "      <td>Pupuk Urea N 46%</td>\n",
       "    </tr>\n",
       "    <tr>\n",
       "      <th>freq</th>\n",
       "      <td>1</td>\n",
       "    </tr>\n",
       "  </tbody>\n",
       "</table>\n",
       "</div>"
      ],
      "text/plain": [
       "            Product Name\n",
       "count              44001\n",
       "unique             44001\n",
       "top     Pupuk Urea N 46%\n",
       "freq                   1"
      ]
     },
     "execution_count": 12,
     "metadata": {},
     "output_type": "execute_result"
    }
   ],
   "source": [
    "df_product_pos_trx.describe()"
   ]
  },
  {
   "cell_type": "code",
   "execution_count": 15,
   "metadata": {},
   "outputs": [],
   "source": [
    "# Create a new version of df_product_catalog & df_product_pos_trx\n",
    "product_catalog = df_product_catalog.copy()\n",
    "product_pos = df_product_pos_trx.copy()\n",
    "\n",
    "# Rename column names in the new df \"product_catalog\" & \"product_pos\"\n",
    "product_catalog = product_catalog.rename(columns={\n",
    "    \"Product SKU\": \"product_sku\",\n",
    "    \"Brand\": \"brand\",\n",
    "    \"Type\": \"type\",\n",
    "    \"Formula\": \"formula\"\n",
    "})\n",
    "product_pos = product_pos.rename(columns={\"Product Name\": \"product_name\"})\n",
    "\n",
    "# Convert all columns' values in \"product_catalog\" & \"product_pos\" to uppercase\n",
    "product_catalog[['product_sku', 'brand', 'type']] = product_catalog[['product_sku', 'brand', 'type']].astype(str).apply(lambda col: col.str.upper())\n",
    "product_pos['product_name'] = product_pos['product_name'].str.upper()"
   ]
  },
  {
   "cell_type": "code",
   "execution_count": 16,
   "metadata": {},
   "outputs": [],
   "source": [
    "# Create a new version of df_product_pos_trx\n",
    "product_pos = df_product_pos_trx.copy()\n",
    "\n",
    "# Rename column\n",
    "product_pos = product_pos.rename(columns={\"Product Name\": \"product_name\"})\n",
    "\n",
    "# Convert all columns' values in \"product_product_poscatalog\" to uppercase\n",
    "product_pos['product_name'] = product_pos['product_name'].str.upper()"
   ]
  },
  {
   "cell_type": "markdown",
   "metadata": {},
   "source": [
    "## Preprocess the columns by cleaning the values"
   ]
  },
  {
   "cell_type": "code",
   "execution_count": 17,
   "metadata": {},
   "outputs": [],
   "source": [
    "import re\n",
    "\n",
    "# Create a function to do the cleaning\n",
    "def preprocess_text(text):\n",
    "    # Trim leading and trailing spaces\n",
    "    text = text.strip()\n",
    "    \n",
    "    # Remove special characters, non-alphanumeric characters, and punctuation\n",
    "    text = re.sub(r'[^\\w\\s]', '', text)\n",
    "    \n",
    "    # Remove multiple spaces and replace them with a single space\n",
    "    text = re.sub(r'\\s+', ' ', text)\n",
    "    \n",
    "    return text"
   ]
  },
  {
   "cell_type": "code",
   "execution_count": 18,
   "metadata": {},
   "outputs": [],
   "source": [
    "# Cleaning the product names & formulas\n",
    "preprocessed_product_names = [preprocess_text(str(name)) for name in product_pos['product_name']]\n",
    "preprocessed_formula = [preprocess_text(str(formula)) for formula in product_catalog['formula']]\n",
    "\n",
    "# Put back the preprocessed values to their own columns\n",
    "product_pos['product_name'] = pd.DataFrame(preprocessed_product_names)\n",
    "product_catalog['formula'] = pd.DataFrame(preprocessed_formula)"
   ]
  },
  {
   "cell_type": "code",
   "execution_count": 19,
   "metadata": {},
   "outputs": [
    {
     "name": "stdout",
     "output_type": "stream",
     "text": [
      "<class 'pandas.core.frame.DataFrame'>\n",
      "RangeIndex: 186 entries, 0 to 185\n",
      "Data columns (total 4 columns):\n",
      " #   Column       Non-Null Count  Dtype \n",
      "---  ------       --------------  ----- \n",
      " 0   product_sku  186 non-null    object\n",
      " 1   brand        186 non-null    object\n",
      " 2   type         186 non-null    object\n",
      " 3   formula      186 non-null    object\n",
      "dtypes: object(4)\n",
      "memory usage: 5.9+ KB\n"
     ]
    }
   ],
   "source": [
    "product_catalog.info()"
   ]
  },
  {
   "cell_type": "code",
   "execution_count": 20,
   "metadata": {},
   "outputs": [
    {
     "data": {
      "text/html": [
       "<div>\n",
       "<style scoped>\n",
       "    .dataframe tbody tr th:only-of-type {\n",
       "        vertical-align: middle;\n",
       "    }\n",
       "\n",
       "    .dataframe tbody tr th {\n",
       "        vertical-align: top;\n",
       "    }\n",
       "\n",
       "    .dataframe thead th {\n",
       "        text-align: right;\n",
       "    }\n",
       "</style>\n",
       "<table border=\"1\" class=\"dataframe\">\n",
       "  <thead>\n",
       "    <tr style=\"text-align: right;\">\n",
       "      <th></th>\n",
       "      <th>product_sku</th>\n",
       "      <th>brand</th>\n",
       "      <th>type</th>\n",
       "      <th>formula</th>\n",
       "    </tr>\n",
       "  </thead>\n",
       "  <tbody>\n",
       "    <tr>\n",
       "      <th>0</th>\n",
       "      <td>UREA PETRO</td>\n",
       "      <td>PIHC</td>\n",
       "      <td>UREA</td>\n",
       "      <td>nan</td>\n",
       "    </tr>\n",
       "    <tr>\n",
       "      <th>1</th>\n",
       "      <td>UREA PIM</td>\n",
       "      <td>PIHC</td>\n",
       "      <td>UREA</td>\n",
       "      <td>nan</td>\n",
       "    </tr>\n",
       "    <tr>\n",
       "      <th>2</th>\n",
       "      <td>UREA NITREA</td>\n",
       "      <td>PIHC</td>\n",
       "      <td>UREA</td>\n",
       "      <td>nan</td>\n",
       "    </tr>\n",
       "    <tr>\n",
       "      <th>3</th>\n",
       "      <td>UREA DAUN BUAH</td>\n",
       "      <td>PIHC</td>\n",
       "      <td>UREA</td>\n",
       "      <td>nan</td>\n",
       "    </tr>\n",
       "    <tr>\n",
       "      <th>4</th>\n",
       "      <td>UREA PUSRI</td>\n",
       "      <td>PIHC</td>\n",
       "      <td>UREA</td>\n",
       "      <td>nan</td>\n",
       "    </tr>\n",
       "  </tbody>\n",
       "</table>\n",
       "</div>"
      ],
      "text/plain": [
       "      product_sku brand  type formula\n",
       "0      UREA PETRO  PIHC  UREA     nan\n",
       "1        UREA PIM  PIHC  UREA     nan\n",
       "2     UREA NITREA  PIHC  UREA     nan\n",
       "3  UREA DAUN BUAH  PIHC  UREA     nan\n",
       "4      UREA PUSRI  PIHC  UREA     nan"
      ]
     },
     "execution_count": 20,
     "metadata": {},
     "output_type": "execute_result"
    }
   ],
   "source": [
    "product_catalog.head()"
   ]
  },
  {
   "cell_type": "code",
   "execution_count": 21,
   "metadata": {},
   "outputs": [
    {
     "data": {
      "text/html": [
       "<div>\n",
       "<style scoped>\n",
       "    .dataframe tbody tr th:only-of-type {\n",
       "        vertical-align: middle;\n",
       "    }\n",
       "\n",
       "    .dataframe tbody tr th {\n",
       "        vertical-align: top;\n",
       "    }\n",
       "\n",
       "    .dataframe thead th {\n",
       "        text-align: right;\n",
       "    }\n",
       "</style>\n",
       "<table border=\"1\" class=\"dataframe\">\n",
       "  <thead>\n",
       "    <tr style=\"text-align: right;\">\n",
       "      <th></th>\n",
       "      <th>product_sku</th>\n",
       "      <th>brand</th>\n",
       "      <th>type</th>\n",
       "      <th>formula</th>\n",
       "    </tr>\n",
       "  </thead>\n",
       "  <tbody>\n",
       "    <tr>\n",
       "      <th>count</th>\n",
       "      <td>186</td>\n",
       "      <td>186</td>\n",
       "      <td>186</td>\n",
       "      <td>186</td>\n",
       "    </tr>\n",
       "    <tr>\n",
       "      <th>unique</th>\n",
       "      <td>186</td>\n",
       "      <td>9</td>\n",
       "      <td>10</td>\n",
       "      <td>58</td>\n",
       "    </tr>\n",
       "    <tr>\n",
       "      <th>top</th>\n",
       "      <td>UREA PETRO</td>\n",
       "      <td>PIHC</td>\n",
       "      <td>MAJEMUK</td>\n",
       "      <td>nan</td>\n",
       "    </tr>\n",
       "    <tr>\n",
       "      <th>freq</th>\n",
       "      <td>1</td>\n",
       "      <td>43</td>\n",
       "      <td>122</td>\n",
       "      <td>64</td>\n",
       "    </tr>\n",
       "  </tbody>\n",
       "</table>\n",
       "</div>"
      ],
      "text/plain": [
       "       product_sku brand     type formula\n",
       "count          186   186      186     186\n",
       "unique         186     9       10      58\n",
       "top     UREA PETRO  PIHC  MAJEMUK     nan\n",
       "freq             1    43      122      64"
      ]
     },
     "execution_count": 21,
     "metadata": {},
     "output_type": "execute_result"
    }
   ],
   "source": [
    "product_catalog.describe()"
   ]
  },
  {
   "cell_type": "markdown",
   "metadata": {},
   "source": [
    "In `formula`, the count increases to 186 due to the rise of `nan` after the data cleaning in that column.\n",
    "The non-nan values can be used to tag the product names as type `MAJEMUK` as long as the product names contain the formula."
   ]
  },
  {
   "cell_type": "code",
   "execution_count": 22,
   "metadata": {},
   "outputs": [],
   "source": [
    "# Dataset from the PoS is joined by product SKUs data from\n",
    "# dataset `product_catalog` using join keys `product_name` & `product_sku`.\n",
    "product_pos = product_pos.merge(\n",
    "    product_catalog['product_sku'],\n",
    "    left_on='product_name',\n",
    "    right_on='product_sku',\n",
    "    how='left')"
   ]
  },
  {
   "cell_type": "code",
   "execution_count": 23,
   "metadata": {},
   "outputs": [
    {
     "data": {
      "text/html": [
       "<div>\n",
       "<style scoped>\n",
       "    .dataframe tbody tr th:only-of-type {\n",
       "        vertical-align: middle;\n",
       "    }\n",
       "\n",
       "    .dataframe tbody tr th {\n",
       "        vertical-align: top;\n",
       "    }\n",
       "\n",
       "    .dataframe thead th {\n",
       "        text-align: right;\n",
       "    }\n",
       "</style>\n",
       "<table border=\"1\" class=\"dataframe\">\n",
       "  <thead>\n",
       "    <tr style=\"text-align: right;\">\n",
       "      <th></th>\n",
       "      <th>product_name</th>\n",
       "      <th>product_sku</th>\n",
       "    </tr>\n",
       "  </thead>\n",
       "  <tbody>\n",
       "    <tr>\n",
       "      <th>0</th>\n",
       "      <td>PUPUK UREA N 46</td>\n",
       "      <td>NaN</td>\n",
       "    </tr>\n",
       "    <tr>\n",
       "      <th>1</th>\n",
       "      <td>PUPUK AMONIUM SULFAT ZA</td>\n",
       "      <td>NaN</td>\n",
       "    </tr>\n",
       "    <tr>\n",
       "      <th>2</th>\n",
       "      <td>PUPUK SUPER FOSFAT SP36</td>\n",
       "      <td>NaN</td>\n",
       "    </tr>\n",
       "    <tr>\n",
       "      <th>3</th>\n",
       "      <td>PUPUK NPK PHONSKA</td>\n",
       "      <td>NaN</td>\n",
       "    </tr>\n",
       "    <tr>\n",
       "      <th>4</th>\n",
       "      <td>PUPUK NPK FORMULA KHUSUS</td>\n",
       "      <td>NaN</td>\n",
       "    </tr>\n",
       "  </tbody>\n",
       "</table>\n",
       "</div>"
      ],
      "text/plain": [
       "               product_name product_sku\n",
       "0           PUPUK UREA N 46         NaN\n",
       "1   PUPUK AMONIUM SULFAT ZA         NaN\n",
       "2   PUPUK SUPER FOSFAT SP36         NaN\n",
       "3         PUPUK NPK PHONSKA         NaN\n",
       "4  PUPUK NPK FORMULA KHUSUS         NaN"
      ]
     },
     "execution_count": 23,
     "metadata": {},
     "output_type": "execute_result"
    }
   ],
   "source": [
    "product_pos.head()"
   ]
  },
  {
   "cell_type": "code",
   "execution_count": 24,
   "metadata": {},
   "outputs": [
    {
     "name": "stdout",
     "output_type": "stream",
     "text": [
      "<class 'pandas.core.frame.DataFrame'>\n",
      "RangeIndex: 44002 entries, 0 to 44001\n",
      "Data columns (total 2 columns):\n",
      " #   Column        Non-Null Count  Dtype \n",
      "---  ------        --------------  ----- \n",
      " 0   product_name  44002 non-null  object\n",
      " 1   product_sku   39 non-null     object\n",
      "dtypes: object(2)\n",
      "memory usage: 687.7+ KB\n"
     ]
    }
   ],
   "source": [
    "product_pos.info()"
   ]
  },
  {
   "cell_type": "markdown",
   "metadata": {},
   "source": [
    "Turns out, there are only 39 out of 44,002 product names which can be mapped."
   ]
  },
  {
   "cell_type": "markdown",
   "metadata": {},
   "source": [
    "# Mapping"
   ]
  },
  {
   "cell_type": "code",
   "execution_count": 25,
   "metadata": {},
   "outputs": [],
   "source": [
    "list_product_type = list(product_catalog['type'].unique())\n",
    "list_formula = list(product_catalog['formula'].unique())"
   ]
  },
  {
   "cell_type": "code",
   "execution_count": 26,
   "metadata": {},
   "outputs": [
    {
     "data": {
      "text/plain": [
       "['UREA',\n",
       " 'NITROGEN',\n",
       " 'ZA',\n",
       " 'ZK',\n",
       " 'MIKRO',\n",
       " 'FOSFAT',\n",
       " 'ORGANIK',\n",
       " 'MAJEMUK',\n",
       " 'KALIUM',\n",
       " 'MG']"
      ]
     },
     "execution_count": 26,
     "metadata": {},
     "output_type": "execute_result"
    }
   ],
   "source": [
    "list_product_type"
   ]
  },
  {
   "cell_type": "code",
   "execution_count": 27,
   "metadata": {},
   "outputs": [
    {
     "data": {
      "text/plain": [
       "['nan',\n",
       " '151515',\n",
       " '121217',\n",
       " '12622',\n",
       " '16168',\n",
       " '20200',\n",
       " '16200',\n",
       " '161616',\n",
       " '15920',\n",
       " '3068',\n",
       " '281010',\n",
       " '201010',\n",
       " '201018',\n",
       " '13627',\n",
       " '181014',\n",
       " '121120',\n",
       " '131324',\n",
       " '92525',\n",
       " '15150',\n",
       " '12610',\n",
       " '05234',\n",
       " '8939',\n",
       " '15156',\n",
       " '13827',\n",
       " '7635',\n",
       " '151022',\n",
       " '21147',\n",
       " '18614',\n",
       " '18810',\n",
       " '201012',\n",
       " '28613',\n",
       " '81519',\n",
       " '9156',\n",
       " '12624',\n",
       " '05232',\n",
       " '15015',\n",
       " '12600',\n",
       " '121236',\n",
       " '181818',\n",
       " '61828',\n",
       " '01617',\n",
       " '13046',\n",
       " '1370463',\n",
       " '131121',\n",
       " '2577',\n",
       " '121118',\n",
       " '18126',\n",
       " '19919',\n",
       " '05035',\n",
       " '18460',\n",
       " '7634',\n",
       " '161018',\n",
       " '131020',\n",
       " '15520',\n",
       " '131111',\n",
       " '151020',\n",
       " '15200',\n",
       " '20614']"
      ]
     },
     "execution_count": 27,
     "metadata": {},
     "output_type": "execute_result"
    }
   ],
   "source": [
    "list_formula"
   ]
  },
  {
   "cell_type": "code",
   "execution_count": 28,
   "metadata": {},
   "outputs": [],
   "source": [
    "list_formula.remove('nan')"
   ]
  },
  {
   "cell_type": "code",
   "execution_count": 29,
   "metadata": {},
   "outputs": [],
   "source": [
    "# Create a function to map product type to product name\n",
    "def map_product_type(product_name):\n",
    "    for product_type in list_product_type:\n",
    "        if product_type in product_name:\n",
    "            return product_type\n",
    "    return \"UNKNOWN\"\n",
    "\n",
    "# Create a function to map product type `Majemuk` to product name which contains a certain formula\n",
    "def map_product_type_majemuk(product_name):\n",
    "    for formula in list_formula:\n",
    "        if formula in product_name:\n",
    "            return \"MAJEMUK\"\n",
    "    return \"UNKNOWN\""
   ]
  },
  {
   "cell_type": "code",
   "execution_count": 30,
   "metadata": {},
   "outputs": [],
   "source": [
    "# Mapping process using function `map_product_type()` & `map_product_type_majemuk()`\n",
    "mapped_product_types = [map_product_type(str(name)) for name in product_pos['product_name']]\n",
    "mapped_product_types_majemuk = [map_product_type_majemuk(str(name)) for name in product_pos['product_name']]\n",
    "\n",
    "# Convert the list of the mapped product types to a DataFrame column within product_pos\n",
    "product_pos['product_type_map'] = pd.DataFrame(mapped_product_types)\n",
    "product_pos['product_type_map_majemuk'] = pd.DataFrame(mapped_product_types_majemuk)"
   ]
  },
  {
   "cell_type": "code",
   "execution_count": 31,
   "metadata": {},
   "outputs": [
    {
     "data": {
      "text/html": [
       "<div>\n",
       "<style scoped>\n",
       "    .dataframe tbody tr th:only-of-type {\n",
       "        vertical-align: middle;\n",
       "    }\n",
       "\n",
       "    .dataframe tbody tr th {\n",
       "        vertical-align: top;\n",
       "    }\n",
       "\n",
       "    .dataframe thead th {\n",
       "        text-align: right;\n",
       "    }\n",
       "</style>\n",
       "<table border=\"1\" class=\"dataframe\">\n",
       "  <thead>\n",
       "    <tr style=\"text-align: right;\">\n",
       "      <th></th>\n",
       "      <th>product_name</th>\n",
       "      <th>product_sku</th>\n",
       "      <th>product_type_map</th>\n",
       "      <th>product_type_map_majemuk</th>\n",
       "    </tr>\n",
       "  </thead>\n",
       "  <tbody>\n",
       "    <tr>\n",
       "      <th>0</th>\n",
       "      <td>PUPUK UREA N 46</td>\n",
       "      <td>NaN</td>\n",
       "      <td>UREA</td>\n",
       "      <td>UNKNOWN</td>\n",
       "    </tr>\n",
       "    <tr>\n",
       "      <th>1</th>\n",
       "      <td>PUPUK AMONIUM SULFAT ZA</td>\n",
       "      <td>NaN</td>\n",
       "      <td>ZA</td>\n",
       "      <td>UNKNOWN</td>\n",
       "    </tr>\n",
       "    <tr>\n",
       "      <th>2</th>\n",
       "      <td>PUPUK SUPER FOSFAT SP36</td>\n",
       "      <td>NaN</td>\n",
       "      <td>FOSFAT</td>\n",
       "      <td>UNKNOWN</td>\n",
       "    </tr>\n",
       "    <tr>\n",
       "      <th>3</th>\n",
       "      <td>PUPUK NPK PHONSKA</td>\n",
       "      <td>NaN</td>\n",
       "      <td>UNKNOWN</td>\n",
       "      <td>UNKNOWN</td>\n",
       "    </tr>\n",
       "    <tr>\n",
       "      <th>4</th>\n",
       "      <td>PUPUK NPK FORMULA KHUSUS</td>\n",
       "      <td>NaN</td>\n",
       "      <td>UNKNOWN</td>\n",
       "      <td>UNKNOWN</td>\n",
       "    </tr>\n",
       "  </tbody>\n",
       "</table>\n",
       "</div>"
      ],
      "text/plain": [
       "               product_name product_sku product_type_map  \\\n",
       "0           PUPUK UREA N 46         NaN             UREA   \n",
       "1   PUPUK AMONIUM SULFAT ZA         NaN               ZA   \n",
       "2   PUPUK SUPER FOSFAT SP36         NaN           FOSFAT   \n",
       "3         PUPUK NPK PHONSKA         NaN          UNKNOWN   \n",
       "4  PUPUK NPK FORMULA KHUSUS         NaN          UNKNOWN   \n",
       "\n",
       "  product_type_map_majemuk  \n",
       "0                  UNKNOWN  \n",
       "1                  UNKNOWN  \n",
       "2                  UNKNOWN  \n",
       "3                  UNKNOWN  \n",
       "4                  UNKNOWN  "
      ]
     },
     "execution_count": 31,
     "metadata": {},
     "output_type": "execute_result"
    }
   ],
   "source": [
    "product_pos.head()"
   ]
  },
  {
   "cell_type": "code",
   "execution_count": 32,
   "metadata": {},
   "outputs": [
    {
     "name": "stdout",
     "output_type": "stream",
     "text": [
      "<class 'pandas.core.frame.DataFrame'>\n",
      "RangeIndex: 44002 entries, 0 to 44001\n",
      "Data columns (total 4 columns):\n",
      " #   Column                    Non-Null Count  Dtype \n",
      "---  ------                    --------------  ----- \n",
      " 0   product_name              44002 non-null  object\n",
      " 1   product_sku               39 non-null     object\n",
      " 2   product_type_map          44002 non-null  object\n",
      " 3   product_type_map_majemuk  44002 non-null  object\n",
      "dtypes: object(4)\n",
      "memory usage: 1.3+ MB\n"
     ]
    }
   ],
   "source": [
    "product_pos.info()"
   ]
  },
  {
   "cell_type": "code",
   "execution_count": 33,
   "metadata": {},
   "outputs": [
    {
     "data": {
      "text/plain": [
       "product_type_map\n",
       "FOSFAT         11\n",
       "KALIUM         22\n",
       "MAJEMUK        18\n",
       "MG             68\n",
       "MIKRO          37\n",
       "NITROGEN        4\n",
       "ORGANIK        44\n",
       "UNKNOWN     42371\n",
       "UREA          727\n",
       "ZA            656\n",
       "ZK             44\n",
       "Name: product_name, dtype: int64"
      ]
     },
     "execution_count": 33,
     "metadata": {},
     "output_type": "execute_result"
    }
   ],
   "source": [
    "product_pos.groupby(['product_type_map'])['product_name'].count()"
   ]
  },
  {
   "cell_type": "markdown",
   "metadata": {},
   "source": [
    "There are 42371 product names with no `product_type`"
   ]
  },
  {
   "cell_type": "code",
   "execution_count": 34,
   "metadata": {},
   "outputs": [
    {
     "data": {
      "text/plain": [
       "product_type_map_majemuk\n",
       "MAJEMUK     1143\n",
       "UNKNOWN    42859\n",
       "Name: product_name, dtype: int64"
      ]
     },
     "execution_count": 34,
     "metadata": {},
     "output_type": "execute_result"
    }
   ],
   "source": [
    "product_pos.groupby(['product_type_map_majemuk'])['product_name'].count()"
   ]
  },
  {
   "cell_type": "markdown",
   "metadata": {},
   "source": [
    "Most of the `product_name`s are not mapped still --> 42371 out of 44,002"
   ]
  },
  {
   "cell_type": "code",
   "execution_count": 35,
   "metadata": {},
   "outputs": [],
   "source": [
    "import numpy as np\n",
    "\n",
    "# Replace the values in \"product_type_map\" \n",
    "product_pos['product_type_map'] = np.where(\n",
    "    product_pos['product_type_map_majemuk'] != 'UNKNOWN',\n",
    "    product_pos['product_type_map_majemuk'],\n",
    "    product_pos['product_type_map']\n",
    ")"
   ]
  },
  {
   "cell_type": "code",
   "execution_count": 36,
   "metadata": {},
   "outputs": [],
   "source": [
    "# Replace the values in \"product_type_map\" \n",
    "product_pos['product_type_map'] = np.where(\n",
    "    product_pos['product_type_map_majemuk'] != 'UNKNOWN',\n",
    "    product_pos['product_type_map_majemuk'],\n",
    "    product_pos['product_type_map']\n",
    ")"
   ]
  },
  {
   "cell_type": "code",
   "execution_count": 37,
   "metadata": {},
   "outputs": [
    {
     "data": {
      "text/html": [
       "<div>\n",
       "<style scoped>\n",
       "    .dataframe tbody tr th:only-of-type {\n",
       "        vertical-align: middle;\n",
       "    }\n",
       "\n",
       "    .dataframe tbody tr th {\n",
       "        vertical-align: top;\n",
       "    }\n",
       "\n",
       "    .dataframe thead th {\n",
       "        text-align: right;\n",
       "    }\n",
       "</style>\n",
       "<table border=\"1\" class=\"dataframe\">\n",
       "  <thead>\n",
       "    <tr style=\"text-align: right;\">\n",
       "      <th></th>\n",
       "      <th>product_name</th>\n",
       "      <th>product_sku</th>\n",
       "      <th>product_type_map</th>\n",
       "      <th>product_type_map_majemuk</th>\n",
       "    </tr>\n",
       "  </thead>\n",
       "  <tbody>\n",
       "    <tr>\n",
       "      <th>730</th>\n",
       "      <td>NPK PELANGI 151515</td>\n",
       "      <td>NaN</td>\n",
       "      <td>MAJEMUK</td>\n",
       "      <td>MAJEMUK</td>\n",
       "    </tr>\n",
       "    <tr>\n",
       "      <th>731</th>\n",
       "      <td>NPK PELANGI 161616</td>\n",
       "      <td>NaN</td>\n",
       "      <td>MAJEMUK</td>\n",
       "      <td>MAJEMUK</td>\n",
       "    </tr>\n",
       "    <tr>\n",
       "      <th>732</th>\n",
       "      <td>NPK PELANGI 1212172</td>\n",
       "      <td>NaN</td>\n",
       "      <td>MAJEMUK</td>\n",
       "      <td>MAJEMUK</td>\n",
       "    </tr>\n",
       "    <tr>\n",
       "      <th>733</th>\n",
       "      <td>NPK PELANGI 136274B</td>\n",
       "      <td>NaN</td>\n",
       "      <td>MAJEMUK</td>\n",
       "      <td>MAJEMUK</td>\n",
       "    </tr>\n",
       "    <tr>\n",
       "      <th>1001</th>\n",
       "      <td>NPK 161616 PAK TANI</td>\n",
       "      <td>NaN</td>\n",
       "      <td>MAJEMUK</td>\n",
       "      <td>MAJEMUK</td>\n",
       "    </tr>\n",
       "  </tbody>\n",
       "</table>\n",
       "</div>"
      ],
      "text/plain": [
       "             product_name product_sku product_type_map  \\\n",
       "730    NPK PELANGI 151515         NaN          MAJEMUK   \n",
       "731    NPK PELANGI 161616         NaN          MAJEMUK   \n",
       "732   NPK PELANGI 1212172         NaN          MAJEMUK   \n",
       "733   NPK PELANGI 136274B         NaN          MAJEMUK   \n",
       "1001  NPK 161616 PAK TANI         NaN          MAJEMUK   \n",
       "\n",
       "     product_type_map_majemuk  \n",
       "730                   MAJEMUK  \n",
       "731                   MAJEMUK  \n",
       "732                   MAJEMUK  \n",
       "733                   MAJEMUK  \n",
       "1001                  MAJEMUK  "
      ]
     },
     "execution_count": 37,
     "metadata": {},
     "output_type": "execute_result"
    }
   ],
   "source": [
    "product_pos[product_pos['product_type_map_majemuk'] == 'MAJEMUK'].head()"
   ]
  },
  {
   "cell_type": "code",
   "execution_count": 38,
   "metadata": {},
   "outputs": [
    {
     "data": {
      "text/plain": [
       "product_type_map\n",
       "FOSFAT         11\n",
       "KALIUM         22\n",
       "MAJEMUK      1153\n",
       "MG             16\n",
       "MIKRO          35\n",
       "NITROGEN        4\n",
       "ORGANIK        44\n",
       "UNKNOWN     41292\n",
       "UREA          725\n",
       "ZA            656\n",
       "ZK             44\n",
       "Name: product_name, dtype: int64"
      ]
     },
     "execution_count": 38,
     "metadata": {},
     "output_type": "execute_result"
    }
   ],
   "source": [
    "product_pos.groupby(['product_type_map'])['product_name'].count()"
   ]
  },
  {
   "cell_type": "code",
   "execution_count": 39,
   "metadata": {},
   "outputs": [],
   "source": [
    "list_brand = list(product_catalog['brand'].unique())"
   ]
  },
  {
   "cell_type": "code",
   "execution_count": 40,
   "metadata": {},
   "outputs": [
    {
     "data": {
      "text/plain": [
       "['PIHC',\n",
       " 'MUTIARA',\n",
       " 'MAHKOTA',\n",
       " 'PAK TANI',\n",
       " 'YARA',\n",
       " 'TAWON',\n",
       " 'DGW/HEXTAR',\n",
       " 'BASF',\n",
       " 'LAOYING']"
      ]
     },
     "execution_count": 40,
     "metadata": {},
     "output_type": "execute_result"
    }
   ],
   "source": [
    "list_brand"
   ]
  },
  {
   "cell_type": "code",
   "execution_count": 41,
   "metadata": {},
   "outputs": [],
   "source": [
    "# Create a function to map brand to product name\n",
    "def map_brand(product_name):\n",
    "    for brand in list_brand:\n",
    "        if brand in product_name:\n",
    "            return brand\n",
    "    return \"UNKNOWN\""
   ]
  },
  {
   "cell_type": "code",
   "execution_count": 42,
   "metadata": {},
   "outputs": [],
   "source": [
    "# Mapping process using function `map_brand()`\n",
    "# Convert argument `name` within the function `map_brand()` to avoid this error:\n",
    "#   TypeError: argument of type 'float' is not iterable\n",
    "\n",
    "mapped_brands = [map_brand(str(name)) for name in product_pos['product_name']]\n",
    "\n",
    "# Convert the list of the mapped brands to a DataFrame column within product_pos\n",
    "product_pos['brand_map'] = pd.DataFrame(mapped_brands)"
   ]
  },
  {
   "cell_type": "code",
   "execution_count": 43,
   "metadata": {},
   "outputs": [
    {
     "data": {
      "text/plain": [
       "brand_map\n",
       "BASF            8\n",
       "LAOYING        45\n",
       "MAHKOTA       149\n",
       "MUTIARA       404\n",
       "PAK TANI      252\n",
       "TAWON         273\n",
       "UNKNOWN     42610\n",
       "YARA          261\n",
       "Name: product_name, dtype: int64"
      ]
     },
     "execution_count": 43,
     "metadata": {},
     "output_type": "execute_result"
    }
   ],
   "source": [
    "product_pos.groupby(['brand_map'])['product_name'].count()"
   ]
  },
  {
   "cell_type": "code",
   "execution_count": 44,
   "metadata": {},
   "outputs": [
    {
     "data": {
      "text/html": [
       "<div>\n",
       "<style scoped>\n",
       "    .dataframe tbody tr th:only-of-type {\n",
       "        vertical-align: middle;\n",
       "    }\n",
       "\n",
       "    .dataframe tbody tr th {\n",
       "        vertical-align: top;\n",
       "    }\n",
       "\n",
       "    .dataframe thead th {\n",
       "        text-align: right;\n",
       "    }\n",
       "</style>\n",
       "<table border=\"1\" class=\"dataframe\">\n",
       "  <thead>\n",
       "    <tr style=\"text-align: right;\">\n",
       "      <th></th>\n",
       "      <th>product_name</th>\n",
       "      <th>product_sku</th>\n",
       "      <th>product_type_map</th>\n",
       "      <th>product_type_map_majemuk</th>\n",
       "      <th>brand_map</th>\n",
       "    </tr>\n",
       "  </thead>\n",
       "  <tbody>\n",
       "    <tr>\n",
       "      <th>81</th>\n",
       "      <td>KCL MAHKOTA</td>\n",
       "      <td>NaN</td>\n",
       "      <td>UNKNOWN</td>\n",
       "      <td>UNKNOWN</td>\n",
       "      <td>MAHKOTA</td>\n",
       "    </tr>\n",
       "    <tr>\n",
       "      <th>82</th>\n",
       "      <td>MUTIARA</td>\n",
       "      <td>NaN</td>\n",
       "      <td>UNKNOWN</td>\n",
       "      <td>UNKNOWN</td>\n",
       "      <td>MUTIARA</td>\n",
       "    </tr>\n",
       "    <tr>\n",
       "      <th>83</th>\n",
       "      <td>MUTIARA GROWER</td>\n",
       "      <td>NaN</td>\n",
       "      <td>UNKNOWN</td>\n",
       "      <td>UNKNOWN</td>\n",
       "      <td>MUTIARA</td>\n",
       "    </tr>\n",
       "    <tr>\n",
       "      <th>366</th>\n",
       "      <td>ZA TAWON50KG</td>\n",
       "      <td>NaN</td>\n",
       "      <td>ZA</td>\n",
       "      <td>UNKNOWN</td>\n",
       "      <td>TAWON</td>\n",
       "    </tr>\n",
       "    <tr>\n",
       "      <th>410</th>\n",
       "      <td>DAP TAWON</td>\n",
       "      <td>NaN</td>\n",
       "      <td>UNKNOWN</td>\n",
       "      <td>UNKNOWN</td>\n",
       "      <td>TAWON</td>\n",
       "    </tr>\n",
       "  </tbody>\n",
       "</table>\n",
       "</div>"
      ],
      "text/plain": [
       "       product_name product_sku product_type_map product_type_map_majemuk  \\\n",
       "81      KCL MAHKOTA         NaN          UNKNOWN                  UNKNOWN   \n",
       "82          MUTIARA         NaN          UNKNOWN                  UNKNOWN   \n",
       "83   MUTIARA GROWER         NaN          UNKNOWN                  UNKNOWN   \n",
       "366    ZA TAWON50KG         NaN               ZA                  UNKNOWN   \n",
       "410       DAP TAWON         NaN          UNKNOWN                  UNKNOWN   \n",
       "\n",
       "    brand_map  \n",
       "81    MAHKOTA  \n",
       "82    MUTIARA  \n",
       "83    MUTIARA  \n",
       "366     TAWON  \n",
       "410     TAWON  "
      ]
     },
     "execution_count": 44,
     "metadata": {},
     "output_type": "execute_result"
    }
   ],
   "source": [
    "product_pos[product_pos['brand_map'] != 'UNKNOWN'].head()"
   ]
  },
  {
   "cell_type": "code",
   "execution_count": 45,
   "metadata": {},
   "outputs": [],
   "source": [
    "product_pos = product_pos.drop(['product_type_map_majemuk'], axis=1)"
   ]
  },
  {
   "cell_type": "code",
   "execution_count": 46,
   "metadata": {},
   "outputs": [
    {
     "data": {
      "text/html": [
       "<div>\n",
       "<style scoped>\n",
       "    .dataframe tbody tr th:only-of-type {\n",
       "        vertical-align: middle;\n",
       "    }\n",
       "\n",
       "    .dataframe tbody tr th {\n",
       "        vertical-align: top;\n",
       "    }\n",
       "\n",
       "    .dataframe thead th {\n",
       "        text-align: right;\n",
       "    }\n",
       "</style>\n",
       "<table border=\"1\" class=\"dataframe\">\n",
       "  <thead>\n",
       "    <tr style=\"text-align: right;\">\n",
       "      <th></th>\n",
       "      <th>product_name</th>\n",
       "      <th>product_sku</th>\n",
       "      <th>product_type_map</th>\n",
       "      <th>brand_map</th>\n",
       "    </tr>\n",
       "  </thead>\n",
       "  <tbody>\n",
       "    <tr>\n",
       "      <th>81</th>\n",
       "      <td>KCL MAHKOTA</td>\n",
       "      <td>NaN</td>\n",
       "      <td>UNKNOWN</td>\n",
       "      <td>MAHKOTA</td>\n",
       "    </tr>\n",
       "    <tr>\n",
       "      <th>82</th>\n",
       "      <td>MUTIARA</td>\n",
       "      <td>NaN</td>\n",
       "      <td>UNKNOWN</td>\n",
       "      <td>MUTIARA</td>\n",
       "    </tr>\n",
       "    <tr>\n",
       "      <th>83</th>\n",
       "      <td>MUTIARA GROWER</td>\n",
       "      <td>NaN</td>\n",
       "      <td>UNKNOWN</td>\n",
       "      <td>MUTIARA</td>\n",
       "    </tr>\n",
       "    <tr>\n",
       "      <th>366</th>\n",
       "      <td>ZA TAWON50KG</td>\n",
       "      <td>NaN</td>\n",
       "      <td>ZA</td>\n",
       "      <td>TAWON</td>\n",
       "    </tr>\n",
       "    <tr>\n",
       "      <th>410</th>\n",
       "      <td>DAP TAWON</td>\n",
       "      <td>NaN</td>\n",
       "      <td>UNKNOWN</td>\n",
       "      <td>TAWON</td>\n",
       "    </tr>\n",
       "  </tbody>\n",
       "</table>\n",
       "</div>"
      ],
      "text/plain": [
       "       product_name product_sku product_type_map brand_map\n",
       "81      KCL MAHKOTA         NaN          UNKNOWN   MAHKOTA\n",
       "82          MUTIARA         NaN          UNKNOWN   MUTIARA\n",
       "83   MUTIARA GROWER         NaN          UNKNOWN   MUTIARA\n",
       "366    ZA TAWON50KG         NaN               ZA     TAWON\n",
       "410       DAP TAWON         NaN          UNKNOWN     TAWON"
      ]
     },
     "execution_count": 46,
     "metadata": {},
     "output_type": "execute_result"
    }
   ],
   "source": [
    "product_pos[product_pos['brand_map'] != 'UNKNOWN'].head()"
   ]
  },
  {
   "cell_type": "code",
   "execution_count": 47,
   "metadata": {},
   "outputs": [
    {
     "data": {
      "text/plain": [
       "product_name        2710\n",
       "product_sku           22\n",
       "product_type_map    2710\n",
       "brand_map           2710\n",
       "dtype: int64"
      ]
     },
     "execution_count": 47,
     "metadata": {},
     "output_type": "execute_result"
    }
   ],
   "source": [
    "product_pos[product_pos['product_type_map'] != 'UNKNOWN'].count()"
   ]
  },
  {
   "cell_type": "code",
   "execution_count": 48,
   "metadata": {},
   "outputs": [
    {
     "data": {
      "text/plain": [
       "product_name        1392\n",
       "product_sku            2\n",
       "product_type_map    1392\n",
       "brand_map           1392\n",
       "dtype: int64"
      ]
     },
     "execution_count": 48,
     "metadata": {},
     "output_type": "execute_result"
    }
   ],
   "source": [
    "product_pos[product_pos['brand_map'] != 'UNKNOWN'].count()"
   ]
  },
  {
   "cell_type": "code",
   "execution_count": 49,
   "metadata": {},
   "outputs": [
    {
     "data": {
      "text/plain": [
       "product_type_map\n",
       "FOSFAT         11\n",
       "KALIUM         22\n",
       "MAJEMUK      1153\n",
       "MG             16\n",
       "MIKRO          35\n",
       "NITROGEN        4\n",
       "ORGANIK        44\n",
       "UNKNOWN     41292\n",
       "UREA          725\n",
       "ZA            656\n",
       "ZK             44\n",
       "Name: product_name, dtype: int64"
      ]
     },
     "execution_count": 49,
     "metadata": {},
     "output_type": "execute_result"
    }
   ],
   "source": [
    "product_pos.groupby(['product_type_map'])['product_name'].count()"
   ]
  },
  {
   "cell_type": "code",
   "execution_count": 50,
   "metadata": {},
   "outputs": [
    {
     "name": "stdout",
     "output_type": "stream",
     "text": [
      "<class 'pandas.core.frame.DataFrame'>\n",
      "RangeIndex: 44002 entries, 0 to 44001\n",
      "Data columns (total 4 columns):\n",
      " #   Column            Non-Null Count  Dtype \n",
      "---  ------            --------------  ----- \n",
      " 0   product_name      44002 non-null  object\n",
      " 1   product_sku       39 non-null     object\n",
      " 2   product_type_map  44002 non-null  object\n",
      " 3   brand_map         44002 non-null  object\n",
      "dtypes: object(4)\n",
      "memory usage: 1.3+ MB\n"
     ]
    }
   ],
   "source": [
    "product_pos.info()"
   ]
  },
  {
   "cell_type": "markdown",
   "metadata": {},
   "source": [
    "Create a new column which concatenates `product_name`, `product_type`, & `product_brand`"
   ]
  },
  {
   "cell_type": "code",
   "execution_count": 51,
   "metadata": {},
   "outputs": [],
   "source": [
    "product_pos['product_name_type_brand'] = product_pos['product_name'] + '-' + product_pos['product_type_map'] + '-' + product_pos['brand_map']"
   ]
  },
  {
   "cell_type": "markdown",
   "metadata": {},
   "source": [
    "Trial, creating the model"
   ]
  },
  {
   "cell_type": "code",
   "execution_count": 52,
   "metadata": {},
   "outputs": [
    {
     "data": {
      "text/html": [
       "<div>\n",
       "<style scoped>\n",
       "    .dataframe tbody tr th:only-of-type {\n",
       "        vertical-align: middle;\n",
       "    }\n",
       "\n",
       "    .dataframe tbody tr th {\n",
       "        vertical-align: top;\n",
       "    }\n",
       "\n",
       "    .dataframe thead th {\n",
       "        text-align: right;\n",
       "    }\n",
       "</style>\n",
       "<table border=\"1\" class=\"dataframe\">\n",
       "  <thead>\n",
       "    <tr style=\"text-align: right;\">\n",
       "      <th></th>\n",
       "      <th>product_name</th>\n",
       "      <th>product_sku</th>\n",
       "      <th>product_type_map</th>\n",
       "      <th>brand_map</th>\n",
       "      <th>product_name_type_brand</th>\n",
       "    </tr>\n",
       "  </thead>\n",
       "  <tbody>\n",
       "    <tr>\n",
       "      <th>415</th>\n",
       "      <td>MESTAC</td>\n",
       "      <td>MESTAC</td>\n",
       "      <td>UNKNOWN</td>\n",
       "      <td>UNKNOWN</td>\n",
       "      <td>MESTAC-UNKNOWN-UNKNOWN</td>\n",
       "    </tr>\n",
       "    <tr>\n",
       "      <th>504</th>\n",
       "      <td>FERTIPHOS</td>\n",
       "      <td>FERTIPHOS</td>\n",
       "      <td>UNKNOWN</td>\n",
       "      <td>UNKNOWN</td>\n",
       "      <td>FERTIPHOS-UNKNOWN-UNKNOWN</td>\n",
       "    </tr>\n",
       "    <tr>\n",
       "      <th>637</th>\n",
       "      <td>UREA PETRO</td>\n",
       "      <td>UREA PETRO</td>\n",
       "      <td>UREA</td>\n",
       "      <td>UNKNOWN</td>\n",
       "      <td>UREA PETRO-UREA-UNKNOWN</td>\n",
       "    </tr>\n",
       "    <tr>\n",
       "      <th>734</th>\n",
       "      <td>ZA PETRO</td>\n",
       "      <td>ZA PETRO</td>\n",
       "      <td>ZA</td>\n",
       "      <td>UNKNOWN</td>\n",
       "      <td>ZA PETRO-ZA-UNKNOWN</td>\n",
       "    </tr>\n",
       "    <tr>\n",
       "      <th>740</th>\n",
       "      <td>MESTIKALI</td>\n",
       "      <td>MESTIKALI</td>\n",
       "      <td>UNKNOWN</td>\n",
       "      <td>UNKNOWN</td>\n",
       "      <td>MESTIKALI-UNKNOWN-UNKNOWN</td>\n",
       "    </tr>\n",
       "  </tbody>\n",
       "</table>\n",
       "</div>"
      ],
      "text/plain": [
       "    product_name product_sku product_type_map brand_map  \\\n",
       "415       MESTAC      MESTAC          UNKNOWN   UNKNOWN   \n",
       "504    FERTIPHOS   FERTIPHOS          UNKNOWN   UNKNOWN   \n",
       "637   UREA PETRO  UREA PETRO             UREA   UNKNOWN   \n",
       "734     ZA PETRO    ZA PETRO               ZA   UNKNOWN   \n",
       "740    MESTIKALI   MESTIKALI          UNKNOWN   UNKNOWN   \n",
       "\n",
       "       product_name_type_brand  \n",
       "415     MESTAC-UNKNOWN-UNKNOWN  \n",
       "504  FERTIPHOS-UNKNOWN-UNKNOWN  \n",
       "637    UREA PETRO-UREA-UNKNOWN  \n",
       "734        ZA PETRO-ZA-UNKNOWN  \n",
       "740  MESTIKALI-UNKNOWN-UNKNOWN  "
      ]
     },
     "execution_count": 52,
     "metadata": {},
     "output_type": "execute_result"
    }
   ],
   "source": [
    "product_pos[product_pos['product_sku'].notnull()].head()"
   ]
  },
  {
   "cell_type": "code",
   "execution_count": 53,
   "metadata": {},
   "outputs": [
    {
     "name": "stdout",
     "output_type": "stream",
     "text": [
      "<class 'pandas.core.frame.DataFrame'>\n",
      "Index: 39 entries, 415 to 36835\n",
      "Data columns (total 5 columns):\n",
      " #   Column                   Non-Null Count  Dtype \n",
      "---  ------                   --------------  ----- \n",
      " 0   product_name             39 non-null     object\n",
      " 1   product_sku              39 non-null     object\n",
      " 2   product_type_map         39 non-null     object\n",
      " 3   brand_map                39 non-null     object\n",
      " 4   product_name_type_brand  39 non-null     object\n",
      "dtypes: object(5)\n",
      "memory usage: 1.8+ KB\n"
     ]
    }
   ],
   "source": [
    "product_pos[product_pos['product_sku'].notnull()].info()"
   ]
  },
  {
   "cell_type": "code",
   "execution_count": 54,
   "metadata": {},
   "outputs": [
    {
     "data": {
      "text/html": [
       "<div>\n",
       "<style scoped>\n",
       "    .dataframe tbody tr th:only-of-type {\n",
       "        vertical-align: middle;\n",
       "    }\n",
       "\n",
       "    .dataframe tbody tr th {\n",
       "        vertical-align: top;\n",
       "    }\n",
       "\n",
       "    .dataframe thead th {\n",
       "        text-align: right;\n",
       "    }\n",
       "</style>\n",
       "<table border=\"1\" class=\"dataframe\">\n",
       "  <thead>\n",
       "    <tr style=\"text-align: right;\">\n",
       "      <th></th>\n",
       "      <th>product_name</th>\n",
       "      <th>product_sku</th>\n",
       "      <th>product_type_map</th>\n",
       "      <th>brand_map</th>\n",
       "      <th>product_name_type_brand</th>\n",
       "    </tr>\n",
       "  </thead>\n",
       "  <tbody>\n",
       "    <tr>\n",
       "      <th>count</th>\n",
       "      <td>39</td>\n",
       "      <td>39</td>\n",
       "      <td>39</td>\n",
       "      <td>39</td>\n",
       "      <td>39</td>\n",
       "    </tr>\n",
       "    <tr>\n",
       "      <th>unique</th>\n",
       "      <td>23</td>\n",
       "      <td>23</td>\n",
       "      <td>4</td>\n",
       "      <td>3</td>\n",
       "      <td>23</td>\n",
       "    </tr>\n",
       "    <tr>\n",
       "      <th>top</th>\n",
       "      <td>UREA PETRO</td>\n",
       "      <td>UREA PETRO</td>\n",
       "      <td>UNKNOWN</td>\n",
       "      <td>UNKNOWN</td>\n",
       "      <td>UREA PETRO-UREA-UNKNOWN</td>\n",
       "    </tr>\n",
       "    <tr>\n",
       "      <th>freq</th>\n",
       "      <td>3</td>\n",
       "      <td>3</td>\n",
       "      <td>17</td>\n",
       "      <td>37</td>\n",
       "      <td>3</td>\n",
       "    </tr>\n",
       "  </tbody>\n",
       "</table>\n",
       "</div>"
      ],
      "text/plain": [
       "       product_name product_sku product_type_map brand_map  \\\n",
       "count            39          39               39        39   \n",
       "unique           23          23                4         3   \n",
       "top      UREA PETRO  UREA PETRO          UNKNOWN   UNKNOWN   \n",
       "freq              3           3               17        37   \n",
       "\n",
       "        product_name_type_brand  \n",
       "count                        39  \n",
       "unique                       23  \n",
       "top     UREA PETRO-UREA-UNKNOWN  \n",
       "freq                          3  "
      ]
     },
     "execution_count": 54,
     "metadata": {},
     "output_type": "execute_result"
    }
   ],
   "source": [
    "product_pos[product_pos['product_sku'].notnull()].describe()"
   ]
  },
  {
   "cell_type": "code",
   "execution_count": 57,
   "metadata": {},
   "outputs": [
    {
     "data": {
      "text/html": [
       "<div>\n",
       "<style scoped>\n",
       "    .dataframe tbody tr th:only-of-type {\n",
       "        vertical-align: middle;\n",
       "    }\n",
       "\n",
       "    .dataframe tbody tr th {\n",
       "        vertical-align: top;\n",
       "    }\n",
       "\n",
       "    .dataframe thead th {\n",
       "        text-align: right;\n",
       "    }\n",
       "</style>\n",
       "<table border=\"1\" class=\"dataframe\">\n",
       "  <thead>\n",
       "    <tr style=\"text-align: right;\">\n",
       "      <th></th>\n",
       "      <th>product_name</th>\n",
       "      <th>product_sku</th>\n",
       "      <th>product_type_map</th>\n",
       "      <th>brand_map</th>\n",
       "      <th>product_name_type_brand</th>\n",
       "    </tr>\n",
       "  </thead>\n",
       "  <tbody>\n",
       "    <tr>\n",
       "      <th>0</th>\n",
       "      <td>PUPUK UREA N 46</td>\n",
       "      <td>NaN</td>\n",
       "      <td>UREA</td>\n",
       "      <td>UNKNOWN</td>\n",
       "      <td>PUPUK UREA N 46-UREA-UNKNOWN</td>\n",
       "    </tr>\n",
       "    <tr>\n",
       "      <th>1</th>\n",
       "      <td>PUPUK AMONIUM SULFAT ZA</td>\n",
       "      <td>NaN</td>\n",
       "      <td>ZA</td>\n",
       "      <td>UNKNOWN</td>\n",
       "      <td>PUPUK AMONIUM SULFAT ZA-ZA-UNKNOWN</td>\n",
       "    </tr>\n",
       "    <tr>\n",
       "      <th>2</th>\n",
       "      <td>PUPUK SUPER FOSFAT SP36</td>\n",
       "      <td>NaN</td>\n",
       "      <td>FOSFAT</td>\n",
       "      <td>UNKNOWN</td>\n",
       "      <td>PUPUK SUPER FOSFAT SP36-FOSFAT-UNKNOWN</td>\n",
       "    </tr>\n",
       "    <tr>\n",
       "      <th>3</th>\n",
       "      <td>PUPUK NPK PHONSKA</td>\n",
       "      <td>NaN</td>\n",
       "      <td>UNKNOWN</td>\n",
       "      <td>UNKNOWN</td>\n",
       "      <td>PUPUK NPK PHONSKA-UNKNOWN-UNKNOWN</td>\n",
       "    </tr>\n",
       "    <tr>\n",
       "      <th>4</th>\n",
       "      <td>PUPUK NPK FORMULA KHUSUS</td>\n",
       "      <td>NaN</td>\n",
       "      <td>UNKNOWN</td>\n",
       "      <td>UNKNOWN</td>\n",
       "      <td>PUPUK NPK FORMULA KHUSUS-UNKNOWN-UNKNOWN</td>\n",
       "    </tr>\n",
       "  </tbody>\n",
       "</table>\n",
       "</div>"
      ],
      "text/plain": [
       "               product_name product_sku product_type_map brand_map  \\\n",
       "0           PUPUK UREA N 46         NaN             UREA   UNKNOWN   \n",
       "1   PUPUK AMONIUM SULFAT ZA         NaN               ZA   UNKNOWN   \n",
       "2   PUPUK SUPER FOSFAT SP36         NaN           FOSFAT   UNKNOWN   \n",
       "3         PUPUK NPK PHONSKA         NaN          UNKNOWN   UNKNOWN   \n",
       "4  PUPUK NPK FORMULA KHUSUS         NaN          UNKNOWN   UNKNOWN   \n",
       "\n",
       "                    product_name_type_brand  \n",
       "0              PUPUK UREA N 46-UREA-UNKNOWN  \n",
       "1        PUPUK AMONIUM SULFAT ZA-ZA-UNKNOWN  \n",
       "2    PUPUK SUPER FOSFAT SP36-FOSFAT-UNKNOWN  \n",
       "3         PUPUK NPK PHONSKA-UNKNOWN-UNKNOWN  \n",
       "4  PUPUK NPK FORMULA KHUSUS-UNKNOWN-UNKNOWN  "
      ]
     },
     "execution_count": 57,
     "metadata": {},
     "output_type": "execute_result"
    }
   ],
   "source": [
    "product_pos.head()"
   ]
  },
  {
   "cell_type": "code",
   "execution_count": 60,
   "metadata": {},
   "outputs": [],
   "source": [
    "df = product_pos[product_pos['product_sku'].notnull()]"
   ]
  },
  {
   "cell_type": "code",
   "execution_count": 62,
   "metadata": {},
   "outputs": [
    {
     "data": {
      "text/html": [
       "<div>\n",
       "<style scoped>\n",
       "    .dataframe tbody tr th:only-of-type {\n",
       "        vertical-align: middle;\n",
       "    }\n",
       "\n",
       "    .dataframe tbody tr th {\n",
       "        vertical-align: top;\n",
       "    }\n",
       "\n",
       "    .dataframe thead th {\n",
       "        text-align: right;\n",
       "    }\n",
       "</style>\n",
       "<table border=\"1\" class=\"dataframe\">\n",
       "  <thead>\n",
       "    <tr style=\"text-align: right;\">\n",
       "      <th></th>\n",
       "      <th>product_name</th>\n",
       "      <th>product_sku</th>\n",
       "      <th>product_type_map</th>\n",
       "      <th>brand_map</th>\n",
       "      <th>product_name_type_brand</th>\n",
       "    </tr>\n",
       "  </thead>\n",
       "  <tbody>\n",
       "    <tr>\n",
       "      <th>415</th>\n",
       "      <td>MESTAC</td>\n",
       "      <td>MESTAC</td>\n",
       "      <td>UNKNOWN</td>\n",
       "      <td>UNKNOWN</td>\n",
       "      <td>MESTAC-UNKNOWN-UNKNOWN</td>\n",
       "    </tr>\n",
       "    <tr>\n",
       "      <th>504</th>\n",
       "      <td>FERTIPHOS</td>\n",
       "      <td>FERTIPHOS</td>\n",
       "      <td>UNKNOWN</td>\n",
       "      <td>UNKNOWN</td>\n",
       "      <td>FERTIPHOS-UNKNOWN-UNKNOWN</td>\n",
       "    </tr>\n",
       "    <tr>\n",
       "      <th>637</th>\n",
       "      <td>UREA PETRO</td>\n",
       "      <td>UREA PETRO</td>\n",
       "      <td>UREA</td>\n",
       "      <td>UNKNOWN</td>\n",
       "      <td>UREA PETRO-UREA-UNKNOWN</td>\n",
       "    </tr>\n",
       "    <tr>\n",
       "      <th>734</th>\n",
       "      <td>ZA PETRO</td>\n",
       "      <td>ZA PETRO</td>\n",
       "      <td>ZA</td>\n",
       "      <td>UNKNOWN</td>\n",
       "      <td>ZA PETRO-ZA-UNKNOWN</td>\n",
       "    </tr>\n",
       "    <tr>\n",
       "      <th>740</th>\n",
       "      <td>MESTIKALI</td>\n",
       "      <td>MESTIKALI</td>\n",
       "      <td>UNKNOWN</td>\n",
       "      <td>UNKNOWN</td>\n",
       "      <td>MESTIKALI-UNKNOWN-UNKNOWN</td>\n",
       "    </tr>\n",
       "    <tr>\n",
       "      <th>4832</th>\n",
       "      <td>NITRALITE</td>\n",
       "      <td>NITRALITE</td>\n",
       "      <td>UNKNOWN</td>\n",
       "      <td>UNKNOWN</td>\n",
       "      <td>NITRALITE-UNKNOWN-UNKNOWN</td>\n",
       "    </tr>\n",
       "    <tr>\n",
       "      <th>4906</th>\n",
       "      <td>UREA PUSRI</td>\n",
       "      <td>UREA PUSRI</td>\n",
       "      <td>UREA</td>\n",
       "      <td>UNKNOWN</td>\n",
       "      <td>UREA PUSRI-UREA-UNKNOWN</td>\n",
       "    </tr>\n",
       "    <tr>\n",
       "      <th>4953</th>\n",
       "      <td>ZK PETRO</td>\n",
       "      <td>ZK PETRO</td>\n",
       "      <td>ZK</td>\n",
       "      <td>UNKNOWN</td>\n",
       "      <td>ZK PETRO-ZK-UNKNOWN</td>\n",
       "    </tr>\n",
       "    <tr>\n",
       "      <th>5138</th>\n",
       "      <td>ZA PAK TANI</td>\n",
       "      <td>ZA PAK TANI</td>\n",
       "      <td>ZA</td>\n",
       "      <td>PAK TANI</td>\n",
       "      <td>ZA PAK TANI-ZA-PAK TANI</td>\n",
       "    </tr>\n",
       "    <tr>\n",
       "      <th>5439</th>\n",
       "      <td>UREA PETRO</td>\n",
       "      <td>UREA PETRO</td>\n",
       "      <td>UREA</td>\n",
       "      <td>UNKNOWN</td>\n",
       "      <td>UREA PETRO-UREA-UNKNOWN</td>\n",
       "    </tr>\n",
       "  </tbody>\n",
       "</table>\n",
       "</div>"
      ],
      "text/plain": [
       "     product_name  product_sku product_type_map brand_map  \\\n",
       "415        MESTAC       MESTAC          UNKNOWN   UNKNOWN   \n",
       "504     FERTIPHOS    FERTIPHOS          UNKNOWN   UNKNOWN   \n",
       "637    UREA PETRO   UREA PETRO             UREA   UNKNOWN   \n",
       "734      ZA PETRO     ZA PETRO               ZA   UNKNOWN   \n",
       "740     MESTIKALI    MESTIKALI          UNKNOWN   UNKNOWN   \n",
       "4832    NITRALITE    NITRALITE          UNKNOWN   UNKNOWN   \n",
       "4906   UREA PUSRI   UREA PUSRI             UREA   UNKNOWN   \n",
       "4953     ZK PETRO     ZK PETRO               ZK   UNKNOWN   \n",
       "5138  ZA PAK TANI  ZA PAK TANI               ZA  PAK TANI   \n",
       "5439   UREA PETRO   UREA PETRO             UREA   UNKNOWN   \n",
       "\n",
       "        product_name_type_brand  \n",
       "415      MESTAC-UNKNOWN-UNKNOWN  \n",
       "504   FERTIPHOS-UNKNOWN-UNKNOWN  \n",
       "637     UREA PETRO-UREA-UNKNOWN  \n",
       "734         ZA PETRO-ZA-UNKNOWN  \n",
       "740   MESTIKALI-UNKNOWN-UNKNOWN  \n",
       "4832  NITRALITE-UNKNOWN-UNKNOWN  \n",
       "4906    UREA PUSRI-UREA-UNKNOWN  \n",
       "4953        ZK PETRO-ZK-UNKNOWN  \n",
       "5138    ZA PAK TANI-ZA-PAK TANI  \n",
       "5439    UREA PETRO-UREA-UNKNOWN  "
      ]
     },
     "execution_count": 62,
     "metadata": {},
     "output_type": "execute_result"
    }
   ],
   "source": [
    "df.head(10)"
   ]
  },
  {
   "cell_type": "code",
   "execution_count": 64,
   "metadata": {},
   "outputs": [],
   "source": [
    "# Import necessary libraries\n",
    "from sklearn.model_selection import train_test_split\n",
    "from sklearn.feature_extraction.text import TfidfVectorizer\n",
    "from sklearn.naive_bayes import MultinomialNB\n",
    "from sklearn.pipeline import make_pipeline\n",
    "from sklearn import metrics"
   ]
  },
  {
   "cell_type": "code",
   "execution_count": 81,
   "metadata": {},
   "outputs": [
    {
     "name": "stdout",
     "output_type": "stream",
     "text": [
      "Accuracy: 0.125\n",
      "Classification Report:\n",
      "                          precision    recall  f1-score   support\n",
      "\n",
      "KAPUR PERTANIAN KEBOMAS       0.00      0.00      0.00         1\n",
      "      MAGNESIUM SULFATE       0.00      0.00      0.00         1\n",
      "              MESTIKALI       0.00      0.00      0.00         1\n",
      "        PETRO BIOFERTIL       0.00      0.00      0.00         1\n",
      "              PHOSGREEN       0.00      0.00      0.00         1\n",
      "                PHOSGRO       0.00      0.00      0.00         1\n",
      "         UREA DAUN BUAH       1.00      1.00      1.00         1\n",
      "             UREA PETRO       0.00      0.00      0.00         0\n",
      "             UREA PUSRI       0.00      0.00      0.00         1\n",
      "\n",
      "               accuracy                           0.12         8\n",
      "              macro avg       0.11      0.11      0.11         8\n",
      "           weighted avg       0.12      0.12      0.12         8\n",
      "\n"
     ]
    },
    {
     "name": "stderr",
     "output_type": "stream",
     "text": [
      "/Users/sakabumi/miniconda3/lib/python3.8/site-packages/sklearn/metrics/_classification.py:1469: UndefinedMetricWarning: Precision and F-score are ill-defined and being set to 0.0 in labels with no predicted samples. Use `zero_division` parameter to control this behavior.\n",
      "  _warn_prf(average, modifier, msg_start, len(result))\n",
      "/Users/sakabumi/miniconda3/lib/python3.8/site-packages/sklearn/metrics/_classification.py:1469: UndefinedMetricWarning: Recall and F-score are ill-defined and being set to 0.0 in labels with no true samples. Use `zero_division` parameter to control this behavior.\n",
      "  _warn_prf(average, modifier, msg_start, len(result))\n",
      "/Users/sakabumi/miniconda3/lib/python3.8/site-packages/sklearn/metrics/_classification.py:1469: UndefinedMetricWarning: Precision and F-score are ill-defined and being set to 0.0 in labels with no predicted samples. Use `zero_division` parameter to control this behavior.\n",
      "  _warn_prf(average, modifier, msg_start, len(result))\n",
      "/Users/sakabumi/miniconda3/lib/python3.8/site-packages/sklearn/metrics/_classification.py:1469: UndefinedMetricWarning: Recall and F-score are ill-defined and being set to 0.0 in labels with no true samples. Use `zero_division` parameter to control this behavior.\n",
      "  _warn_prf(average, modifier, msg_start, len(result))\n",
      "/Users/sakabumi/miniconda3/lib/python3.8/site-packages/sklearn/metrics/_classification.py:1469: UndefinedMetricWarning: Precision and F-score are ill-defined and being set to 0.0 in labels with no predicted samples. Use `zero_division` parameter to control this behavior.\n",
      "  _warn_prf(average, modifier, msg_start, len(result))\n",
      "/Users/sakabumi/miniconda3/lib/python3.8/site-packages/sklearn/metrics/_classification.py:1469: UndefinedMetricWarning: Recall and F-score are ill-defined and being set to 0.0 in labels with no true samples. Use `zero_division` parameter to control this behavior.\n",
      "  _warn_prf(average, modifier, msg_start, len(result))\n"
     ]
    }
   ],
   "source": [
    "# Split the data into training and testing sets\n",
    "X_train, X_test, y_train, y_test = train_test_split(df['product_name_type_brand'], df['product_sku'], test_size=0.2, random_state=42)\n",
    "\n",
    "# Create a text classification pipeline\n",
    "model = make_pipeline(TfidfVectorizer(), MultinomialNB())\n",
    "\n",
    "# Train the model\n",
    "model.fit(X_train, y_train)\n",
    "\n",
    "# Make predictions on the test set\n",
    "predictions = model.predict(X_test)\n",
    "\n",
    "# Evaluate the model\n",
    "print(\"Accuracy:\", metrics.accuracy_score(y_test, predictions))\n",
    "print(\"Classification Report:\\n\", metrics.classification_report(y_test, predictions))"
   ]
  },
  {
   "cell_type": "code",
   "execution_count": 72,
   "metadata": {},
   "outputs": [
    {
     "data": {
      "text/plain": [
       "array(['UREA PETRO', 'UREA PETRO', 'UREA PETRO', 'UREA DAUN BUAH',\n",
       "       'UREA PETRO', 'UREA PETRO', 'UREA PETRO', 'UREA PETRO'],\n",
       "      dtype='<U23')"
      ]
     },
     "execution_count": 72,
     "metadata": {},
     "output_type": "execute_result"
    }
   ],
   "source": [
    "predictions"
   ]
  },
  {
   "cell_type": "code",
   "execution_count": 73,
   "metadata": {},
   "outputs": [
    {
     "data": {
      "text/plain": [
       "array(['UREA PETRO', 'FERTIPHOS', 'UREA PETRO', 'ZA PETRO', 'UREA PETRO',\n",
       "       'NITRALITE', 'UREA PETRO', 'ZK PETRO', 'ZA PETRO', 'UREA PETRO',\n",
       "       'ZA PETRO', 'UREA PETRO', 'NITRALITE', 'UREA DAUN BUAH',\n",
       "       'UREA PETRO', 'UREA DAUN BUAH', 'UREA PETRO', 'UREA PETRO',\n",
       "       'UREA PETRO', 'UREA PETRO', 'ZA PETRO', 'UREA PETRO', 'UREA PETRO',\n",
       "       'ZK PETRO', 'ZA PETRO', 'FERTIPHOS', 'UREA PETRO', 'UREA PETRO',\n",
       "       'UREA PETRO', 'UREA PETRO', 'UREA PETRO', 'ZA PETRO', 'UREA PETRO',\n",
       "       'UREA PETRO', 'ZA PETRO', 'UREA DAUN BUAH', 'UREA PETRO',\n",
       "       'ZA PETRO', 'UREA PETRO'], dtype='<U23')"
      ]
     },
     "execution_count": 73,
     "metadata": {},
     "output_type": "execute_result"
    }
   ],
   "source": [
    "model.predict(df['product_name_type_brand'])"
   ]
  },
  {
   "cell_type": "code",
   "execution_count": 74,
   "metadata": {},
   "outputs": [
    {
     "data": {
      "text/plain": [
       "array(['UREA PETRO', 'ZA PETRO', 'UREA PETRO', ..., 'UREA PETRO',\n",
       "       'UREA PETRO', 'UREA PETRO'], dtype='<U23')"
      ]
     },
     "execution_count": 74,
     "metadata": {},
     "output_type": "execute_result"
    }
   ],
   "source": [
    "model.predict(product_pos['product_name_type_brand'])"
   ]
  },
  {
   "cell_type": "code",
   "execution_count": 75,
   "metadata": {},
   "outputs": [],
   "source": [
    "product_pos['product_sku_test'] = model.predict(product_pos['product_name_type_brand'])"
   ]
  },
  {
   "cell_type": "code",
   "execution_count": 2,
   "metadata": {},
   "outputs": [
    {
     "ename": "NameError",
     "evalue": "name 'product_pos' is not defined",
     "output_type": "error",
     "traceback": [
      "\u001b[0;31m---------------------------------------------------------------------------\u001b[0m",
      "\u001b[0;31mNameError\u001b[0m                                 Traceback (most recent call last)",
      "\u001b[0;32m<ipython-input-2-ea76d278d975>\u001b[0m in \u001b[0;36m<module>\u001b[0;34m\u001b[0m\n\u001b[0;32m----> 1\u001b[0;31m \u001b[0mproduct_pos\u001b[0m\u001b[0;34m.\u001b[0m\u001b[0mhead\u001b[0m\u001b[0;34m(\u001b[0m\u001b[0;36m10\u001b[0m\u001b[0;34m)\u001b[0m\u001b[0;34m\u001b[0m\u001b[0;34m\u001b[0m\u001b[0m\n\u001b[0m",
      "\u001b[0;31mNameError\u001b[0m: name 'product_pos' is not defined"
     ]
    }
   ],
   "source": [
    "product_pos.head(10)"
   ]
  },
  {
   "cell_type": "markdown",
   "metadata": {},
   "source": [
    "### Training model to map product names to product types"
   ]
  },
  {
   "cell_type": "code",
   "execution_count": 1,
   "metadata": {},
   "outputs": [
    {
     "ename": "NameError",
     "evalue": "name 'product_pos' is not defined",
     "output_type": "error",
     "traceback": [
      "\u001b[0;31m---------------------------------------------------------------------------\u001b[0m",
      "\u001b[0;31mNameError\u001b[0m                                 Traceback (most recent call last)",
      "\u001b[0;32m<ipython-input-1-f718a80c367e>\u001b[0m in \u001b[0;36m<module>\u001b[0;34m\u001b[0m\n\u001b[0;32m----> 1\u001b[0;31m \u001b[0mdf_map_types\u001b[0m \u001b[0;34m=\u001b[0m \u001b[0mproduct_pos\u001b[0m\u001b[0;34m[\u001b[0m\u001b[0mproduct_pos\u001b[0m\u001b[0;34m[\u001b[0m\u001b[0;34m'product_type_map'\u001b[0m\u001b[0;34m]\u001b[0m\u001b[0;34m.\u001b[0m\u001b[0mnot_null\u001b[0m\u001b[0;34m(\u001b[0m\u001b[0;34m)\u001b[0m\u001b[0;34m]\u001b[0m\u001b[0;34m\u001b[0m\u001b[0;34m\u001b[0m\u001b[0m\n\u001b[0m",
      "\u001b[0;31mNameError\u001b[0m: name 'product_pos' is not defined"
     ]
    }
   ],
   "source": [
    "df_map_types = product_pos[product_pos['product_type_map'].not_null()]"
   ]
  },
  {
   "cell_type": "code",
   "execution_count": null,
   "metadata": {},
   "outputs": [],
   "source": [
    "# Split the data into training and testing sets\n",
    "X_train, X_test, y_train, y_test = train_test_split(df['product_name_type_brand'], df['product_sku'], test_size=0.2, random_state=42)\n",
    "\n",
    "# Create a text classification pipeline\n",
    "model = make_pipeline(TfidfVectorizer(), MultinomialNB())\n",
    "\n",
    "# Train the model\n",
    "model.fit(X_train, y_train)\n",
    "\n",
    "# Make predictions on the test set\n",
    "predictions = model.predict(X_test)\n",
    "\n",
    "# Evaluate the model\n",
    "print(\"Accuracy:\", metrics.accuracy_score(y_test, predictions))\n",
    "print(\"Classification Report:\\n\", metrics.classification_report(y_test, predictions))"
   ]
  },
  {
   "cell_type": "code",
   "execution_count": null,
   "metadata": {},
   "outputs": [],
   "source": []
  },
  {
   "cell_type": "code",
   "execution_count": null,
   "metadata": {},
   "outputs": [],
   "source": []
  },
  {
   "cell_type": "code",
   "execution_count": null,
   "metadata": {},
   "outputs": [],
   "source": []
  },
  {
   "cell_type": "code",
   "execution_count": null,
   "metadata": {},
   "outputs": [],
   "source": []
  },
  {
   "cell_type": "code",
   "execution_count": null,
   "metadata": {},
   "outputs": [],
   "source": []
  },
  {
   "cell_type": "markdown",
   "metadata": {},
   "source": [
    "Feature Extraction"
   ]
  },
  {
   "cell_type": "code",
   "execution_count": 61,
   "metadata": {},
   "outputs": [],
   "source": [
    "from sklearn.feature_extraction.text import TfidfVectorizer"
   ]
  },
  {
   "cell_type": "code",
   "execution_count": 62,
   "metadata": {},
   "outputs": [
    {
     "name": "stdout",
     "output_type": "stream",
     "text": [
      "<class 'pandas.core.frame.DataFrame'>\n",
      "RangeIndex: 44002 entries, 0 to 44001\n",
      "Data columns (total 5 columns):\n",
      " #   Column                    Non-Null Count  Dtype \n",
      "---  ------                    --------------  ----- \n",
      " 0   product_name              44002 non-null  object\n",
      " 1   product_sku               41 non-null     object\n",
      " 2   product_type_map          44002 non-null  object\n",
      " 3   product_type_map_majemuk  44002 non-null  object\n",
      " 4   brand_map                 44002 non-null  object\n",
      "dtypes: object(5)\n",
      "memory usage: 1.7+ MB\n"
     ]
    }
   ],
   "source": [
    "product_pos.info()"
   ]
  },
  {
   "cell_type": "code",
   "execution_count": 63,
   "metadata": {},
   "outputs": [],
   "source": [
    "# Convert text data into numerical vectors\n",
    "product_names = list(product_pos['product_name'])\n",
    "product_types = list(product_pos['product_type_map'])\n",
    "product_brands = list(product_pos['brand_map'])\n",
    "\n",
    "# Create a TF-IDF vectorizer\n",
    "tfidf_vectorizer = TfidfVectorizer()\n",
    "\n",
    "# Create TF-IDF vectors for product names, product types, and brands\n",
    "product_names_vectors = tfidf_vectorizer.fit_transform(product_names)\n",
    "product_types_vectors = tfidf_vectorizer.fit_transform(product_types)\n",
    "product_brands_vectors = tfidf_vectorizer.fit_transform(product_brands)"
   ]
  },
  {
   "cell_type": "code",
   "execution_count": 64,
   "metadata": {},
   "outputs": [],
   "source": [
    "from sklearn.metrics.pairwise import cosine_similarity"
   ]
  },
  {
   "cell_type": "code",
   "execution_count": 65,
   "metadata": {},
   "outputs": [
    {
     "ename": "ValueError",
     "evalue": "Incompatible dimension for X and Y matrices: X.shape[1] == 16311 while Y.shape[1] == 11",
     "output_type": "error",
     "traceback": [
      "\u001b[0;31m---------------------------------------------------------------------------\u001b[0m",
      "\u001b[0;31mValueError\u001b[0m                                Traceback (most recent call last)",
      "\u001b[0;32m<ipython-input-65-4a6cc400d403>\u001b[0m in \u001b[0;36m<module>\u001b[0;34m\u001b[0m\n\u001b[1;32m      1\u001b[0m \u001b[0;31m# Calculate cosine similarity between product names and product types\u001b[0m\u001b[0;34m\u001b[0m\u001b[0;34m\u001b[0m\u001b[0;34m\u001b[0m\u001b[0m\n\u001b[0;32m----> 2\u001b[0;31m \u001b[0mproduct_name_type_similarity\u001b[0m \u001b[0;34m=\u001b[0m \u001b[0mcosine_similarity\u001b[0m\u001b[0;34m(\u001b[0m\u001b[0mproduct_names_vectors\u001b[0m\u001b[0;34m,\u001b[0m \u001b[0mproduct_types_vectors\u001b[0m\u001b[0;34m)\u001b[0m\u001b[0;34m\u001b[0m\u001b[0;34m\u001b[0m\u001b[0m\n\u001b[0m\u001b[1;32m      3\u001b[0m \u001b[0;34m\u001b[0m\u001b[0m\n\u001b[1;32m      4\u001b[0m \u001b[0;31m# Calculate cosine similarity between product names and brands\u001b[0m\u001b[0;34m\u001b[0m\u001b[0;34m\u001b[0m\u001b[0;34m\u001b[0m\u001b[0m\n\u001b[1;32m      5\u001b[0m \u001b[0mproduct_name_brand_similarity\u001b[0m \u001b[0;34m=\u001b[0m \u001b[0mcosine_similarity\u001b[0m\u001b[0;34m(\u001b[0m\u001b[0mproduct_names_vectors\u001b[0m\u001b[0;34m,\u001b[0m \u001b[0mproduct_brands_vectors\u001b[0m\u001b[0;34m)\u001b[0m\u001b[0;34m\u001b[0m\u001b[0;34m\u001b[0m\u001b[0m\n",
      "\u001b[0;32m~/miniconda3/lib/python3.8/site-packages/sklearn/utils/_param_validation.py\u001b[0m in \u001b[0;36mwrapper\u001b[0;34m(*args, **kwargs)\u001b[0m\n\u001b[1;32m    209\u001b[0m                     )\n\u001b[1;32m    210\u001b[0m                 ):\n\u001b[0;32m--> 211\u001b[0;31m                     \u001b[0;32mreturn\u001b[0m \u001b[0mfunc\u001b[0m\u001b[0;34m(\u001b[0m\u001b[0;34m*\u001b[0m\u001b[0margs\u001b[0m\u001b[0;34m,\u001b[0m \u001b[0;34m**\u001b[0m\u001b[0mkwargs\u001b[0m\u001b[0;34m)\u001b[0m\u001b[0;34m\u001b[0m\u001b[0;34m\u001b[0m\u001b[0m\n\u001b[0m\u001b[1;32m    212\u001b[0m             \u001b[0;32mexcept\u001b[0m \u001b[0mInvalidParameterError\u001b[0m \u001b[0;32mas\u001b[0m \u001b[0me\u001b[0m\u001b[0;34m:\u001b[0m\u001b[0;34m\u001b[0m\u001b[0;34m\u001b[0m\u001b[0m\n\u001b[1;32m    213\u001b[0m                 \u001b[0;31m# When the function is just a wrapper around an estimator, we allow\u001b[0m\u001b[0;34m\u001b[0m\u001b[0;34m\u001b[0m\u001b[0;34m\u001b[0m\u001b[0m\n",
      "\u001b[0;32m~/miniconda3/lib/python3.8/site-packages/sklearn/metrics/pairwise.py\u001b[0m in \u001b[0;36mcosine_similarity\u001b[0;34m(X, Y, dense_output)\u001b[0m\n\u001b[1;32m   1575\u001b[0m     \u001b[0;31m# to avoid recursive import\u001b[0m\u001b[0;34m\u001b[0m\u001b[0;34m\u001b[0m\u001b[0;34m\u001b[0m\u001b[0m\n\u001b[1;32m   1576\u001b[0m \u001b[0;34m\u001b[0m\u001b[0m\n\u001b[0;32m-> 1577\u001b[0;31m     \u001b[0mX\u001b[0m\u001b[0;34m,\u001b[0m \u001b[0mY\u001b[0m \u001b[0;34m=\u001b[0m \u001b[0mcheck_pairwise_arrays\u001b[0m\u001b[0;34m(\u001b[0m\u001b[0mX\u001b[0m\u001b[0;34m,\u001b[0m \u001b[0mY\u001b[0m\u001b[0;34m)\u001b[0m\u001b[0;34m\u001b[0m\u001b[0;34m\u001b[0m\u001b[0m\n\u001b[0m\u001b[1;32m   1578\u001b[0m \u001b[0;34m\u001b[0m\u001b[0m\n\u001b[1;32m   1579\u001b[0m     \u001b[0mX_normalized\u001b[0m \u001b[0;34m=\u001b[0m \u001b[0mnormalize\u001b[0m\u001b[0;34m(\u001b[0m\u001b[0mX\u001b[0m\u001b[0;34m,\u001b[0m \u001b[0mcopy\u001b[0m\u001b[0;34m=\u001b[0m\u001b[0;32mTrue\u001b[0m\u001b[0;34m)\u001b[0m\u001b[0;34m\u001b[0m\u001b[0;34m\u001b[0m\u001b[0m\n",
      "\u001b[0;32m~/miniconda3/lib/python3.8/site-packages/sklearn/metrics/pairwise.py\u001b[0m in \u001b[0;36mcheck_pairwise_arrays\u001b[0;34m(X, Y, precomputed, dtype, accept_sparse, force_all_finite, copy)\u001b[0m\n\u001b[1;32m    188\u001b[0m             )\n\u001b[1;32m    189\u001b[0m     \u001b[0;32melif\u001b[0m \u001b[0mX\u001b[0m\u001b[0;34m.\u001b[0m\u001b[0mshape\u001b[0m\u001b[0;34m[\u001b[0m\u001b[0;36m1\u001b[0m\u001b[0;34m]\u001b[0m \u001b[0;34m!=\u001b[0m \u001b[0mY\u001b[0m\u001b[0;34m.\u001b[0m\u001b[0mshape\u001b[0m\u001b[0;34m[\u001b[0m\u001b[0;36m1\u001b[0m\u001b[0;34m]\u001b[0m\u001b[0;34m:\u001b[0m\u001b[0;34m\u001b[0m\u001b[0;34m\u001b[0m\u001b[0m\n\u001b[0;32m--> 190\u001b[0;31m         raise ValueError(\n\u001b[0m\u001b[1;32m    191\u001b[0m             \u001b[0;34m\"Incompatible dimension for X and Y matrices: \"\u001b[0m\u001b[0;34m\u001b[0m\u001b[0;34m\u001b[0m\u001b[0m\n\u001b[1;32m    192\u001b[0m             \u001b[0;34m\"X.shape[1] == %d while Y.shape[1] == %d\"\u001b[0m \u001b[0;34m%\u001b[0m \u001b[0;34m(\u001b[0m\u001b[0mX\u001b[0m\u001b[0;34m.\u001b[0m\u001b[0mshape\u001b[0m\u001b[0;34m[\u001b[0m\u001b[0;36m1\u001b[0m\u001b[0;34m]\u001b[0m\u001b[0;34m,\u001b[0m \u001b[0mY\u001b[0m\u001b[0;34m.\u001b[0m\u001b[0mshape\u001b[0m\u001b[0;34m[\u001b[0m\u001b[0;36m1\u001b[0m\u001b[0;34m]\u001b[0m\u001b[0;34m)\u001b[0m\u001b[0;34m\u001b[0m\u001b[0;34m\u001b[0m\u001b[0m\n",
      "\u001b[0;31mValueError\u001b[0m: Incompatible dimension for X and Y matrices: X.shape[1] == 16311 while Y.shape[1] == 11"
     ]
    }
   ],
   "source": [
    "# Calculate cosine similarity between product names and product types\n",
    "product_name_type_similarity = cosine_similarity(product_names_vectors, product_types_vectors)\n",
    "\n",
    "# Calculate cosine similarity between product names and brands\n",
    "product_name_brand_similarity = cosine_similarity(product_names_vectors, product_brands_vectors)\n",
    "\n",
    "# Combine similarity scores\n",
    "combined_similarity = product_name_type_similarity + product_name_brand_similarity\n",
    "\n",
    "# Define a similarity threshold\n",
    "similarity_threshold = 1.0  # Adjust as needed\n",
    "\n",
    "# Map product names to product SKUs using the combined similarity scores\n",
    "mapped_product_skus = {}\n",
    "\n",
    "for i, product_name in enumerate(product_names):\n",
    "    potential_skus = [sku for sku, score in enumerate(combined_similarity[i]) if score > similarity_threshold]\n",
    "    if potential_skus:\n",
    "        mapped_product_skus[product_name] = potential_skus"
   ]
  },
  {
   "cell_type": "code",
   "execution_count": 66,
   "metadata": {},
   "outputs": [
    {
     "data": {
      "text/html": [
       "<div>\n",
       "<style scoped>\n",
       "    .dataframe tbody tr th:only-of-type {\n",
       "        vertical-align: middle;\n",
       "    }\n",
       "\n",
       "    .dataframe tbody tr th {\n",
       "        vertical-align: top;\n",
       "    }\n",
       "\n",
       "    .dataframe thead th {\n",
       "        text-align: right;\n",
       "    }\n",
       "</style>\n",
       "<table border=\"1\" class=\"dataframe\">\n",
       "  <thead>\n",
       "    <tr style=\"text-align: right;\">\n",
       "      <th></th>\n",
       "      <th>product_name</th>\n",
       "      <th>product_sku</th>\n",
       "      <th>product_type_map</th>\n",
       "      <th>product_type_map_majemuk</th>\n",
       "      <th>brand_map</th>\n",
       "    </tr>\n",
       "  </thead>\n",
       "  <tbody>\n",
       "    <tr>\n",
       "      <th>0</th>\n",
       "      <td>PUPUK UREA N 46</td>\n",
       "      <td>NaN</td>\n",
       "      <td>UREA</td>\n",
       "      <td>UNKNOWN</td>\n",
       "      <td>UNKNOWN</td>\n",
       "    </tr>\n",
       "    <tr>\n",
       "      <th>1</th>\n",
       "      <td>PUPUK AMONIUM SULFAT ZA</td>\n",
       "      <td>NaN</td>\n",
       "      <td>ZA</td>\n",
       "      <td>UNKNOWN</td>\n",
       "      <td>UNKNOWN</td>\n",
       "    </tr>\n",
       "    <tr>\n",
       "      <th>2</th>\n",
       "      <td>PUPUK SUPER FOSFAT SP36</td>\n",
       "      <td>NaN</td>\n",
       "      <td>FOSFAT</td>\n",
       "      <td>UNKNOWN</td>\n",
       "      <td>UNKNOWN</td>\n",
       "    </tr>\n",
       "    <tr>\n",
       "      <th>3</th>\n",
       "      <td>PUPUK NPK PHONSKA</td>\n",
       "      <td>NaN</td>\n",
       "      <td>UNKNOWN</td>\n",
       "      <td>UNKNOWN</td>\n",
       "      <td>UNKNOWN</td>\n",
       "    </tr>\n",
       "    <tr>\n",
       "      <th>4</th>\n",
       "      <td>PUPUK NPK FORMULA KHUSUS</td>\n",
       "      <td>NaN</td>\n",
       "      <td>UNKNOWN</td>\n",
       "      <td>UNKNOWN</td>\n",
       "      <td>UNKNOWN</td>\n",
       "    </tr>\n",
       "  </tbody>\n",
       "</table>\n",
       "</div>"
      ],
      "text/plain": [
       "               product_name product_sku product_type_map  \\\n",
       "0           PUPUK UREA N 46         NaN             UREA   \n",
       "1   PUPUK AMONIUM SULFAT ZA         NaN               ZA   \n",
       "2   PUPUK SUPER FOSFAT SP36         NaN           FOSFAT   \n",
       "3         PUPUK NPK PHONSKA         NaN          UNKNOWN   \n",
       "4  PUPUK NPK FORMULA KHUSUS         NaN          UNKNOWN   \n",
       "\n",
       "  product_type_map_majemuk brand_map  \n",
       "0                  UNKNOWN   UNKNOWN  \n",
       "1                  UNKNOWN   UNKNOWN  \n",
       "2                  UNKNOWN   UNKNOWN  \n",
       "3                  UNKNOWN   UNKNOWN  \n",
       "4                  UNKNOWN   UNKNOWN  "
      ]
     },
     "execution_count": 66,
     "metadata": {},
     "output_type": "execute_result"
    }
   ],
   "source": [
    "product_pos.head()"
   ]
  },
  {
   "cell_type": "code",
   "execution_count": 67,
   "metadata": {},
   "outputs": [
    {
     "data": {
      "text/html": [
       "<div>\n",
       "<style scoped>\n",
       "    .dataframe tbody tr th:only-of-type {\n",
       "        vertical-align: middle;\n",
       "    }\n",
       "\n",
       "    .dataframe tbody tr th {\n",
       "        vertical-align: top;\n",
       "    }\n",
       "\n",
       "    .dataframe thead th {\n",
       "        text-align: right;\n",
       "    }\n",
       "</style>\n",
       "<table border=\"1\" class=\"dataframe\">\n",
       "  <thead>\n",
       "    <tr style=\"text-align: right;\">\n",
       "      <th></th>\n",
       "      <th>product_name</th>\n",
       "      <th>product_sku</th>\n",
       "      <th>product_type_map</th>\n",
       "      <th>product_type_map_majemuk</th>\n",
       "      <th>brand_map</th>\n",
       "    </tr>\n",
       "  </thead>\n",
       "  <tbody>\n",
       "    <tr>\n",
       "      <th>109</th>\n",
       "      <td>PETROCAS</td>\n",
       "      <td>PETRO-CAS</td>\n",
       "      <td>UNKNOWN</td>\n",
       "      <td>UNKNOWN</td>\n",
       "      <td>UNKNOWN</td>\n",
       "    </tr>\n",
       "    <tr>\n",
       "      <th>415</th>\n",
       "      <td>MESTAC</td>\n",
       "      <td>MESTAC</td>\n",
       "      <td>UNKNOWN</td>\n",
       "      <td>UNKNOWN</td>\n",
       "      <td>UNKNOWN</td>\n",
       "    </tr>\n",
       "    <tr>\n",
       "      <th>504</th>\n",
       "      <td>FERTIPHOS</td>\n",
       "      <td>FERTIPHOS</td>\n",
       "      <td>UNKNOWN</td>\n",
       "      <td>UNKNOWN</td>\n",
       "      <td>UNKNOWN</td>\n",
       "    </tr>\n",
       "    <tr>\n",
       "      <th>637</th>\n",
       "      <td>UREA PETRO</td>\n",
       "      <td>UREA PETRO</td>\n",
       "      <td>UREA</td>\n",
       "      <td>UNKNOWN</td>\n",
       "      <td>UNKNOWN</td>\n",
       "    </tr>\n",
       "    <tr>\n",
       "      <th>734</th>\n",
       "      <td>ZA PETRO</td>\n",
       "      <td>ZA PETRO</td>\n",
       "      <td>ZA</td>\n",
       "      <td>UNKNOWN</td>\n",
       "      <td>UNKNOWN</td>\n",
       "    </tr>\n",
       "  </tbody>\n",
       "</table>\n",
       "</div>"
      ],
      "text/plain": [
       "    product_name product_sku product_type_map product_type_map_majemuk  \\\n",
       "109     PETROCAS   PETRO-CAS          UNKNOWN                  UNKNOWN   \n",
       "415       MESTAC      MESTAC          UNKNOWN                  UNKNOWN   \n",
       "504    FERTIPHOS   FERTIPHOS          UNKNOWN                  UNKNOWN   \n",
       "637   UREA PETRO  UREA PETRO             UREA                  UNKNOWN   \n",
       "734     ZA PETRO    ZA PETRO               ZA                  UNKNOWN   \n",
       "\n",
       "    brand_map  \n",
       "109   UNKNOWN  \n",
       "415   UNKNOWN  \n",
       "504   UNKNOWN  \n",
       "637   UNKNOWN  \n",
       "734   UNKNOWN  "
      ]
     },
     "execution_count": 67,
     "metadata": {},
     "output_type": "execute_result"
    }
   ],
   "source": [
    "product_pos[product_pos['product_sku'].notnull()].head()"
   ]
  },
  {
   "cell_type": "code",
   "execution_count": 73,
   "metadata": {},
   "outputs": [],
   "source": [
    "product_pos = product_pos.drop('product_type_map_majemuk', axis=1)"
   ]
  },
  {
   "cell_type": "code",
   "execution_count": 78,
   "metadata": {},
   "outputs": [],
   "source": [
    "# product_pos[\n",
    "#     (product_pos['product_sku'].notnull())\n",
    "#     & (product_pos['product_type_map'] != 'UNKNOWN')\n",
    "#     & (product_pos['brand_map'] != 'UNKNOWN')\n",
    "#     ]\n",
    "\n",
    "product_pos['product_name_type_brand'] = product_pos['product_name'] + '-' + product_pos['product_type_map'] + '-' + product_pos['brand_map']"
   ]
  },
  {
   "cell_type": "code",
   "execution_count": 79,
   "metadata": {},
   "outputs": [
    {
     "data": {
      "text/html": [
       "<div>\n",
       "<style scoped>\n",
       "    .dataframe tbody tr th:only-of-type {\n",
       "        vertical-align: middle;\n",
       "    }\n",
       "\n",
       "    .dataframe tbody tr th {\n",
       "        vertical-align: top;\n",
       "    }\n",
       "\n",
       "    .dataframe thead th {\n",
       "        text-align: right;\n",
       "    }\n",
       "</style>\n",
       "<table border=\"1\" class=\"dataframe\">\n",
       "  <thead>\n",
       "    <tr style=\"text-align: right;\">\n",
       "      <th></th>\n",
       "      <th>product_name</th>\n",
       "      <th>product_sku</th>\n",
       "      <th>product_type_map</th>\n",
       "      <th>brand_map</th>\n",
       "      <th>product_name_type_brand</th>\n",
       "    </tr>\n",
       "  </thead>\n",
       "  <tbody>\n",
       "    <tr>\n",
       "      <th>0</th>\n",
       "      <td>PUPUK UREA N 46</td>\n",
       "      <td>NaN</td>\n",
       "      <td>UREA</td>\n",
       "      <td>UNKNOWN</td>\n",
       "      <td>PUPUK UREA N 46-UREA-UNKNOWN</td>\n",
       "    </tr>\n",
       "    <tr>\n",
       "      <th>1</th>\n",
       "      <td>PUPUK AMONIUM SULFAT ZA</td>\n",
       "      <td>NaN</td>\n",
       "      <td>ZA</td>\n",
       "      <td>UNKNOWN</td>\n",
       "      <td>PUPUK AMONIUM SULFAT ZA-ZA-UNKNOWN</td>\n",
       "    </tr>\n",
       "    <tr>\n",
       "      <th>2</th>\n",
       "      <td>PUPUK SUPER FOSFAT SP36</td>\n",
       "      <td>NaN</td>\n",
       "      <td>FOSFAT</td>\n",
       "      <td>UNKNOWN</td>\n",
       "      <td>PUPUK SUPER FOSFAT SP36-FOSFAT-UNKNOWN</td>\n",
       "    </tr>\n",
       "    <tr>\n",
       "      <th>3</th>\n",
       "      <td>PUPUK NPK PHONSKA</td>\n",
       "      <td>NaN</td>\n",
       "      <td>UNKNOWN</td>\n",
       "      <td>UNKNOWN</td>\n",
       "      <td>PUPUK NPK PHONSKA-UNKNOWN-UNKNOWN</td>\n",
       "    </tr>\n",
       "    <tr>\n",
       "      <th>4</th>\n",
       "      <td>PUPUK NPK FORMULA KHUSUS</td>\n",
       "      <td>NaN</td>\n",
       "      <td>UNKNOWN</td>\n",
       "      <td>UNKNOWN</td>\n",
       "      <td>PUPUK NPK FORMULA KHUSUS-UNKNOWN-UNKNOWN</td>\n",
       "    </tr>\n",
       "  </tbody>\n",
       "</table>\n",
       "</div>"
      ],
      "text/plain": [
       "               product_name product_sku product_type_map brand_map  \\\n",
       "0           PUPUK UREA N 46         NaN             UREA   UNKNOWN   \n",
       "1   PUPUK AMONIUM SULFAT ZA         NaN               ZA   UNKNOWN   \n",
       "2   PUPUK SUPER FOSFAT SP36         NaN           FOSFAT   UNKNOWN   \n",
       "3         PUPUK NPK PHONSKA         NaN          UNKNOWN   UNKNOWN   \n",
       "4  PUPUK NPK FORMULA KHUSUS         NaN          UNKNOWN   UNKNOWN   \n",
       "\n",
       "                    product_name_type_brand  \n",
       "0              PUPUK UREA N 46-UREA-UNKNOWN  \n",
       "1        PUPUK AMONIUM SULFAT ZA-ZA-UNKNOWN  \n",
       "2    PUPUK SUPER FOSFAT SP36-FOSFAT-UNKNOWN  \n",
       "3         PUPUK NPK PHONSKA-UNKNOWN-UNKNOWN  \n",
       "4  PUPUK NPK FORMULA KHUSUS-UNKNOWN-UNKNOWN  "
      ]
     },
     "execution_count": 79,
     "metadata": {},
     "output_type": "execute_result"
    }
   ],
   "source": [
    "product_pos.head()"
   ]
  },
  {
   "cell_type": "code",
   "execution_count": 83,
   "metadata": {},
   "outputs": [
    {
     "name": "stdout",
     "output_type": "stream",
     "text": [
      "<class 'pandas.core.frame.DataFrame'>\n",
      "RangeIndex: 44002 entries, 0 to 44001\n",
      "Data columns (total 5 columns):\n",
      " #   Column                   Non-Null Count  Dtype \n",
      "---  ------                   --------------  ----- \n",
      " 0   product_name             44002 non-null  object\n",
      " 1   product_sku              41 non-null     object\n",
      " 2   product_type_map         44002 non-null  object\n",
      " 3   brand_map                44002 non-null  object\n",
      " 4   product_name_type_brand  44002 non-null  object\n",
      "dtypes: object(5)\n",
      "memory usage: 1.7+ MB\n"
     ]
    }
   ],
   "source": [
    "product_pos.info()"
   ]
  },
  {
   "cell_type": "code",
   "execution_count": 86,
   "metadata": {},
   "outputs": [],
   "source": [
    "product_pos = product_pos.fillna('UNKNOWN')"
   ]
  },
  {
   "cell_type": "code",
   "execution_count": 87,
   "metadata": {},
   "outputs": [
    {
     "data": {
      "text/html": [
       "<div>\n",
       "<style scoped>\n",
       "    .dataframe tbody tr th:only-of-type {\n",
       "        vertical-align: middle;\n",
       "    }\n",
       "\n",
       "    .dataframe tbody tr th {\n",
       "        vertical-align: top;\n",
       "    }\n",
       "\n",
       "    .dataframe thead th {\n",
       "        text-align: right;\n",
       "    }\n",
       "</style>\n",
       "<table border=\"1\" class=\"dataframe\">\n",
       "  <thead>\n",
       "    <tr style=\"text-align: right;\">\n",
       "      <th></th>\n",
       "      <th>product_name</th>\n",
       "      <th>product_sku</th>\n",
       "      <th>product_type_map</th>\n",
       "      <th>brand_map</th>\n",
       "      <th>product_name_type_brand</th>\n",
       "    </tr>\n",
       "  </thead>\n",
       "  <tbody>\n",
       "    <tr>\n",
       "      <th>0</th>\n",
       "      <td>PUPUK UREA N 46</td>\n",
       "      <td>UNKNOWN</td>\n",
       "      <td>UREA</td>\n",
       "      <td>UNKNOWN</td>\n",
       "      <td>PUPUK UREA N 46-UREA-UNKNOWN</td>\n",
       "    </tr>\n",
       "    <tr>\n",
       "      <th>1</th>\n",
       "      <td>PUPUK AMONIUM SULFAT ZA</td>\n",
       "      <td>UNKNOWN</td>\n",
       "      <td>ZA</td>\n",
       "      <td>UNKNOWN</td>\n",
       "      <td>PUPUK AMONIUM SULFAT ZA-ZA-UNKNOWN</td>\n",
       "    </tr>\n",
       "    <tr>\n",
       "      <th>2</th>\n",
       "      <td>PUPUK SUPER FOSFAT SP36</td>\n",
       "      <td>UNKNOWN</td>\n",
       "      <td>FOSFAT</td>\n",
       "      <td>UNKNOWN</td>\n",
       "      <td>PUPUK SUPER FOSFAT SP36-FOSFAT-UNKNOWN</td>\n",
       "    </tr>\n",
       "    <tr>\n",
       "      <th>3</th>\n",
       "      <td>PUPUK NPK PHONSKA</td>\n",
       "      <td>UNKNOWN</td>\n",
       "      <td>UNKNOWN</td>\n",
       "      <td>UNKNOWN</td>\n",
       "      <td>PUPUK NPK PHONSKA-UNKNOWN-UNKNOWN</td>\n",
       "    </tr>\n",
       "    <tr>\n",
       "      <th>4</th>\n",
       "      <td>PUPUK NPK FORMULA KHUSUS</td>\n",
       "      <td>UNKNOWN</td>\n",
       "      <td>UNKNOWN</td>\n",
       "      <td>UNKNOWN</td>\n",
       "      <td>PUPUK NPK FORMULA KHUSUS-UNKNOWN-UNKNOWN</td>\n",
       "    </tr>\n",
       "  </tbody>\n",
       "</table>\n",
       "</div>"
      ],
      "text/plain": [
       "               product_name product_sku product_type_map brand_map  \\\n",
       "0           PUPUK UREA N 46     UNKNOWN             UREA   UNKNOWN   \n",
       "1   PUPUK AMONIUM SULFAT ZA     UNKNOWN               ZA   UNKNOWN   \n",
       "2   PUPUK SUPER FOSFAT SP36     UNKNOWN           FOSFAT   UNKNOWN   \n",
       "3         PUPUK NPK PHONSKA     UNKNOWN          UNKNOWN   UNKNOWN   \n",
       "4  PUPUK NPK FORMULA KHUSUS     UNKNOWN          UNKNOWN   UNKNOWN   \n",
       "\n",
       "                    product_name_type_brand  \n",
       "0              PUPUK UREA N 46-UREA-UNKNOWN  \n",
       "1        PUPUK AMONIUM SULFAT ZA-ZA-UNKNOWN  \n",
       "2    PUPUK SUPER FOSFAT SP36-FOSFAT-UNKNOWN  \n",
       "3         PUPUK NPK PHONSKA-UNKNOWN-UNKNOWN  \n",
       "4  PUPUK NPK FORMULA KHUSUS-UNKNOWN-UNKNOWN  "
      ]
     },
     "execution_count": 87,
     "metadata": {},
     "output_type": "execute_result"
    }
   ],
   "source": [
    "product_pos.head()"
   ]
  },
  {
   "cell_type": "code",
   "execution_count": 88,
   "metadata": {},
   "outputs": [],
   "source": [
    "from sklearn.model_selection import train_test_split\n",
    "from sklearn.feature_extraction.text import TfidfVectorizer\n",
    "from sklearn.naive_bayes import MultinomialNB\n",
    "from sklearn.pipeline import make_pipeline\n",
    "from sklearn import metrics"
   ]
  },
  {
   "cell_type": "code",
   "execution_count": 90,
   "metadata": {},
   "outputs": [],
   "source": [
    "product_pos_test = product_pos[product_pos['product_sku'] != 'UNKNOWN']"
   ]
  },
  {
   "cell_type": "code",
   "execution_count": 91,
   "metadata": {},
   "outputs": [
    {
     "data": {
      "text/html": [
       "<div>\n",
       "<style scoped>\n",
       "    .dataframe tbody tr th:only-of-type {\n",
       "        vertical-align: middle;\n",
       "    }\n",
       "\n",
       "    .dataframe tbody tr th {\n",
       "        vertical-align: top;\n",
       "    }\n",
       "\n",
       "    .dataframe thead th {\n",
       "        text-align: right;\n",
       "    }\n",
       "</style>\n",
       "<table border=\"1\" class=\"dataframe\">\n",
       "  <thead>\n",
       "    <tr style=\"text-align: right;\">\n",
       "      <th></th>\n",
       "      <th>product_name</th>\n",
       "      <th>product_sku</th>\n",
       "      <th>product_type_map</th>\n",
       "      <th>brand_map</th>\n",
       "      <th>product_name_type_brand</th>\n",
       "    </tr>\n",
       "  </thead>\n",
       "  <tbody>\n",
       "    <tr>\n",
       "      <th>109</th>\n",
       "      <td>PETROCAS</td>\n",
       "      <td>PETRO-CAS</td>\n",
       "      <td>UNKNOWN</td>\n",
       "      <td>UNKNOWN</td>\n",
       "      <td>PETROCAS-UNKNOWN-UNKNOWN</td>\n",
       "    </tr>\n",
       "    <tr>\n",
       "      <th>415</th>\n",
       "      <td>MESTAC</td>\n",
       "      <td>MESTAC</td>\n",
       "      <td>UNKNOWN</td>\n",
       "      <td>UNKNOWN</td>\n",
       "      <td>MESTAC-UNKNOWN-UNKNOWN</td>\n",
       "    </tr>\n",
       "    <tr>\n",
       "      <th>504</th>\n",
       "      <td>FERTIPHOS</td>\n",
       "      <td>FERTIPHOS</td>\n",
       "      <td>UNKNOWN</td>\n",
       "      <td>UNKNOWN</td>\n",
       "      <td>FERTIPHOS-UNKNOWN-UNKNOWN</td>\n",
       "    </tr>\n",
       "    <tr>\n",
       "      <th>637</th>\n",
       "      <td>UREA PETRO</td>\n",
       "      <td>UREA PETRO</td>\n",
       "      <td>UREA</td>\n",
       "      <td>UNKNOWN</td>\n",
       "      <td>UREA PETRO-UREA-UNKNOWN</td>\n",
       "    </tr>\n",
       "    <tr>\n",
       "      <th>734</th>\n",
       "      <td>ZA PETRO</td>\n",
       "      <td>ZA PETRO</td>\n",
       "      <td>ZA</td>\n",
       "      <td>UNKNOWN</td>\n",
       "      <td>ZA PETRO-ZA-UNKNOWN</td>\n",
       "    </tr>\n",
       "  </tbody>\n",
       "</table>\n",
       "</div>"
      ],
      "text/plain": [
       "    product_name product_sku product_type_map brand_map  \\\n",
       "109     PETROCAS   PETRO-CAS          UNKNOWN   UNKNOWN   \n",
       "415       MESTAC      MESTAC          UNKNOWN   UNKNOWN   \n",
       "504    FERTIPHOS   FERTIPHOS          UNKNOWN   UNKNOWN   \n",
       "637   UREA PETRO  UREA PETRO             UREA   UNKNOWN   \n",
       "734     ZA PETRO    ZA PETRO               ZA   UNKNOWN   \n",
       "\n",
       "       product_name_type_brand  \n",
       "109   PETROCAS-UNKNOWN-UNKNOWN  \n",
       "415     MESTAC-UNKNOWN-UNKNOWN  \n",
       "504  FERTIPHOS-UNKNOWN-UNKNOWN  \n",
       "637    UREA PETRO-UREA-UNKNOWN  \n",
       "734        ZA PETRO-ZA-UNKNOWN  "
      ]
     },
     "execution_count": 91,
     "metadata": {},
     "output_type": "execute_result"
    }
   ],
   "source": [
    "product_pos_test.head()"
   ]
  },
  {
   "cell_type": "code",
   "execution_count": 93,
   "metadata": {},
   "outputs": [
    {
     "name": "stderr",
     "output_type": "stream",
     "text": [
      "<ipython-input-93-15026b2656b9>:1: SettingWithCopyWarning: \n",
      "A value is trying to be set on a copy of a slice from a DataFrame.\n",
      "Try using .loc[row_indexer,col_indexer] = value instead\n",
      "\n",
      "See the caveats in the documentation: https://pandas.pydata.org/pandas-docs/stable/user_guide/indexing.html#returning-a-view-versus-a-copy\n",
      "  product_pos_test['product_sku'] = np.where(\n"
     ]
    }
   ],
   "source": [
    "product_pos_test['product_sku'] = np.where(\n",
    "    product_pos_test['product_sku'] == 'UNKNOWN',\n",
    "    product_pos_test['product_sku'] == '',\n",
    "    product_pos_test['product_sku']\n",
    ")"
   ]
  },
  {
   "cell_type": "code",
   "execution_count": 94,
   "metadata": {},
   "outputs": [
    {
     "data": {
      "text/html": [
       "<div>\n",
       "<style scoped>\n",
       "    .dataframe tbody tr th:only-of-type {\n",
       "        vertical-align: middle;\n",
       "    }\n",
       "\n",
       "    .dataframe tbody tr th {\n",
       "        vertical-align: top;\n",
       "    }\n",
       "\n",
       "    .dataframe thead th {\n",
       "        text-align: right;\n",
       "    }\n",
       "</style>\n",
       "<table border=\"1\" class=\"dataframe\">\n",
       "  <thead>\n",
       "    <tr style=\"text-align: right;\">\n",
       "      <th></th>\n",
       "      <th>product_name</th>\n",
       "      <th>product_sku</th>\n",
       "      <th>product_type_map</th>\n",
       "      <th>brand_map</th>\n",
       "      <th>product_name_type_brand</th>\n",
       "    </tr>\n",
       "  </thead>\n",
       "  <tbody>\n",
       "    <tr>\n",
       "      <th>0</th>\n",
       "      <td>PUPUK UREA N 46</td>\n",
       "      <td>UNKNOWN</td>\n",
       "      <td>UREA</td>\n",
       "      <td>UNKNOWN</td>\n",
       "      <td>PUPUK UREA N 46-UREA-UNKNOWN</td>\n",
       "    </tr>\n",
       "    <tr>\n",
       "      <th>1</th>\n",
       "      <td>PUPUK AMONIUM SULFAT ZA</td>\n",
       "      <td>UNKNOWN</td>\n",
       "      <td>ZA</td>\n",
       "      <td>UNKNOWN</td>\n",
       "      <td>PUPUK AMONIUM SULFAT ZA-ZA-UNKNOWN</td>\n",
       "    </tr>\n",
       "    <tr>\n",
       "      <th>2</th>\n",
       "      <td>PUPUK SUPER FOSFAT SP36</td>\n",
       "      <td>UNKNOWN</td>\n",
       "      <td>FOSFAT</td>\n",
       "      <td>UNKNOWN</td>\n",
       "      <td>PUPUK SUPER FOSFAT SP36-FOSFAT-UNKNOWN</td>\n",
       "    </tr>\n",
       "    <tr>\n",
       "      <th>3</th>\n",
       "      <td>PUPUK NPK PHONSKA</td>\n",
       "      <td>UNKNOWN</td>\n",
       "      <td>UNKNOWN</td>\n",
       "      <td>UNKNOWN</td>\n",
       "      <td>PUPUK NPK PHONSKA-UNKNOWN-UNKNOWN</td>\n",
       "    </tr>\n",
       "    <tr>\n",
       "      <th>4</th>\n",
       "      <td>PUPUK NPK FORMULA KHUSUS</td>\n",
       "      <td>UNKNOWN</td>\n",
       "      <td>UNKNOWN</td>\n",
       "      <td>UNKNOWN</td>\n",
       "      <td>PUPUK NPK FORMULA KHUSUS-UNKNOWN-UNKNOWN</td>\n",
       "    </tr>\n",
       "  </tbody>\n",
       "</table>\n",
       "</div>"
      ],
      "text/plain": [
       "               product_name product_sku product_type_map brand_map  \\\n",
       "0           PUPUK UREA N 46     UNKNOWN             UREA   UNKNOWN   \n",
       "1   PUPUK AMONIUM SULFAT ZA     UNKNOWN               ZA   UNKNOWN   \n",
       "2   PUPUK SUPER FOSFAT SP36     UNKNOWN           FOSFAT   UNKNOWN   \n",
       "3         PUPUK NPK PHONSKA     UNKNOWN          UNKNOWN   UNKNOWN   \n",
       "4  PUPUK NPK FORMULA KHUSUS     UNKNOWN          UNKNOWN   UNKNOWN   \n",
       "\n",
       "                    product_name_type_brand  \n",
       "0              PUPUK UREA N 46-UREA-UNKNOWN  \n",
       "1        PUPUK AMONIUM SULFAT ZA-ZA-UNKNOWN  \n",
       "2    PUPUK SUPER FOSFAT SP36-FOSFAT-UNKNOWN  \n",
       "3         PUPUK NPK PHONSKA-UNKNOWN-UNKNOWN  \n",
       "4  PUPUK NPK FORMULA KHUSUS-UNKNOWN-UNKNOWN  "
      ]
     },
     "execution_count": 94,
     "metadata": {},
     "output_type": "execute_result"
    }
   ],
   "source": [
    "product_pos.head()"
   ]
  },
  {
   "cell_type": "code",
   "execution_count": 92,
   "metadata": {},
   "outputs": [
    {
     "name": "stdout",
     "output_type": "stream",
     "text": [
      "Accuracy: 0.999090960740867\n"
     ]
    },
    {
     "name": "stderr",
     "output_type": "stream",
     "text": [
      "/Users/sakabumi/miniconda3/lib/python3.8/site-packages/sklearn/metrics/_classification.py:1469: UndefinedMetricWarning: Precision and F-score are ill-defined and being set to 0.0 in labels with no predicted samples. Use `zero_division` parameter to control this behavior.\n",
      "  _warn_prf(average, modifier, msg_start, len(result))\n",
      "/Users/sakabumi/miniconda3/lib/python3.8/site-packages/sklearn/metrics/_classification.py:1469: UndefinedMetricWarning: Precision and F-score are ill-defined and being set to 0.0 in labels with no predicted samples. Use `zero_division` parameter to control this behavior.\n",
      "  _warn_prf(average, modifier, msg_start, len(result))\n"
     ]
    },
    {
     "name": "stdout",
     "output_type": "stream",
     "text": [
      "Classification Report:\n",
      "                             precision    recall  f1-score   support\n",
      "\n",
      "   KAPUR PERTANIAN KEBOMAS       0.00      0.00      0.00         1\n",
      "                  MEROKEZA       0.00      0.00      0.00         1\n",
      "                 MESTIKALI       0.00      0.00      0.00         1\n",
      "MUTIARA GROWER 15-09-20+TE       0.00      0.00      0.00         1\n",
      "                 NITRALITE       0.00      0.00      0.00         1\n",
      "         NPK KUJANG 30-6-8       0.00      0.00      0.00         1\n",
      "          PELANGI 15-15-15       0.00      0.00      0.00         1\n",
      "          PELANGI 16-16-16       0.00      0.00      0.00         1\n",
      "     PETRO NITRAT 16-16-16       0.00      0.00      0.00         1\n",
      "                 PETRO-CAS       0.00      0.00      0.00         1\n",
      "                   PHOSGRO       0.00      0.00      0.00         1\n",
      "                   UNKNOWN       1.00      1.00      1.00     17585\n",
      "                   URECOTE       0.00      0.00      0.00         1\n",
      "               ZA PAK TANI       0.00      0.00      0.00         1\n",
      "                  ZA PETRO       0.00      0.00      0.00         1\n",
      "             ZA PLUS PETRO       0.00      0.00      0.00         1\n",
      "                  ZK PETRO       0.00      0.00      0.00         1\n",
      "\n",
      "                  accuracy                           1.00     17601\n",
      "                 macro avg       0.06      0.06      0.06     17601\n",
      "              weighted avg       1.00      1.00      1.00     17601\n",
      "\n"
     ]
    },
    {
     "name": "stderr",
     "output_type": "stream",
     "text": [
      "/Users/sakabumi/miniconda3/lib/python3.8/site-packages/sklearn/metrics/_classification.py:1469: UndefinedMetricWarning: Precision and F-score are ill-defined and being set to 0.0 in labels with no predicted samples. Use `zero_division` parameter to control this behavior.\n",
      "  _warn_prf(average, modifier, msg_start, len(result))\n"
     ]
    }
   ],
   "source": [
    "# Split the data into training and testing sets\n",
    "X_train, X_test, y_train, y_test = train_test_split(product_pos['product_name_type_brand'], product_pos['product_sku'], test_size=0.4, random_state=42)\n",
    "\n",
    "# Create a text classification pipeline\n",
    "model = make_pipeline(TfidfVectorizer(), MultinomialNB())\n",
    "\n",
    "# Train the model\n",
    "model.fit(X_train, y_train)\n",
    "\n",
    "# Make predictions on the test set\n",
    "predictions = model.predict(X_test)\n",
    "\n",
    "# Evaluate the model\n",
    "print(\"Accuracy:\", metrics.accuracy_score(y_test, predictions))\n",
    "print(\"Classification Report:\\n\", metrics.classification_report(y_test, predictions))"
   ]
  },
  {
   "cell_type": "code",
   "execution_count": null,
   "metadata": {},
   "outputs": [],
   "source": []
  }
 ],
 "metadata": {
  "kernelspec": {
   "display_name": "Python 3",
   "language": "python",
   "name": "python3"
  },
  "language_info": {
   "codemirror_mode": {
    "name": "ipython",
    "version": 3
   },
   "file_extension": ".py",
   "mimetype": "text/x-python",
   "name": "python",
   "nbconvert_exporter": "python",
   "pygments_lexer": "ipython3",
   "version": "3.8.5"
  }
 },
 "nbformat": 4,
 "nbformat_minor": 2
}

{
 "cells": [
  {
   "cell_type": "markdown",
   "metadata": {},
   "source": [
    "# Mapping product names to product SKUs"
   ]
  },
  {
   "cell_type": "markdown",
   "metadata": {},
   "source": [
    "##### There are 2 datasets:\n",
    "##### - Product Catalog, consists of 4 columns: `Product SKU`, `Type`, `Brand`, & `Formula`\n",
    "##### - Product Names from transactions' PoS, only contains 1 column: `Product Name`\n",
    "##### The product names need to be mapped to the available product SKUs. If necessary, new product SKUs might be generated to map the existing product names or the incoming ones in the future."
   ]
  },
  {
   "cell_type": "code",
   "execution_count": 1,
   "metadata": {},
   "outputs": [],
   "source": [
    "# Import pandas to make DataFrames from the available datasets\n",
    "import pandas as pd"
   ]
  },
  {
   "cell_type": "code",
   "execution_count": 42,
   "metadata": {},
   "outputs": [],
   "source": [
    "# Read datasets and assign them in each DataFrame variable\n",
    "product_catalog = pd.read_excel('Product Catalog.xlsx')\n",
    "product_pos = pd.read_excel('Product Name from PoS Transactions.xlsx')"
   ]
  },
  {
   "cell_type": "code",
   "execution_count": 43,
   "metadata": {},
   "outputs": [
    {
     "data": {
      "text/html": [
       "<div>\n",
       "<style scoped>\n",
       "    .dataframe tbody tr th:only-of-type {\n",
       "        vertical-align: middle;\n",
       "    }\n",
       "\n",
       "    .dataframe tbody tr th {\n",
       "        vertical-align: top;\n",
       "    }\n",
       "\n",
       "    .dataframe thead th {\n",
       "        text-align: right;\n",
       "    }\n",
       "</style>\n",
       "<table border=\"1\" class=\"dataframe\">\n",
       "  <thead>\n",
       "    <tr style=\"text-align: right;\">\n",
       "      <th></th>\n",
       "      <th>Product SKU</th>\n",
       "      <th>Brand</th>\n",
       "      <th>Type</th>\n",
       "      <th>Formula</th>\n",
       "    </tr>\n",
       "  </thead>\n",
       "  <tbody>\n",
       "    <tr>\n",
       "      <th>0</th>\n",
       "      <td>Urea Petro</td>\n",
       "      <td>PIHC</td>\n",
       "      <td>Urea</td>\n",
       "      <td>NaN</td>\n",
       "    </tr>\n",
       "    <tr>\n",
       "      <th>1</th>\n",
       "      <td>Urea PIM</td>\n",
       "      <td>PIHC</td>\n",
       "      <td>Urea</td>\n",
       "      <td>NaN</td>\n",
       "    </tr>\n",
       "    <tr>\n",
       "      <th>2</th>\n",
       "      <td>Urea Nitrea</td>\n",
       "      <td>PIHC</td>\n",
       "      <td>Urea</td>\n",
       "      <td>NaN</td>\n",
       "    </tr>\n",
       "    <tr>\n",
       "      <th>3</th>\n",
       "      <td>Urea Daun Buah</td>\n",
       "      <td>PIHC</td>\n",
       "      <td>Urea</td>\n",
       "      <td>NaN</td>\n",
       "    </tr>\n",
       "    <tr>\n",
       "      <th>4</th>\n",
       "      <td>Urea Pusri</td>\n",
       "      <td>PIHC</td>\n",
       "      <td>Urea</td>\n",
       "      <td>NaN</td>\n",
       "    </tr>\n",
       "  </tbody>\n",
       "</table>\n",
       "</div>"
      ],
      "text/plain": [
       "      Product SKU Brand  Type Formula\n",
       "0      Urea Petro  PIHC  Urea     NaN\n",
       "1        Urea PIM  PIHC  Urea     NaN\n",
       "2     Urea Nitrea  PIHC  Urea     NaN\n",
       "3  Urea Daun Buah  PIHC  Urea     NaN\n",
       "4      Urea Pusri  PIHC  Urea     NaN"
      ]
     },
     "execution_count": 43,
     "metadata": {},
     "output_type": "execute_result"
    }
   ],
   "source": [
    "product_catalog.head()"
   ]
  },
  {
   "cell_type": "code",
   "execution_count": 44,
   "metadata": {},
   "outputs": [
    {
     "name": "stdout",
     "output_type": "stream",
     "text": [
      "<class 'pandas.core.frame.DataFrame'>\n",
      "RangeIndex: 187 entries, 0 to 186\n",
      "Data columns (total 4 columns):\n",
      " #   Column       Non-Null Count  Dtype \n",
      "---  ------       --------------  ----- \n",
      " 0   Product SKU  187 non-null    object\n",
      " 1   Brand        187 non-null    object\n",
      " 2   Type         187 non-null    object\n",
      " 3   Formula      123 non-null    object\n",
      "dtypes: object(4)\n",
      "memory usage: 6.0+ KB\n"
     ]
    }
   ],
   "source": [
    "# Checking how many NaN values are there\n",
    "product_catalog.info()"
   ]
  },
  {
   "cell_type": "code",
   "execution_count": 45,
   "metadata": {},
   "outputs": [
    {
     "data": {
      "text/html": [
       "<div>\n",
       "<style scoped>\n",
       "    .dataframe tbody tr th:only-of-type {\n",
       "        vertical-align: middle;\n",
       "    }\n",
       "\n",
       "    .dataframe tbody tr th {\n",
       "        vertical-align: top;\n",
       "    }\n",
       "\n",
       "    .dataframe thead th {\n",
       "        text-align: right;\n",
       "    }\n",
       "</style>\n",
       "<table border=\"1\" class=\"dataframe\">\n",
       "  <thead>\n",
       "    <tr style=\"text-align: right;\">\n",
       "      <th></th>\n",
       "      <th>Product SKU</th>\n",
       "      <th>Brand</th>\n",
       "      <th>Type</th>\n",
       "      <th>Formula</th>\n",
       "    </tr>\n",
       "  </thead>\n",
       "  <tbody>\n",
       "    <tr>\n",
       "      <th>count</th>\n",
       "      <td>187</td>\n",
       "      <td>187</td>\n",
       "      <td>187</td>\n",
       "      <td>123</td>\n",
       "    </tr>\n",
       "    <tr>\n",
       "      <th>unique</th>\n",
       "      <td>186</td>\n",
       "      <td>9</td>\n",
       "      <td>10</td>\n",
       "      <td>57</td>\n",
       "    </tr>\n",
       "    <tr>\n",
       "      <th>top</th>\n",
       "      <td>ENTEC 13-10-20</td>\n",
       "      <td>PIHC</td>\n",
       "      <td>Majemuk</td>\n",
       "      <td>15-15-15</td>\n",
       "    </tr>\n",
       "    <tr>\n",
       "      <th>freq</th>\n",
       "      <td>2</td>\n",
       "      <td>43</td>\n",
       "      <td>123</td>\n",
       "      <td>15</td>\n",
       "    </tr>\n",
       "  </tbody>\n",
       "</table>\n",
       "</div>"
      ],
      "text/plain": [
       "           Product SKU Brand     Type    Formula\n",
       "count              187   187      187        123\n",
       "unique             186     9       10         57\n",
       "top     ENTEC 13-10-20  PIHC  Majemuk   15-15-15\n",
       "freq                 2    43      123         15"
      ]
     },
     "execution_count": 45,
     "metadata": {},
     "output_type": "execute_result"
    }
   ],
   "source": [
    "# Checking how many unique values on each column to help further data exploration\n",
    "product_catalog.describe()"
   ]
  },
  {
   "cell_type": "markdown",
   "metadata": {},
   "source": [
    "From 187 entries, there are:\n",
    "- 186 unique product SKUs\n",
    "- 9 brands,\n",
    "- 10 types, &\n",
    "- 57 unique formulas\n",
    "\n",
    "The occurence of Formula is equal to the frequency of Type \"Majemuk\". Therefore, Formula is not null only for that Type."
   ]
  },
  {
   "cell_type": "code",
   "execution_count": 46,
   "metadata": {},
   "outputs": [],
   "source": [
    "product_catalog = product_catalog.drop_duplicates()"
   ]
  },
  {
   "cell_type": "code",
   "execution_count": 47,
   "metadata": {},
   "outputs": [
    {
     "name": "stdout",
     "output_type": "stream",
     "text": [
      "<class 'pandas.core.frame.DataFrame'>\n",
      "Index: 186 entries, 0 to 186\n",
      "Data columns (total 4 columns):\n",
      " #   Column       Non-Null Count  Dtype \n",
      "---  ------       --------------  ----- \n",
      " 0   Product SKU  186 non-null    object\n",
      " 1   Brand        186 non-null    object\n",
      " 2   Type         186 non-null    object\n",
      " 3   Formula      122 non-null    object\n",
      "dtypes: object(4)\n",
      "memory usage: 7.3+ KB\n"
     ]
    }
   ],
   "source": [
    "product_catalog.info()"
   ]
  },
  {
   "cell_type": "code",
   "execution_count": 48,
   "metadata": {},
   "outputs": [],
   "source": [
    "product_catalog = product_catalog.reset_index(drop=True)"
   ]
  },
  {
   "cell_type": "code",
   "execution_count": 49,
   "metadata": {},
   "outputs": [
    {
     "name": "stdout",
     "output_type": "stream",
     "text": [
      "<class 'pandas.core.frame.DataFrame'>\n",
      "RangeIndex: 186 entries, 0 to 185\n",
      "Data columns (total 4 columns):\n",
      " #   Column       Non-Null Count  Dtype \n",
      "---  ------       --------------  ----- \n",
      " 0   Product SKU  186 non-null    object\n",
      " 1   Brand        186 non-null    object\n",
      " 2   Type         186 non-null    object\n",
      " 3   Formula      122 non-null    object\n",
      "dtypes: object(4)\n",
      "memory usage: 5.9+ KB\n"
     ]
    }
   ],
   "source": [
    "product_catalog.info()"
   ]
  },
  {
   "cell_type": "code",
   "execution_count": 50,
   "metadata": {},
   "outputs": [
    {
     "name": "stdout",
     "output_type": "stream",
     "text": [
      "<class 'pandas.core.frame.DataFrame'>\n",
      "RangeIndex: 44002 entries, 0 to 44001\n",
      "Data columns (total 1 columns):\n",
      " #   Column        Non-Null Count  Dtype \n",
      "---  ------        --------------  ----- \n",
      " 0   Product Name  44001 non-null  object\n",
      "dtypes: object(1)\n",
      "memory usage: 343.9+ KB\n"
     ]
    }
   ],
   "source": [
    "product_pos.info()"
   ]
  },
  {
   "cell_type": "code",
   "execution_count": 51,
   "metadata": {},
   "outputs": [
    {
     "data": {
      "text/html": [
       "<div>\n",
       "<style scoped>\n",
       "    .dataframe tbody tr th:only-of-type {\n",
       "        vertical-align: middle;\n",
       "    }\n",
       "\n",
       "    .dataframe tbody tr th {\n",
       "        vertical-align: top;\n",
       "    }\n",
       "\n",
       "    .dataframe thead th {\n",
       "        text-align: right;\n",
       "    }\n",
       "</style>\n",
       "<table border=\"1\" class=\"dataframe\">\n",
       "  <thead>\n",
       "    <tr style=\"text-align: right;\">\n",
       "      <th></th>\n",
       "      <th>Product Name</th>\n",
       "    </tr>\n",
       "  </thead>\n",
       "  <tbody>\n",
       "    <tr>\n",
       "      <th>count</th>\n",
       "      <td>44001</td>\n",
       "    </tr>\n",
       "    <tr>\n",
       "      <th>unique</th>\n",
       "      <td>44001</td>\n",
       "    </tr>\n",
       "    <tr>\n",
       "      <th>top</th>\n",
       "      <td>Pupuk Urea N 46%</td>\n",
       "    </tr>\n",
       "    <tr>\n",
       "      <th>freq</th>\n",
       "      <td>1</td>\n",
       "    </tr>\n",
       "  </tbody>\n",
       "</table>\n",
       "</div>"
      ],
      "text/plain": [
       "            Product Name\n",
       "count              44001\n",
       "unique             44001\n",
       "top     Pupuk Urea N 46%\n",
       "freq                   1"
      ]
     },
     "execution_count": 51,
     "metadata": {},
     "output_type": "execute_result"
    }
   ],
   "source": [
    "product_pos.describe()"
   ]
  },
  {
   "cell_type": "code",
   "execution_count": 52,
   "metadata": {},
   "outputs": [],
   "source": [
    "# Rename column names in the new df \"product_catalog\" & \"product_pos\"\n",
    "product_catalog = product_catalog.rename(columns={\n",
    "    \"Product SKU\": \"product_sku\",\n",
    "    \"Brand\": \"brand\",\n",
    "    \"Type\": \"type\",\n",
    "    \"Formula\": \"formula\"\n",
    "})\n",
    "product_pos = product_pos.rename(columns={\"Product Name\": \"product_name\"})\n",
    "\n",
    "# Convert all columns' values in \"product_catalog\" & \"product_pos\" to uppercase\n",
    "product_catalog[['product_sku', 'brand', 'type']] = product_catalog[['product_sku', 'brand', 'type']].astype(str).apply(lambda col: col.str.upper())\n",
    "product_pos['product_name'] = product_pos['product_name'].str.upper()"
   ]
  },
  {
   "cell_type": "code",
   "execution_count": 53,
   "metadata": {},
   "outputs": [
    {
     "name": "stdout",
     "output_type": "stream",
     "text": [
      "<class 'pandas.core.frame.DataFrame'>\n",
      "RangeIndex: 186 entries, 0 to 185\n",
      "Data columns (total 4 columns):\n",
      " #   Column       Non-Null Count  Dtype \n",
      "---  ------       --------------  ----- \n",
      " 0   product_sku  186 non-null    object\n",
      " 1   brand        186 non-null    object\n",
      " 2   type         186 non-null    object\n",
      " 3   formula      122 non-null    object\n",
      "dtypes: object(4)\n",
      "memory usage: 5.9+ KB\n"
     ]
    }
   ],
   "source": [
    "product_catalog.info()"
   ]
  },
  {
   "cell_type": "code",
   "execution_count": 54,
   "metadata": {},
   "outputs": [
    {
     "name": "stdout",
     "output_type": "stream",
     "text": [
      "<class 'pandas.core.frame.DataFrame'>\n",
      "RangeIndex: 44002 entries, 0 to 44001\n",
      "Data columns (total 1 columns):\n",
      " #   Column        Non-Null Count  Dtype \n",
      "---  ------        --------------  ----- \n",
      " 0   product_name  44001 non-null  object\n",
      "dtypes: object(1)\n",
      "memory usage: 343.9+ KB\n"
     ]
    }
   ],
   "source": [
    "product_pos.info()"
   ]
  },
  {
   "cell_type": "markdown",
   "metadata": {},
   "source": [
    "## Preprocess the columns by cleaning the values"
   ]
  },
  {
   "cell_type": "code",
   "execution_count": 55,
   "metadata": {},
   "outputs": [],
   "source": [
    "import re\n",
    "\n",
    "# Create a function to do the cleaning\n",
    "def preprocess_text(text):\n",
    "    # Trim leading and trailing spaces\n",
    "    text = text.strip()\n",
    "    \n",
    "    # Remove special characters, non-alphanumeric characters, and punctuation\n",
    "    text = re.sub(r'[^\\w\\s]', '', text)\n",
    "    \n",
    "    # Remove multiple spaces and replace them with a single space\n",
    "    text = re.sub(r'\\s+', ' ', text)\n",
    "    \n",
    "    return text"
   ]
  },
  {
   "cell_type": "code",
   "execution_count": 56,
   "metadata": {},
   "outputs": [],
   "source": [
    "# Cleaning the product names & formulas\n",
    "preprocessed_product_names = [preprocess_text(str(name)) for name in product_pos['product_name']]\n",
    "preprocessed_formula = [preprocess_text(str(formula)) for formula in product_catalog['formula']]\n",
    "\n",
    "# Put back the preprocessed values to their own columns\n",
    "product_pos['product_name'] = pd.DataFrame(preprocessed_product_names)\n",
    "product_catalog['formula'] = pd.DataFrame(preprocessed_formula)"
   ]
  },
  {
   "cell_type": "code",
   "execution_count": 57,
   "metadata": {},
   "outputs": [
    {
     "name": "stdout",
     "output_type": "stream",
     "text": [
      "<class 'pandas.core.frame.DataFrame'>\n",
      "RangeIndex: 186 entries, 0 to 185\n",
      "Data columns (total 4 columns):\n",
      " #   Column       Non-Null Count  Dtype \n",
      "---  ------       --------------  ----- \n",
      " 0   product_sku  186 non-null    object\n",
      " 1   brand        186 non-null    object\n",
      " 2   type         186 non-null    object\n",
      " 3   formula      186 non-null    object\n",
      "dtypes: object(4)\n",
      "memory usage: 5.9+ KB\n"
     ]
    }
   ],
   "source": [
    "product_catalog.info()"
   ]
  },
  {
   "cell_type": "code",
   "execution_count": 58,
   "metadata": {},
   "outputs": [
    {
     "data": {
      "text/html": [
       "<div>\n",
       "<style scoped>\n",
       "    .dataframe tbody tr th:only-of-type {\n",
       "        vertical-align: middle;\n",
       "    }\n",
       "\n",
       "    .dataframe tbody tr th {\n",
       "        vertical-align: top;\n",
       "    }\n",
       "\n",
       "    .dataframe thead th {\n",
       "        text-align: right;\n",
       "    }\n",
       "</style>\n",
       "<table border=\"1\" class=\"dataframe\">\n",
       "  <thead>\n",
       "    <tr style=\"text-align: right;\">\n",
       "      <th></th>\n",
       "      <th>product_sku</th>\n",
       "      <th>brand</th>\n",
       "      <th>type</th>\n",
       "      <th>formula</th>\n",
       "    </tr>\n",
       "  </thead>\n",
       "  <tbody>\n",
       "    <tr>\n",
       "      <th>0</th>\n",
       "      <td>UREA PETRO</td>\n",
       "      <td>PIHC</td>\n",
       "      <td>UREA</td>\n",
       "      <td>nan</td>\n",
       "    </tr>\n",
       "    <tr>\n",
       "      <th>1</th>\n",
       "      <td>UREA PIM</td>\n",
       "      <td>PIHC</td>\n",
       "      <td>UREA</td>\n",
       "      <td>nan</td>\n",
       "    </tr>\n",
       "    <tr>\n",
       "      <th>2</th>\n",
       "      <td>UREA NITREA</td>\n",
       "      <td>PIHC</td>\n",
       "      <td>UREA</td>\n",
       "      <td>nan</td>\n",
       "    </tr>\n",
       "    <tr>\n",
       "      <th>3</th>\n",
       "      <td>UREA DAUN BUAH</td>\n",
       "      <td>PIHC</td>\n",
       "      <td>UREA</td>\n",
       "      <td>nan</td>\n",
       "    </tr>\n",
       "    <tr>\n",
       "      <th>4</th>\n",
       "      <td>UREA PUSRI</td>\n",
       "      <td>PIHC</td>\n",
       "      <td>UREA</td>\n",
       "      <td>nan</td>\n",
       "    </tr>\n",
       "  </tbody>\n",
       "</table>\n",
       "</div>"
      ],
      "text/plain": [
       "      product_sku brand  type formula\n",
       "0      UREA PETRO  PIHC  UREA     nan\n",
       "1        UREA PIM  PIHC  UREA     nan\n",
       "2     UREA NITREA  PIHC  UREA     nan\n",
       "3  UREA DAUN BUAH  PIHC  UREA     nan\n",
       "4      UREA PUSRI  PIHC  UREA     nan"
      ]
     },
     "execution_count": 58,
     "metadata": {},
     "output_type": "execute_result"
    }
   ],
   "source": [
    "product_catalog.head()"
   ]
  },
  {
   "cell_type": "markdown",
   "metadata": {},
   "source": [
    "The `NaN` values in column `formula` become `nan` after the `preprocessing` function has been used"
   ]
  },
  {
   "cell_type": "code",
   "execution_count": 59,
   "metadata": {},
   "outputs": [
    {
     "data": {
      "text/html": [
       "<div>\n",
       "<style scoped>\n",
       "    .dataframe tbody tr th:only-of-type {\n",
       "        vertical-align: middle;\n",
       "    }\n",
       "\n",
       "    .dataframe tbody tr th {\n",
       "        vertical-align: top;\n",
       "    }\n",
       "\n",
       "    .dataframe thead th {\n",
       "        text-align: right;\n",
       "    }\n",
       "</style>\n",
       "<table border=\"1\" class=\"dataframe\">\n",
       "  <thead>\n",
       "    <tr style=\"text-align: right;\">\n",
       "      <th></th>\n",
       "      <th>product_sku</th>\n",
       "      <th>brand</th>\n",
       "      <th>type</th>\n",
       "      <th>formula</th>\n",
       "    </tr>\n",
       "  </thead>\n",
       "  <tbody>\n",
       "    <tr>\n",
       "      <th>count</th>\n",
       "      <td>186</td>\n",
       "      <td>186</td>\n",
       "      <td>186</td>\n",
       "      <td>186</td>\n",
       "    </tr>\n",
       "    <tr>\n",
       "      <th>unique</th>\n",
       "      <td>186</td>\n",
       "      <td>9</td>\n",
       "      <td>10</td>\n",
       "      <td>58</td>\n",
       "    </tr>\n",
       "    <tr>\n",
       "      <th>top</th>\n",
       "      <td>UREA PETRO</td>\n",
       "      <td>PIHC</td>\n",
       "      <td>MAJEMUK</td>\n",
       "      <td>nan</td>\n",
       "    </tr>\n",
       "    <tr>\n",
       "      <th>freq</th>\n",
       "      <td>1</td>\n",
       "      <td>43</td>\n",
       "      <td>122</td>\n",
       "      <td>64</td>\n",
       "    </tr>\n",
       "  </tbody>\n",
       "</table>\n",
       "</div>"
      ],
      "text/plain": [
       "       product_sku brand     type formula\n",
       "count          186   186      186     186\n",
       "unique         186     9       10      58\n",
       "top     UREA PETRO  PIHC  MAJEMUK     nan\n",
       "freq             1    43      122      64"
      ]
     },
     "execution_count": 59,
     "metadata": {},
     "output_type": "execute_result"
    }
   ],
   "source": [
    "product_catalog.describe()"
   ]
  },
  {
   "cell_type": "markdown",
   "metadata": {},
   "source": [
    "In `formula`, the count increases to 186 due to the rise of `nan` after the data cleaning in that column.\n",
    "The non-nan values can be used to tag the product names as type `MAJEMUK` as long as the product names contain the formula."
   ]
  },
  {
   "cell_type": "code",
   "execution_count": 60,
   "metadata": {},
   "outputs": [
    {
     "name": "stdout",
     "output_type": "stream",
     "text": [
      "<class 'pandas.core.frame.DataFrame'>\n",
      "RangeIndex: 44002 entries, 0 to 44001\n",
      "Data columns (total 1 columns):\n",
      " #   Column        Non-Null Count  Dtype \n",
      "---  ------        --------------  ----- \n",
      " 0   product_name  44002 non-null  object\n",
      "dtypes: object(1)\n",
      "memory usage: 343.9+ KB\n"
     ]
    }
   ],
   "source": [
    "product_pos.info()"
   ]
  },
  {
   "cell_type": "code",
   "execution_count": 61,
   "metadata": {},
   "outputs": [
    {
     "data": {
      "text/html": [
       "<div>\n",
       "<style scoped>\n",
       "    .dataframe tbody tr th:only-of-type {\n",
       "        vertical-align: middle;\n",
       "    }\n",
       "\n",
       "    .dataframe tbody tr th {\n",
       "        vertical-align: top;\n",
       "    }\n",
       "\n",
       "    .dataframe thead th {\n",
       "        text-align: right;\n",
       "    }\n",
       "</style>\n",
       "<table border=\"1\" class=\"dataframe\">\n",
       "  <thead>\n",
       "    <tr style=\"text-align: right;\">\n",
       "      <th></th>\n",
       "      <th>product_name</th>\n",
       "    </tr>\n",
       "  </thead>\n",
       "  <tbody>\n",
       "    <tr>\n",
       "      <th>count</th>\n",
       "      <td>44002</td>\n",
       "    </tr>\n",
       "    <tr>\n",
       "      <th>unique</th>\n",
       "      <td>40021</td>\n",
       "    </tr>\n",
       "    <tr>\n",
       "      <th>top</th>\n",
       "      <td>SP 26 25KG</td>\n",
       "    </tr>\n",
       "    <tr>\n",
       "      <th>freq</th>\n",
       "      <td>10</td>\n",
       "    </tr>\n",
       "  </tbody>\n",
       "</table>\n",
       "</div>"
      ],
      "text/plain": [
       "       product_name\n",
       "count         44002\n",
       "unique        40021\n",
       "top      SP 26 25KG\n",
       "freq             10"
      ]
     },
     "execution_count": 61,
     "metadata": {},
     "output_type": "execute_result"
    }
   ],
   "source": [
    "product_pos.describe()"
   ]
  },
  {
   "cell_type": "markdown",
   "metadata": {},
   "source": [
    "After preprocessing the product names, the number of unique product names drops to 40021 from 44002"
   ]
  },
  {
   "cell_type": "code",
   "execution_count": 62,
   "metadata": {},
   "outputs": [],
   "source": [
    "# Deduplicate the product names\n",
    "product_pos = product_pos.drop_duplicates()\n",
    "product_pos = product_pos.reset_index(drop=True)"
   ]
  },
  {
   "cell_type": "code",
   "execution_count": 63,
   "metadata": {},
   "outputs": [
    {
     "data": {
      "text/html": [
       "<div>\n",
       "<style scoped>\n",
       "    .dataframe tbody tr th:only-of-type {\n",
       "        vertical-align: middle;\n",
       "    }\n",
       "\n",
       "    .dataframe tbody tr th {\n",
       "        vertical-align: top;\n",
       "    }\n",
       "\n",
       "    .dataframe thead th {\n",
       "        text-align: right;\n",
       "    }\n",
       "</style>\n",
       "<table border=\"1\" class=\"dataframe\">\n",
       "  <thead>\n",
       "    <tr style=\"text-align: right;\">\n",
       "      <th></th>\n",
       "      <th>product_name</th>\n",
       "    </tr>\n",
       "  </thead>\n",
       "  <tbody>\n",
       "    <tr>\n",
       "      <th>count</th>\n",
       "      <td>40021</td>\n",
       "    </tr>\n",
       "    <tr>\n",
       "      <th>unique</th>\n",
       "      <td>40021</td>\n",
       "    </tr>\n",
       "    <tr>\n",
       "      <th>top</th>\n",
       "      <td>PUPUK UREA N 46</td>\n",
       "    </tr>\n",
       "    <tr>\n",
       "      <th>freq</th>\n",
       "      <td>1</td>\n",
       "    </tr>\n",
       "  </tbody>\n",
       "</table>\n",
       "</div>"
      ],
      "text/plain": [
       "           product_name\n",
       "count             40021\n",
       "unique            40021\n",
       "top     PUPUK UREA N 46\n",
       "freq                  1"
      ]
     },
     "execution_count": 63,
     "metadata": {},
     "output_type": "execute_result"
    }
   ],
   "source": [
    "product_pos.describe()"
   ]
  },
  {
   "cell_type": "code",
   "execution_count": 64,
   "metadata": {},
   "outputs": [],
   "source": [
    "# Dataset `product_pos` is joined by product SKUs data from\n",
    "# dataset `product_catalog` using join keys `product_name` & `product_sku`.\n",
    "product_pos = product_pos.merge(\n",
    "    product_catalog['product_sku'],\n",
    "    left_on='product_name',\n",
    "    right_on='product_sku',\n",
    "    how='left')"
   ]
  },
  {
   "cell_type": "code",
   "execution_count": 65,
   "metadata": {},
   "outputs": [
    {
     "data": {
      "text/html": [
       "<div>\n",
       "<style scoped>\n",
       "    .dataframe tbody tr th:only-of-type {\n",
       "        vertical-align: middle;\n",
       "    }\n",
       "\n",
       "    .dataframe tbody tr th {\n",
       "        vertical-align: top;\n",
       "    }\n",
       "\n",
       "    .dataframe thead th {\n",
       "        text-align: right;\n",
       "    }\n",
       "</style>\n",
       "<table border=\"1\" class=\"dataframe\">\n",
       "  <thead>\n",
       "    <tr style=\"text-align: right;\">\n",
       "      <th></th>\n",
       "      <th>product_name</th>\n",
       "      <th>product_sku</th>\n",
       "    </tr>\n",
       "  </thead>\n",
       "  <tbody>\n",
       "    <tr>\n",
       "      <th>0</th>\n",
       "      <td>PUPUK UREA N 46</td>\n",
       "      <td>NaN</td>\n",
       "    </tr>\n",
       "    <tr>\n",
       "      <th>1</th>\n",
       "      <td>PUPUK AMONIUM SULFAT ZA</td>\n",
       "      <td>NaN</td>\n",
       "    </tr>\n",
       "    <tr>\n",
       "      <th>2</th>\n",
       "      <td>PUPUK SUPER FOSFAT SP36</td>\n",
       "      <td>NaN</td>\n",
       "    </tr>\n",
       "    <tr>\n",
       "      <th>3</th>\n",
       "      <td>PUPUK NPK PHONSKA</td>\n",
       "      <td>NaN</td>\n",
       "    </tr>\n",
       "    <tr>\n",
       "      <th>4</th>\n",
       "      <td>PUPUK NPK FORMULA KHUSUS</td>\n",
       "      <td>NaN</td>\n",
       "    </tr>\n",
       "  </tbody>\n",
       "</table>\n",
       "</div>"
      ],
      "text/plain": [
       "               product_name product_sku\n",
       "0           PUPUK UREA N 46         NaN\n",
       "1   PUPUK AMONIUM SULFAT ZA         NaN\n",
       "2   PUPUK SUPER FOSFAT SP36         NaN\n",
       "3         PUPUK NPK PHONSKA         NaN\n",
       "4  PUPUK NPK FORMULA KHUSUS         NaN"
      ]
     },
     "execution_count": 65,
     "metadata": {},
     "output_type": "execute_result"
    }
   ],
   "source": [
    "product_pos.head()"
   ]
  },
  {
   "cell_type": "code",
   "execution_count": 66,
   "metadata": {},
   "outputs": [
    {
     "name": "stdout",
     "output_type": "stream",
     "text": [
      "<class 'pandas.core.frame.DataFrame'>\n",
      "RangeIndex: 40021 entries, 0 to 40020\n",
      "Data columns (total 2 columns):\n",
      " #   Column        Non-Null Count  Dtype \n",
      "---  ------        --------------  ----- \n",
      " 0   product_name  40021 non-null  object\n",
      " 1   product_sku   23 non-null     object\n",
      "dtypes: object(2)\n",
      "memory usage: 625.5+ KB\n"
     ]
    }
   ],
   "source": [
    "product_pos.info()"
   ]
  },
  {
   "cell_type": "code",
   "execution_count": 67,
   "metadata": {},
   "outputs": [
    {
     "data": {
      "text/html": [
       "<div>\n",
       "<style scoped>\n",
       "    .dataframe tbody tr th:only-of-type {\n",
       "        vertical-align: middle;\n",
       "    }\n",
       "\n",
       "    .dataframe tbody tr th {\n",
       "        vertical-align: top;\n",
       "    }\n",
       "\n",
       "    .dataframe thead th {\n",
       "        text-align: right;\n",
       "    }\n",
       "</style>\n",
       "<table border=\"1\" class=\"dataframe\">\n",
       "  <thead>\n",
       "    <tr style=\"text-align: right;\">\n",
       "      <th></th>\n",
       "      <th>product_name</th>\n",
       "      <th>product_sku</th>\n",
       "    </tr>\n",
       "  </thead>\n",
       "  <tbody>\n",
       "    <tr>\n",
       "      <th>count</th>\n",
       "      <td>40021</td>\n",
       "      <td>23</td>\n",
       "    </tr>\n",
       "    <tr>\n",
       "      <th>unique</th>\n",
       "      <td>40021</td>\n",
       "      <td>23</td>\n",
       "    </tr>\n",
       "    <tr>\n",
       "      <th>top</th>\n",
       "      <td>PUPUK UREA N 46</td>\n",
       "      <td>MESTAC</td>\n",
       "    </tr>\n",
       "    <tr>\n",
       "      <th>freq</th>\n",
       "      <td>1</td>\n",
       "      <td>1</td>\n",
       "    </tr>\n",
       "  </tbody>\n",
       "</table>\n",
       "</div>"
      ],
      "text/plain": [
       "           product_name product_sku\n",
       "count             40021          23\n",
       "unique            40021          23\n",
       "top     PUPUK UREA N 46      MESTAC\n",
       "freq                  1           1"
      ]
     },
     "execution_count": 67,
     "metadata": {},
     "output_type": "execute_result"
    }
   ],
   "source": [
    "product_pos.describe()"
   ]
  },
  {
   "cell_type": "markdown",
   "metadata": {},
   "source": [
    "Turns out, there are only 23 out of 40,021 `product names` which can be mapped."
   ]
  },
  {
   "cell_type": "markdown",
   "metadata": {},
   "source": [
    "## Mapping"
   ]
  },
  {
   "cell_type": "code",
   "execution_count": 70,
   "metadata": {},
   "outputs": [],
   "source": [
    "# List down the unique values of each column: `type` & `formula`\n",
    "# The lists then can be used in a function to map the product names\n",
    "list_product_type = list(product_catalog['type'].unique())\n",
    "list_formula = list(product_catalog['formula'].unique())\n",
    "\n",
    "# Remove `nan` from `list_formula`\n",
    "list_formula.remove('nan')"
   ]
  },
  {
   "cell_type": "code",
   "execution_count": 71,
   "metadata": {},
   "outputs": [
    {
     "data": {
      "text/plain": [
       "['UREA',\n",
       " 'NITROGEN',\n",
       " 'ZA',\n",
       " 'ZK',\n",
       " 'MIKRO',\n",
       " 'FOSFAT',\n",
       " 'ORGANIK',\n",
       " 'MAJEMUK',\n",
       " 'KALIUM',\n",
       " 'MG']"
      ]
     },
     "execution_count": 71,
     "metadata": {},
     "output_type": "execute_result"
    }
   ],
   "source": [
    "list_product_type"
   ]
  },
  {
   "cell_type": "code",
   "execution_count": 72,
   "metadata": {},
   "outputs": [
    {
     "data": {
      "text/plain": [
       "['151515',\n",
       " '121217',\n",
       " '12622',\n",
       " '16168',\n",
       " '20200',\n",
       " '16200',\n",
       " '161616',\n",
       " '15920',\n",
       " '3068',\n",
       " '281010',\n",
       " '201010',\n",
       " '201018',\n",
       " '13627',\n",
       " '181014',\n",
       " '121120',\n",
       " '131324',\n",
       " '92525',\n",
       " '15150',\n",
       " '12610',\n",
       " '05234',\n",
       " '8939',\n",
       " '15156',\n",
       " '13827',\n",
       " '7635',\n",
       " '151022',\n",
       " '21147',\n",
       " '18614',\n",
       " '18810',\n",
       " '201012',\n",
       " '28613',\n",
       " '81519',\n",
       " '9156',\n",
       " '12624',\n",
       " '05232',\n",
       " '15015',\n",
       " '12600',\n",
       " '121236',\n",
       " '181818',\n",
       " '61828',\n",
       " '01617',\n",
       " '13046',\n",
       " '1370463',\n",
       " '131121',\n",
       " '2577',\n",
       " '121118',\n",
       " '18126',\n",
       " '19919',\n",
       " '05035',\n",
       " '18460',\n",
       " '7634',\n",
       " '161018',\n",
       " '131020',\n",
       " '15520',\n",
       " '131111',\n",
       " '151020',\n",
       " '15200',\n",
       " '20614']"
      ]
     },
     "execution_count": 72,
     "metadata": {},
     "output_type": "execute_result"
    }
   ],
   "source": [
    "list_formula"
   ]
  },
  {
   "cell_type": "code",
   "execution_count": 73,
   "metadata": {},
   "outputs": [],
   "source": [
    "# Create a function to map product type to product name\n",
    "def map_product_type(product_name):\n",
    "    for product_type in list_product_type:\n",
    "        if product_type in product_name:\n",
    "            return product_type\n",
    "    return \"UNKNOWN\"\n",
    "\n",
    "# Create a function to map product type `Majemuk` to product name which contains a certain formula\n",
    "def map_product_type_majemuk(product_name):\n",
    "    for formula in list_formula:\n",
    "        if formula in product_name:\n",
    "            return \"MAJEMUK\"\n",
    "    return \"UNKNOWN\""
   ]
  },
  {
   "cell_type": "code",
   "execution_count": 82,
   "metadata": {},
   "outputs": [],
   "source": [
    "# Mapping process using function `map_product_type()` & `map_product_type_majemuk()`\n",
    "mapped_product_types = [map_product_type(str(name)) for name in product_pos['product_name']]\n",
    "mapped_product_types_majemuk = [map_product_type_majemuk(str(name)) for name in product_pos['product_name']]\n",
    "\n",
    "# Convert the list of the mapped product types to a DataFrame column within product_pos\n",
    "product_pos['product_type_map'] = pd.DataFrame(mapped_product_types)\n",
    "product_pos['product_type_map_majemuk'] = pd.DataFrame(mapped_product_types_majemuk)"
   ]
  },
  {
   "cell_type": "code",
   "execution_count": 83,
   "metadata": {},
   "outputs": [
    {
     "data": {
      "text/html": [
       "<div>\n",
       "<style scoped>\n",
       "    .dataframe tbody tr th:only-of-type {\n",
       "        vertical-align: middle;\n",
       "    }\n",
       "\n",
       "    .dataframe tbody tr th {\n",
       "        vertical-align: top;\n",
       "    }\n",
       "\n",
       "    .dataframe thead th {\n",
       "        text-align: right;\n",
       "    }\n",
       "</style>\n",
       "<table border=\"1\" class=\"dataframe\">\n",
       "  <thead>\n",
       "    <tr style=\"text-align: right;\">\n",
       "      <th></th>\n",
       "      <th>product_name</th>\n",
       "      <th>product_sku</th>\n",
       "      <th>product_type_map</th>\n",
       "      <th>product_type_map_majemuk</th>\n",
       "    </tr>\n",
       "  </thead>\n",
       "  <tbody>\n",
       "    <tr>\n",
       "      <th>0</th>\n",
       "      <td>PUPUK UREA N 46</td>\n",
       "      <td>NaN</td>\n",
       "      <td>UREA</td>\n",
       "      <td>UNKNOWN</td>\n",
       "    </tr>\n",
       "    <tr>\n",
       "      <th>1</th>\n",
       "      <td>PUPUK AMONIUM SULFAT ZA</td>\n",
       "      <td>NaN</td>\n",
       "      <td>ZA</td>\n",
       "      <td>UNKNOWN</td>\n",
       "    </tr>\n",
       "    <tr>\n",
       "      <th>2</th>\n",
       "      <td>PUPUK SUPER FOSFAT SP36</td>\n",
       "      <td>NaN</td>\n",
       "      <td>FOSFAT</td>\n",
       "      <td>UNKNOWN</td>\n",
       "    </tr>\n",
       "    <tr>\n",
       "      <th>3</th>\n",
       "      <td>PUPUK NPK PHONSKA</td>\n",
       "      <td>NaN</td>\n",
       "      <td>UNKNOWN</td>\n",
       "      <td>UNKNOWN</td>\n",
       "    </tr>\n",
       "    <tr>\n",
       "      <th>4</th>\n",
       "      <td>PUPUK NPK FORMULA KHUSUS</td>\n",
       "      <td>NaN</td>\n",
       "      <td>UNKNOWN</td>\n",
       "      <td>UNKNOWN</td>\n",
       "    </tr>\n",
       "  </tbody>\n",
       "</table>\n",
       "</div>"
      ],
      "text/plain": [
       "               product_name product_sku product_type_map  \\\n",
       "0           PUPUK UREA N 46         NaN             UREA   \n",
       "1   PUPUK AMONIUM SULFAT ZA         NaN               ZA   \n",
       "2   PUPUK SUPER FOSFAT SP36         NaN           FOSFAT   \n",
       "3         PUPUK NPK PHONSKA         NaN          UNKNOWN   \n",
       "4  PUPUK NPK FORMULA KHUSUS         NaN          UNKNOWN   \n",
       "\n",
       "  product_type_map_majemuk  \n",
       "0                  UNKNOWN  \n",
       "1                  UNKNOWN  \n",
       "2                  UNKNOWN  \n",
       "3                  UNKNOWN  \n",
       "4                  UNKNOWN  "
      ]
     },
     "execution_count": 83,
     "metadata": {},
     "output_type": "execute_result"
    }
   ],
   "source": [
    "product_pos.head()"
   ]
  },
  {
   "cell_type": "code",
   "execution_count": 84,
   "metadata": {},
   "outputs": [
    {
     "name": "stdout",
     "output_type": "stream",
     "text": [
      "<class 'pandas.core.frame.DataFrame'>\n",
      "RangeIndex: 40021 entries, 0 to 40020\n",
      "Data columns (total 4 columns):\n",
      " #   Column                    Non-Null Count  Dtype \n",
      "---  ------                    --------------  ----- \n",
      " 0   product_name              40021 non-null  object\n",
      " 1   product_sku               23 non-null     object\n",
      " 2   product_type_map          40021 non-null  object\n",
      " 3   product_type_map_majemuk  40021 non-null  object\n",
      "dtypes: object(4)\n",
      "memory usage: 1.2+ MB\n"
     ]
    }
   ],
   "source": [
    "product_pos.info()"
   ]
  },
  {
   "cell_type": "code",
   "execution_count": 85,
   "metadata": {},
   "outputs": [
    {
     "data": {
      "text/html": [
       "<div>\n",
       "<style scoped>\n",
       "    .dataframe tbody tr th:only-of-type {\n",
       "        vertical-align: middle;\n",
       "    }\n",
       "\n",
       "    .dataframe tbody tr th {\n",
       "        vertical-align: top;\n",
       "    }\n",
       "\n",
       "    .dataframe thead th {\n",
       "        text-align: right;\n",
       "    }\n",
       "</style>\n",
       "<table border=\"1\" class=\"dataframe\">\n",
       "  <thead>\n",
       "    <tr style=\"text-align: right;\">\n",
       "      <th></th>\n",
       "      <th>product_name</th>\n",
       "      <th>product_sku</th>\n",
       "      <th>product_type_map</th>\n",
       "      <th>product_type_map_majemuk</th>\n",
       "    </tr>\n",
       "  </thead>\n",
       "  <tbody>\n",
       "    <tr>\n",
       "      <th>count</th>\n",
       "      <td>40021</td>\n",
       "      <td>23</td>\n",
       "      <td>40021</td>\n",
       "      <td>40021</td>\n",
       "    </tr>\n",
       "    <tr>\n",
       "      <th>unique</th>\n",
       "      <td>40021</td>\n",
       "      <td>23</td>\n",
       "      <td>11</td>\n",
       "      <td>2</td>\n",
       "    </tr>\n",
       "    <tr>\n",
       "      <th>top</th>\n",
       "      <td>PUPUK UREA N 46</td>\n",
       "      <td>MESTAC</td>\n",
       "      <td>UNKNOWN</td>\n",
       "      <td>UNKNOWN</td>\n",
       "    </tr>\n",
       "    <tr>\n",
       "      <th>freq</th>\n",
       "      <td>1</td>\n",
       "      <td>1</td>\n",
       "      <td>38654</td>\n",
       "      <td>39140</td>\n",
       "    </tr>\n",
       "  </tbody>\n",
       "</table>\n",
       "</div>"
      ],
      "text/plain": [
       "           product_name product_sku product_type_map product_type_map_majemuk\n",
       "count             40021          23            40021                    40021\n",
       "unique            40021          23               11                        2\n",
       "top     PUPUK UREA N 46      MESTAC          UNKNOWN                  UNKNOWN\n",
       "freq                  1           1            38654                    39140"
      ]
     },
     "execution_count": 85,
     "metadata": {},
     "output_type": "execute_result"
    }
   ],
   "source": [
    "product_pos.describe()"
   ]
  },
  {
   "cell_type": "code",
   "execution_count": 86,
   "metadata": {},
   "outputs": [
    {
     "data": {
      "text/plain": [
       "product_type_map\n",
       "FOSFAT         10\n",
       "KALIUM         22\n",
       "MAJEMUK        15\n",
       "MG             61\n",
       "MIKRO          32\n",
       "NITROGEN        4\n",
       "ORGANIK        40\n",
       "UNKNOWN     38654\n",
       "UREA          575\n",
       "ZA            571\n",
       "ZK             37\n",
       "Name: product_name, dtype: int64"
      ]
     },
     "execution_count": 86,
     "metadata": {},
     "output_type": "execute_result"
    }
   ],
   "source": [
    "product_pos.groupby(['product_type_map'])['product_name'].count()"
   ]
  },
  {
   "cell_type": "markdown",
   "metadata": {},
   "source": [
    "There are 38,654 product names with no `product_type`"
   ]
  },
  {
   "cell_type": "code",
   "execution_count": 87,
   "metadata": {},
   "outputs": [
    {
     "data": {
      "text/plain": [
       "product_type_map_majemuk\n",
       "MAJEMUK      881\n",
       "UNKNOWN    39140\n",
       "Name: product_name, dtype: int64"
      ]
     },
     "execution_count": 87,
     "metadata": {},
     "output_type": "execute_result"
    }
   ],
   "source": [
    "product_pos.groupby(['product_type_map_majemuk'])['product_name'].count()"
   ]
  },
  {
   "cell_type": "markdown",
   "metadata": {},
   "source": [
    "There are 881 product names mapped as type `MAJEMUK`, compared to the previous mapping of product types resulting in only 15 product names for the same type."
   ]
  },
  {
   "cell_type": "code",
   "execution_count": 89,
   "metadata": {},
   "outputs": [],
   "source": [
    "# Replacing the `UNKNOWN` product types of `product_type_map` with `MAJEMUK` using `product_type_map_majemuk`\n",
    "\n",
    "import numpy as np\n",
    "\n",
    "# Replace the values in \"product_type_map\" \n",
    "product_pos['product_type_map'] = np.where(\n",
    "    (product_pos['product_type_map'] == 'UNKNOWN') & (product_pos['product_type_map_majemuk'] != 'UNKNOWN'),\n",
    "    product_pos['product_type_map_majemuk'],\n",
    "    product_pos['product_type_map']\n",
    ")"
   ]
  },
  {
   "cell_type": "code",
   "execution_count": 90,
   "metadata": {},
   "outputs": [
    {
     "data": {
      "text/plain": [
       "product_type_map\n",
       "FOSFAT         10\n",
       "KALIUM         22\n",
       "MAJEMUK       841\n",
       "MG             61\n",
       "MIKRO          32\n",
       "NITROGEN        4\n",
       "ORGANIK        40\n",
       "UNKNOWN     37828\n",
       "UREA          575\n",
       "ZA            571\n",
       "ZK             37\n",
       "Name: product_name, dtype: int64"
      ]
     },
     "execution_count": 90,
     "metadata": {},
     "output_type": "execute_result"
    }
   ],
   "source": [
    "product_pos.groupby(['product_type_map'])['product_name'].count()"
   ]
  },
  {
   "cell_type": "code",
   "execution_count": 91,
   "metadata": {},
   "outputs": [
    {
     "data": {
      "text/html": [
       "<div>\n",
       "<style scoped>\n",
       "    .dataframe tbody tr th:only-of-type {\n",
       "        vertical-align: middle;\n",
       "    }\n",
       "\n",
       "    .dataframe tbody tr th {\n",
       "        vertical-align: top;\n",
       "    }\n",
       "\n",
       "    .dataframe thead th {\n",
       "        text-align: right;\n",
       "    }\n",
       "</style>\n",
       "<table border=\"1\" class=\"dataframe\">\n",
       "  <thead>\n",
       "    <tr style=\"text-align: right;\">\n",
       "      <th></th>\n",
       "      <th>product_name</th>\n",
       "      <th>product_sku</th>\n",
       "      <th>product_type_map</th>\n",
       "      <th>product_type_map_majemuk</th>\n",
       "    </tr>\n",
       "  </thead>\n",
       "  <tbody>\n",
       "    <tr>\n",
       "      <th>count</th>\n",
       "      <td>40021</td>\n",
       "      <td>23</td>\n",
       "      <td>40021</td>\n",
       "      <td>40021</td>\n",
       "    </tr>\n",
       "    <tr>\n",
       "      <th>unique</th>\n",
       "      <td>40021</td>\n",
       "      <td>23</td>\n",
       "      <td>11</td>\n",
       "      <td>2</td>\n",
       "    </tr>\n",
       "    <tr>\n",
       "      <th>top</th>\n",
       "      <td>PUPUK UREA N 46</td>\n",
       "      <td>MESTAC</td>\n",
       "      <td>UNKNOWN</td>\n",
       "      <td>UNKNOWN</td>\n",
       "    </tr>\n",
       "    <tr>\n",
       "      <th>freq</th>\n",
       "      <td>1</td>\n",
       "      <td>1</td>\n",
       "      <td>37828</td>\n",
       "      <td>39140</td>\n",
       "    </tr>\n",
       "  </tbody>\n",
       "</table>\n",
       "</div>"
      ],
      "text/plain": [
       "           product_name product_sku product_type_map product_type_map_majemuk\n",
       "count             40021          23            40021                    40021\n",
       "unique            40021          23               11                        2\n",
       "top     PUPUK UREA N 46      MESTAC          UNKNOWN                  UNKNOWN\n",
       "freq                  1           1            37828                    39140"
      ]
     },
     "execution_count": 91,
     "metadata": {},
     "output_type": "execute_result"
    }
   ],
   "source": [
    "product_pos.describe()"
   ]
  },
  {
   "cell_type": "code",
   "execution_count": 92,
   "metadata": {},
   "outputs": [],
   "source": [
    "# List down the unique values in column `brand`\n",
    "list_brand = list(product_catalog['brand'].unique())"
   ]
  },
  {
   "cell_type": "code",
   "execution_count": 93,
   "metadata": {},
   "outputs": [
    {
     "data": {
      "text/plain": [
       "['PIHC',\n",
       " 'MUTIARA',\n",
       " 'MAHKOTA',\n",
       " 'PAK TANI',\n",
       " 'YARA',\n",
       " 'TAWON',\n",
       " 'DGW/HEXTAR',\n",
       " 'BASF',\n",
       " 'LAOYING']"
      ]
     },
     "execution_count": 93,
     "metadata": {},
     "output_type": "execute_result"
    }
   ],
   "source": [
    "list_brand"
   ]
  },
  {
   "cell_type": "code",
   "execution_count": 94,
   "metadata": {},
   "outputs": [],
   "source": [
    "# Create a function to map brand to product name\n",
    "def map_brand(product_name):\n",
    "    for brand in list_brand:\n",
    "        if brand in product_name:\n",
    "            return brand\n",
    "    return \"UNKNOWN\""
   ]
  },
  {
   "cell_type": "code",
   "execution_count": 95,
   "metadata": {},
   "outputs": [],
   "source": [
    "# Mapping process using function `map_brand()`\n",
    "# Convert argument `name` within the function `map_brand()` to avoid this error:\n",
    "#   TypeError: argument of type 'float' is not iterable\n",
    "\n",
    "mapped_brands = [map_brand(str(name)) for name in product_pos['product_name']]\n",
    "\n",
    "# Convert the list of the mapped brands to a DataFrame column within product_pos\n",
    "product_pos['brand_map'] = pd.DataFrame(mapped_brands)"
   ]
  },
  {
   "cell_type": "code",
   "execution_count": 96,
   "metadata": {},
   "outputs": [
    {
     "data": {
      "text/plain": [
       "brand_map\n",
       "BASF            8\n",
       "LAOYING        43\n",
       "MAHKOTA       121\n",
       "MUTIARA       328\n",
       "PAK TANI      214\n",
       "TAWON         236\n",
       "UNKNOWN     38847\n",
       "YARA          224\n",
       "Name: product_name, dtype: int64"
      ]
     },
     "execution_count": 96,
     "metadata": {},
     "output_type": "execute_result"
    }
   ],
   "source": [
    "product_pos.groupby(['brand_map'])['product_name'].count()"
   ]
  },
  {
   "cell_type": "code",
   "execution_count": 97,
   "metadata": {},
   "outputs": [
    {
     "data": {
      "text/html": [
       "<div>\n",
       "<style scoped>\n",
       "    .dataframe tbody tr th:only-of-type {\n",
       "        vertical-align: middle;\n",
       "    }\n",
       "\n",
       "    .dataframe tbody tr th {\n",
       "        vertical-align: top;\n",
       "    }\n",
       "\n",
       "    .dataframe thead th {\n",
       "        text-align: right;\n",
       "    }\n",
       "</style>\n",
       "<table border=\"1\" class=\"dataframe\">\n",
       "  <thead>\n",
       "    <tr style=\"text-align: right;\">\n",
       "      <th></th>\n",
       "      <th>product_name</th>\n",
       "      <th>product_sku</th>\n",
       "      <th>product_type_map</th>\n",
       "      <th>product_type_map_majemuk</th>\n",
       "      <th>brand_map</th>\n",
       "    </tr>\n",
       "  </thead>\n",
       "  <tbody>\n",
       "    <tr>\n",
       "      <th>81</th>\n",
       "      <td>KCL MAHKOTA</td>\n",
       "      <td>NaN</td>\n",
       "      <td>UNKNOWN</td>\n",
       "      <td>UNKNOWN</td>\n",
       "      <td>MAHKOTA</td>\n",
       "    </tr>\n",
       "    <tr>\n",
       "      <th>82</th>\n",
       "      <td>MUTIARA</td>\n",
       "      <td>NaN</td>\n",
       "      <td>UNKNOWN</td>\n",
       "      <td>UNKNOWN</td>\n",
       "      <td>MUTIARA</td>\n",
       "    </tr>\n",
       "    <tr>\n",
       "      <th>83</th>\n",
       "      <td>MUTIARA GROWER</td>\n",
       "      <td>NaN</td>\n",
       "      <td>UNKNOWN</td>\n",
       "      <td>UNKNOWN</td>\n",
       "      <td>MUTIARA</td>\n",
       "    </tr>\n",
       "    <tr>\n",
       "      <th>366</th>\n",
       "      <td>ZA TAWON50KG</td>\n",
       "      <td>NaN</td>\n",
       "      <td>ZA</td>\n",
       "      <td>UNKNOWN</td>\n",
       "      <td>TAWON</td>\n",
       "    </tr>\n",
       "    <tr>\n",
       "      <th>410</th>\n",
       "      <td>DAP TAWON</td>\n",
       "      <td>NaN</td>\n",
       "      <td>UNKNOWN</td>\n",
       "      <td>UNKNOWN</td>\n",
       "      <td>TAWON</td>\n",
       "    </tr>\n",
       "  </tbody>\n",
       "</table>\n",
       "</div>"
      ],
      "text/plain": [
       "       product_name product_sku product_type_map product_type_map_majemuk  \\\n",
       "81      KCL MAHKOTA         NaN          UNKNOWN                  UNKNOWN   \n",
       "82          MUTIARA         NaN          UNKNOWN                  UNKNOWN   \n",
       "83   MUTIARA GROWER         NaN          UNKNOWN                  UNKNOWN   \n",
       "366    ZA TAWON50KG         NaN               ZA                  UNKNOWN   \n",
       "410       DAP TAWON         NaN          UNKNOWN                  UNKNOWN   \n",
       "\n",
       "    brand_map  \n",
       "81    MAHKOTA  \n",
       "82    MUTIARA  \n",
       "83    MUTIARA  \n",
       "366     TAWON  \n",
       "410     TAWON  "
      ]
     },
     "execution_count": 97,
     "metadata": {},
     "output_type": "execute_result"
    }
   ],
   "source": [
    "product_pos[product_pos['brand_map'] != 'UNKNOWN'].head()"
   ]
  },
  {
   "cell_type": "code",
   "execution_count": 98,
   "metadata": {},
   "outputs": [],
   "source": [
    "# Remove column `product_type_map_majemuk` since it is no longer used\n",
    "product_pos = product_pos.drop(['product_type_map_majemuk'], axis=1)"
   ]
  },
  {
   "cell_type": "code",
   "execution_count": 99,
   "metadata": {},
   "outputs": [
    {
     "data": {
      "text/html": [
       "<div>\n",
       "<style scoped>\n",
       "    .dataframe tbody tr th:only-of-type {\n",
       "        vertical-align: middle;\n",
       "    }\n",
       "\n",
       "    .dataframe tbody tr th {\n",
       "        vertical-align: top;\n",
       "    }\n",
       "\n",
       "    .dataframe thead th {\n",
       "        text-align: right;\n",
       "    }\n",
       "</style>\n",
       "<table border=\"1\" class=\"dataframe\">\n",
       "  <thead>\n",
       "    <tr style=\"text-align: right;\">\n",
       "      <th></th>\n",
       "      <th>product_name</th>\n",
       "      <th>product_sku</th>\n",
       "      <th>product_type_map</th>\n",
       "      <th>brand_map</th>\n",
       "    </tr>\n",
       "  </thead>\n",
       "  <tbody>\n",
       "    <tr>\n",
       "      <th>count</th>\n",
       "      <td>40021</td>\n",
       "      <td>23</td>\n",
       "      <td>40021</td>\n",
       "      <td>40021</td>\n",
       "    </tr>\n",
       "    <tr>\n",
       "      <th>unique</th>\n",
       "      <td>40021</td>\n",
       "      <td>23</td>\n",
       "      <td>11</td>\n",
       "      <td>8</td>\n",
       "    </tr>\n",
       "    <tr>\n",
       "      <th>top</th>\n",
       "      <td>PUPUK UREA N 46</td>\n",
       "      <td>MESTAC</td>\n",
       "      <td>UNKNOWN</td>\n",
       "      <td>UNKNOWN</td>\n",
       "    </tr>\n",
       "    <tr>\n",
       "      <th>freq</th>\n",
       "      <td>1</td>\n",
       "      <td>1</td>\n",
       "      <td>37828</td>\n",
       "      <td>38847</td>\n",
       "    </tr>\n",
       "  </tbody>\n",
       "</table>\n",
       "</div>"
      ],
      "text/plain": [
       "           product_name product_sku product_type_map brand_map\n",
       "count             40021          23            40021     40021\n",
       "unique            40021          23               11         8\n",
       "top     PUPUK UREA N 46      MESTAC          UNKNOWN   UNKNOWN\n",
       "freq                  1           1            37828     38847"
      ]
     },
     "execution_count": 99,
     "metadata": {},
     "output_type": "execute_result"
    }
   ],
   "source": [
    "product_pos.describe()"
   ]
  },
  {
   "cell_type": "code",
   "execution_count": 100,
   "metadata": {},
   "outputs": [
    {
     "data": {
      "text/plain": [
       "product_name        2193\n",
       "product_sku           11\n",
       "product_type_map    2193\n",
       "brand_map           2193\n",
       "dtype: int64"
      ]
     },
     "execution_count": 100,
     "metadata": {},
     "output_type": "execute_result"
    }
   ],
   "source": [
    "product_pos[product_pos['product_type_map'] != 'UNKNOWN'].count()"
   ]
  },
  {
   "cell_type": "markdown",
   "metadata": {},
   "source": [
    "There are 2,193 records whose product types are not equal to `UNKNOWN`"
   ]
  },
  {
   "cell_type": "code",
   "execution_count": 101,
   "metadata": {},
   "outputs": [
    {
     "data": {
      "text/plain": [
       "product_name        1174\n",
       "product_sku            2\n",
       "product_type_map    1174\n",
       "brand_map           1174\n",
       "dtype: int64"
      ]
     },
     "execution_count": 101,
     "metadata": {},
     "output_type": "execute_result"
    }
   ],
   "source": [
    "product_pos[product_pos['brand_map'] != 'UNKNOWN'].count()"
   ]
  },
  {
   "cell_type": "markdown",
   "metadata": {},
   "source": [
    "There are 1,174 records whose brands are not equal to `UNKNOWN`"
   ]
  },
  {
   "cell_type": "markdown",
   "metadata": {},
   "source": [
    "## Trial, creating models"
   ]
  },
  {
   "cell_type": "markdown",
   "metadata": {},
   "source": [
    "The models will be used to map `product_name` to `type`, `brand`, and then `product_sku`"
   ]
  },
  {
   "cell_type": "code",
   "execution_count": 102,
   "metadata": {},
   "outputs": [],
   "source": [
    "# Import necessary libraries\n",
    "from sklearn.model_selection import train_test_split\n",
    "from sklearn.feature_extraction.text import TfidfVectorizer\n",
    "from sklearn.naive_bayes import MultinomialNB\n",
    "from sklearn.pipeline import make_pipeline\n",
    "from sklearn import metrics"
   ]
  },
  {
   "cell_type": "code",
   "execution_count": 103,
   "metadata": {},
   "outputs": [],
   "source": [
    "# Creating dataframes as raw data to be used in the model training\n",
    "df_map_type = product_pos[product_pos['product_type_map'] != 'UNKNOWN']\n",
    "df_map_brand = product_pos[product_pos['brand_map'] != 'UNKNOWN']"
   ]
  },
  {
   "cell_type": "code",
   "execution_count": 104,
   "metadata": {},
   "outputs": [
    {
     "data": {
      "text/html": [
       "<div>\n",
       "<style scoped>\n",
       "    .dataframe tbody tr th:only-of-type {\n",
       "        vertical-align: middle;\n",
       "    }\n",
       "\n",
       "    .dataframe tbody tr th {\n",
       "        vertical-align: top;\n",
       "    }\n",
       "\n",
       "    .dataframe thead th {\n",
       "        text-align: right;\n",
       "    }\n",
       "</style>\n",
       "<table border=\"1\" class=\"dataframe\">\n",
       "  <thead>\n",
       "    <tr style=\"text-align: right;\">\n",
       "      <th></th>\n",
       "      <th>product_name</th>\n",
       "      <th>product_sku</th>\n",
       "      <th>product_type_map</th>\n",
       "      <th>brand_map</th>\n",
       "    </tr>\n",
       "  </thead>\n",
       "  <tbody>\n",
       "    <tr>\n",
       "      <th>count</th>\n",
       "      <td>2193</td>\n",
       "      <td>11</td>\n",
       "      <td>2193</td>\n",
       "      <td>2193</td>\n",
       "    </tr>\n",
       "    <tr>\n",
       "      <th>unique</th>\n",
       "      <td>2193</td>\n",
       "      <td>11</td>\n",
       "      <td>10</td>\n",
       "      <td>8</td>\n",
       "    </tr>\n",
       "    <tr>\n",
       "      <th>top</th>\n",
       "      <td>PUPUK UREA N 46</td>\n",
       "      <td>UREA PETRO</td>\n",
       "      <td>MAJEMUK</td>\n",
       "      <td>UNKNOWN</td>\n",
       "    </tr>\n",
       "    <tr>\n",
       "      <th>freq</th>\n",
       "      <td>1</td>\n",
       "      <td>1</td>\n",
       "      <td>841</td>\n",
       "      <td>1889</td>\n",
       "    </tr>\n",
       "  </tbody>\n",
       "</table>\n",
       "</div>"
      ],
      "text/plain": [
       "           product_name product_sku product_type_map brand_map\n",
       "count              2193          11             2193      2193\n",
       "unique             2193          11               10         8\n",
       "top     PUPUK UREA N 46  UREA PETRO          MAJEMUK   UNKNOWN\n",
       "freq                  1           1              841      1889"
      ]
     },
     "execution_count": 104,
     "metadata": {},
     "output_type": "execute_result"
    }
   ],
   "source": [
    "df_map_type.describe()"
   ]
  },
  {
   "cell_type": "code",
   "execution_count": 105,
   "metadata": {},
   "outputs": [
    {
     "data": {
      "text/html": [
       "<div>\n",
       "<style scoped>\n",
       "    .dataframe tbody tr th:only-of-type {\n",
       "        vertical-align: middle;\n",
       "    }\n",
       "\n",
       "    .dataframe tbody tr th {\n",
       "        vertical-align: top;\n",
       "    }\n",
       "\n",
       "    .dataframe thead th {\n",
       "        text-align: right;\n",
       "    }\n",
       "</style>\n",
       "<table border=\"1\" class=\"dataframe\">\n",
       "  <thead>\n",
       "    <tr style=\"text-align: right;\">\n",
       "      <th></th>\n",
       "      <th>product_name</th>\n",
       "      <th>product_sku</th>\n",
       "      <th>product_type_map</th>\n",
       "      <th>brand_map</th>\n",
       "    </tr>\n",
       "  </thead>\n",
       "  <tbody>\n",
       "    <tr>\n",
       "      <th>count</th>\n",
       "      <td>1174</td>\n",
       "      <td>2</td>\n",
       "      <td>1174</td>\n",
       "      <td>1174</td>\n",
       "    </tr>\n",
       "    <tr>\n",
       "      <th>unique</th>\n",
       "      <td>1174</td>\n",
       "      <td>2</td>\n",
       "      <td>4</td>\n",
       "      <td>7</td>\n",
       "    </tr>\n",
       "    <tr>\n",
       "      <th>top</th>\n",
       "      <td>KCL MAHKOTA</td>\n",
       "      <td>ZA PAK TANI</td>\n",
       "      <td>UNKNOWN</td>\n",
       "      <td>MUTIARA</td>\n",
       "    </tr>\n",
       "    <tr>\n",
       "      <th>freq</th>\n",
       "      <td>1</td>\n",
       "      <td>1</td>\n",
       "      <td>870</td>\n",
       "      <td>328</td>\n",
       "    </tr>\n",
       "  </tbody>\n",
       "</table>\n",
       "</div>"
      ],
      "text/plain": [
       "       product_name  product_sku product_type_map brand_map\n",
       "count          1174            2             1174      1174\n",
       "unique         1174            2                4         7\n",
       "top     KCL MAHKOTA  ZA PAK TANI          UNKNOWN   MUTIARA\n",
       "freq              1            1              870       328"
      ]
     },
     "execution_count": 105,
     "metadata": {},
     "output_type": "execute_result"
    }
   ],
   "source": [
    "df_map_brand.describe()"
   ]
  },
  {
   "cell_type": "code",
   "execution_count": 106,
   "metadata": {},
   "outputs": [
    {
     "name": "stdout",
     "output_type": "stream",
     "text": [
      "Accuracy - model mapping types: 0.8587699316628702\n",
      "Classification Report:\n",
      "               precision    recall  f1-score   support\n",
      "\n",
      "      FOSFAT       0.00      0.00      0.00         2\n",
      "      KALIUM       0.00      0.00      0.00         8\n",
      "     MAJEMUK       0.80      1.00      0.89       165\n",
      "          MG       0.00      0.00      0.00        12\n",
      "       MIKRO       0.00      0.00      0.00         7\n",
      "    NITROGEN       0.00      0.00      0.00         1\n",
      "     ORGANIK       1.00      0.56      0.71         9\n",
      "        UREA       0.93      0.96      0.95       119\n",
      "          ZA       0.88      0.85      0.87       108\n",
      "          ZK       1.00      0.12      0.22         8\n",
      "\n",
      "    accuracy                           0.86       439\n",
      "   macro avg       0.46      0.35      0.36       439\n",
      "weighted avg       0.81      0.86      0.82       439\n",
      "\n",
      "Accuracy - model mapping brands: 0.948936170212766\n",
      "Classification Report:\n",
      "               precision    recall  f1-score   support\n",
      "\n",
      "        BASF       0.00      0.00      0.00         1\n",
      "     LAOYING       1.00      0.67      0.80         6\n",
      "     MAHKOTA       1.00      0.91      0.95        33\n",
      "     MUTIARA       0.92      0.96      0.94        74\n",
      "    PAK TANI       0.95      1.00      0.98        42\n",
      "       TAWON       0.92      0.97      0.95        37\n",
      "        YARA       0.98      0.95      0.96        42\n",
      "\n",
      "    accuracy                           0.95       235\n",
      "   macro avg       0.83      0.78      0.80       235\n",
      "weighted avg       0.95      0.95      0.95       235\n",
      "\n"
     ]
    },
    {
     "name": "stderr",
     "output_type": "stream",
     "text": [
      "/Users/sakabumi/miniconda3/lib/python3.8/site-packages/sklearn/metrics/_classification.py:1469: UndefinedMetricWarning: Precision and F-score are ill-defined and being set to 0.0 in labels with no predicted samples. Use `zero_division` parameter to control this behavior.\n",
      "  _warn_prf(average, modifier, msg_start, len(result))\n",
      "/Users/sakabumi/miniconda3/lib/python3.8/site-packages/sklearn/metrics/_classification.py:1469: UndefinedMetricWarning: Precision and F-score are ill-defined and being set to 0.0 in labels with no predicted samples. Use `zero_division` parameter to control this behavior.\n",
      "  _warn_prf(average, modifier, msg_start, len(result))\n",
      "/Users/sakabumi/miniconda3/lib/python3.8/site-packages/sklearn/metrics/_classification.py:1469: UndefinedMetricWarning: Precision and F-score are ill-defined and being set to 0.0 in labels with no predicted samples. Use `zero_division` parameter to control this behavior.\n",
      "  _warn_prf(average, modifier, msg_start, len(result))\n",
      "/Users/sakabumi/miniconda3/lib/python3.8/site-packages/sklearn/metrics/_classification.py:1469: UndefinedMetricWarning: Precision and F-score are ill-defined and being set to 0.0 in labels with no predicted samples. Use `zero_division` parameter to control this behavior.\n",
      "  _warn_prf(average, modifier, msg_start, len(result))\n",
      "/Users/sakabumi/miniconda3/lib/python3.8/site-packages/sklearn/metrics/_classification.py:1469: UndefinedMetricWarning: Precision and F-score are ill-defined and being set to 0.0 in labels with no predicted samples. Use `zero_division` parameter to control this behavior.\n",
      "  _warn_prf(average, modifier, msg_start, len(result))\n",
      "/Users/sakabumi/miniconda3/lib/python3.8/site-packages/sklearn/metrics/_classification.py:1469: UndefinedMetricWarning: Precision and F-score are ill-defined and being set to 0.0 in labels with no predicted samples. Use `zero_division` parameter to control this behavior.\n",
      "  _warn_prf(average, modifier, msg_start, len(result))\n"
     ]
    }
   ],
   "source": [
    "# Split the data into training and testing sets\n",
    "X_train_type, X_test_type, y_train_type, y_test_type = train_test_split(df_map_type['product_name'], df_map_type['product_type_map'], test_size=0.2, random_state=42)\n",
    "X_train_brand, X_test_brand, y_train_brand, y_test_brand = train_test_split(df_map_brand['product_name'], df_map_brand['brand_map'], test_size=0.2, random_state=42)\n",
    "\n",
    "# Create a text classification pipeline\n",
    "model_type = make_pipeline(TfidfVectorizer(), MultinomialNB())\n",
    "model_brand = make_pipeline(TfidfVectorizer(), MultinomialNB())\n",
    "\n",
    "# Train the models\n",
    "model_type.fit(X_train_type, y_train_type)\n",
    "model_brand.fit(X_train_brand, y_train_brand)\n",
    "\n",
    "# Make predictions on the test sets\n",
    "predictions_type = model_type.predict(X_test_type)\n",
    "predictions_brand = model_brand.predict(X_test_brand)\n",
    "\n",
    "# Evaluate the models\n",
    "print(\"Accuracy - model mapping types:\", metrics.accuracy_score(y_test_type, predictions_type))\n",
    "print(\"Classification Report:\\n\", metrics.classification_report(y_test_type, predictions_type))\n",
    "\n",
    "print(\"Accuracy - model mapping brands:\", metrics.accuracy_score(y_test_brand, predictions_brand))\n",
    "print(\"Classification Report:\\n\", metrics.classification_report(y_test_brand, predictions_brand))"
   ]
  },
  {
   "cell_type": "markdown",
   "metadata": {},
   "source": [
    "The accuracy from both models are considerably high: ~0.86 for `type` & 0.95 for `brand`.\n",
    "Both of them will be used to map further product names to both types & brands."
   ]
  },
  {
   "cell_type": "code",
   "execution_count": 107,
   "metadata": {},
   "outputs": [
    {
     "data": {
      "text/html": [
       "<div>\n",
       "<style scoped>\n",
       "    .dataframe tbody tr th:only-of-type {\n",
       "        vertical-align: middle;\n",
       "    }\n",
       "\n",
       "    .dataframe tbody tr th {\n",
       "        vertical-align: top;\n",
       "    }\n",
       "\n",
       "    .dataframe thead th {\n",
       "        text-align: right;\n",
       "    }\n",
       "</style>\n",
       "<table border=\"1\" class=\"dataframe\">\n",
       "  <thead>\n",
       "    <tr style=\"text-align: right;\">\n",
       "      <th></th>\n",
       "      <th>product_name</th>\n",
       "      <th>product_sku</th>\n",
       "      <th>product_type_map</th>\n",
       "      <th>brand_map</th>\n",
       "      <th>product_type_test</th>\n",
       "      <th>product_brand_test</th>\n",
       "    </tr>\n",
       "  </thead>\n",
       "  <tbody>\n",
       "    <tr>\n",
       "      <th>0</th>\n",
       "      <td>PUPUK UREA N 46</td>\n",
       "      <td>NaN</td>\n",
       "      <td>UREA</td>\n",
       "      <td>UNKNOWN</td>\n",
       "      <td>UREA</td>\n",
       "      <td>TAWON</td>\n",
       "    </tr>\n",
       "    <tr>\n",
       "      <th>1</th>\n",
       "      <td>PUPUK AMONIUM SULFAT ZA</td>\n",
       "      <td>NaN</td>\n",
       "      <td>ZA</td>\n",
       "      <td>UNKNOWN</td>\n",
       "      <td>ZA</td>\n",
       "      <td>TAWON</td>\n",
       "    </tr>\n",
       "    <tr>\n",
       "      <th>2</th>\n",
       "      <td>PUPUK SUPER FOSFAT SP36</td>\n",
       "      <td>NaN</td>\n",
       "      <td>FOSFAT</td>\n",
       "      <td>UNKNOWN</td>\n",
       "      <td>ZA</td>\n",
       "      <td>TAWON</td>\n",
       "    </tr>\n",
       "    <tr>\n",
       "      <th>3</th>\n",
       "      <td>PUPUK NPK PHONSKA</td>\n",
       "      <td>NaN</td>\n",
       "      <td>UNKNOWN</td>\n",
       "      <td>UNKNOWN</td>\n",
       "      <td>MAJEMUK</td>\n",
       "      <td>TAWON</td>\n",
       "    </tr>\n",
       "    <tr>\n",
       "      <th>4</th>\n",
       "      <td>PUPUK NPK FORMULA KHUSUS</td>\n",
       "      <td>NaN</td>\n",
       "      <td>UNKNOWN</td>\n",
       "      <td>UNKNOWN</td>\n",
       "      <td>MAJEMUK</td>\n",
       "      <td>MUTIARA</td>\n",
       "    </tr>\n",
       "    <tr>\n",
       "      <th>5</th>\n",
       "      <td>PUPUK ORGANIK GRANUL</td>\n",
       "      <td>NaN</td>\n",
       "      <td>ORGANIK</td>\n",
       "      <td>UNKNOWN</td>\n",
       "      <td>UREA</td>\n",
       "      <td>TAWON</td>\n",
       "    </tr>\n",
       "    <tr>\n",
       "      <th>6</th>\n",
       "      <td>PUPUK ORGANIK CAIR</td>\n",
       "      <td>NaN</td>\n",
       "      <td>ORGANIK</td>\n",
       "      <td>UNKNOWN</td>\n",
       "      <td>UREA</td>\n",
       "      <td>MUTIARA</td>\n",
       "    </tr>\n",
       "    <tr>\n",
       "      <th>7</th>\n",
       "      <td>PRODUK LAIN</td>\n",
       "      <td>NaN</td>\n",
       "      <td>UNKNOWN</td>\n",
       "      <td>UNKNOWN</td>\n",
       "      <td>MAJEMUK</td>\n",
       "      <td>MUTIARA</td>\n",
       "    </tr>\n",
       "    <tr>\n",
       "      <th>8</th>\n",
       "      <td>RONDAP</td>\n",
       "      <td>NaN</td>\n",
       "      <td>UNKNOWN</td>\n",
       "      <td>UNKNOWN</td>\n",
       "      <td>MAJEMUK</td>\n",
       "      <td>MUTIARA</td>\n",
       "    </tr>\n",
       "    <tr>\n",
       "      <th>9</th>\n",
       "      <td>SEKOR</td>\n",
       "      <td>NaN</td>\n",
       "      <td>UNKNOWN</td>\n",
       "      <td>UNKNOWN</td>\n",
       "      <td>MAJEMUK</td>\n",
       "      <td>MUTIARA</td>\n",
       "    </tr>\n",
       "  </tbody>\n",
       "</table>\n",
       "</div>"
      ],
      "text/plain": [
       "               product_name product_sku product_type_map brand_map  \\\n",
       "0           PUPUK UREA N 46         NaN             UREA   UNKNOWN   \n",
       "1   PUPUK AMONIUM SULFAT ZA         NaN               ZA   UNKNOWN   \n",
       "2   PUPUK SUPER FOSFAT SP36         NaN           FOSFAT   UNKNOWN   \n",
       "3         PUPUK NPK PHONSKA         NaN          UNKNOWN   UNKNOWN   \n",
       "4  PUPUK NPK FORMULA KHUSUS         NaN          UNKNOWN   UNKNOWN   \n",
       "5      PUPUK ORGANIK GRANUL         NaN          ORGANIK   UNKNOWN   \n",
       "6        PUPUK ORGANIK CAIR         NaN          ORGANIK   UNKNOWN   \n",
       "7               PRODUK LAIN         NaN          UNKNOWN   UNKNOWN   \n",
       "8                    RONDAP         NaN          UNKNOWN   UNKNOWN   \n",
       "9                     SEKOR         NaN          UNKNOWN   UNKNOWN   \n",
       "\n",
       "  product_type_test product_brand_test  \n",
       "0              UREA              TAWON  \n",
       "1                ZA              TAWON  \n",
       "2                ZA              TAWON  \n",
       "3           MAJEMUK              TAWON  \n",
       "4           MAJEMUK            MUTIARA  \n",
       "5              UREA              TAWON  \n",
       "6              UREA            MUTIARA  \n",
       "7           MAJEMUK            MUTIARA  \n",
       "8           MAJEMUK            MUTIARA  \n",
       "9           MAJEMUK            MUTIARA  "
      ]
     },
     "execution_count": 107,
     "metadata": {},
     "output_type": "execute_result"
    }
   ],
   "source": [
    "product_pos['product_type_test'] = model_type.predict(product_pos['product_name'])\n",
    "product_pos['product_brand_test'] = model_brand.predict(product_pos['product_name'])\n",
    "\n",
    "product_pos.head(10)"
   ]
  },
  {
   "cell_type": "markdown",
   "metadata": {},
   "source": [
    "Based on the observation above, if either `product_type` or `brand` are filled already, there is no need to use the result from the model."
   ]
  },
  {
   "cell_type": "code",
   "execution_count": 108,
   "metadata": {},
   "outputs": [],
   "source": [
    "# If the values in either `product_type_map` or `brand_map` are `UNKNOWN`, use the values from the models' result.\n",
    "# Otherwise, use the initial mapping result.\n",
    "\n",
    "product_pos['product_type_map'] = np.where(\n",
    "    product_pos['product_type_map'] == 'UNKNOWN',\n",
    "    product_pos['product_type_test'],\n",
    "    product_pos['product_type_map']\n",
    ")\n",
    "\n",
    "product_pos['brand_map'] = np.where(\n",
    "    product_pos['brand_map'] == 'UNKNOWN',\n",
    "    product_pos['product_brand_test'],\n",
    "    product_pos['brand_map']\n",
    ")"
   ]
  },
  {
   "cell_type": "code",
   "execution_count": 109,
   "metadata": {},
   "outputs": [
    {
     "data": {
      "text/html": [
       "<div>\n",
       "<style scoped>\n",
       "    .dataframe tbody tr th:only-of-type {\n",
       "        vertical-align: middle;\n",
       "    }\n",
       "\n",
       "    .dataframe tbody tr th {\n",
       "        vertical-align: top;\n",
       "    }\n",
       "\n",
       "    .dataframe thead th {\n",
       "        text-align: right;\n",
       "    }\n",
       "</style>\n",
       "<table border=\"1\" class=\"dataframe\">\n",
       "  <thead>\n",
       "    <tr style=\"text-align: right;\">\n",
       "      <th></th>\n",
       "      <th>product_name</th>\n",
       "      <th>product_sku</th>\n",
       "      <th>product_type_map</th>\n",
       "      <th>brand_map</th>\n",
       "      <th>product_type_test</th>\n",
       "      <th>product_brand_test</th>\n",
       "    </tr>\n",
       "  </thead>\n",
       "  <tbody>\n",
       "    <tr>\n",
       "      <th>0</th>\n",
       "      <td>PUPUK UREA N 46</td>\n",
       "      <td>NaN</td>\n",
       "      <td>UREA</td>\n",
       "      <td>TAWON</td>\n",
       "      <td>UREA</td>\n",
       "      <td>TAWON</td>\n",
       "    </tr>\n",
       "    <tr>\n",
       "      <th>1</th>\n",
       "      <td>PUPUK AMONIUM SULFAT ZA</td>\n",
       "      <td>NaN</td>\n",
       "      <td>ZA</td>\n",
       "      <td>TAWON</td>\n",
       "      <td>ZA</td>\n",
       "      <td>TAWON</td>\n",
       "    </tr>\n",
       "    <tr>\n",
       "      <th>2</th>\n",
       "      <td>PUPUK SUPER FOSFAT SP36</td>\n",
       "      <td>NaN</td>\n",
       "      <td>FOSFAT</td>\n",
       "      <td>TAWON</td>\n",
       "      <td>ZA</td>\n",
       "      <td>TAWON</td>\n",
       "    </tr>\n",
       "    <tr>\n",
       "      <th>3</th>\n",
       "      <td>PUPUK NPK PHONSKA</td>\n",
       "      <td>NaN</td>\n",
       "      <td>MAJEMUK</td>\n",
       "      <td>TAWON</td>\n",
       "      <td>MAJEMUK</td>\n",
       "      <td>TAWON</td>\n",
       "    </tr>\n",
       "    <tr>\n",
       "      <th>4</th>\n",
       "      <td>PUPUK NPK FORMULA KHUSUS</td>\n",
       "      <td>NaN</td>\n",
       "      <td>MAJEMUK</td>\n",
       "      <td>MUTIARA</td>\n",
       "      <td>MAJEMUK</td>\n",
       "      <td>MUTIARA</td>\n",
       "    </tr>\n",
       "    <tr>\n",
       "      <th>5</th>\n",
       "      <td>PUPUK ORGANIK GRANUL</td>\n",
       "      <td>NaN</td>\n",
       "      <td>ORGANIK</td>\n",
       "      <td>TAWON</td>\n",
       "      <td>UREA</td>\n",
       "      <td>TAWON</td>\n",
       "    </tr>\n",
       "    <tr>\n",
       "      <th>6</th>\n",
       "      <td>PUPUK ORGANIK CAIR</td>\n",
       "      <td>NaN</td>\n",
       "      <td>ORGANIK</td>\n",
       "      <td>MUTIARA</td>\n",
       "      <td>UREA</td>\n",
       "      <td>MUTIARA</td>\n",
       "    </tr>\n",
       "    <tr>\n",
       "      <th>7</th>\n",
       "      <td>PRODUK LAIN</td>\n",
       "      <td>NaN</td>\n",
       "      <td>MAJEMUK</td>\n",
       "      <td>MUTIARA</td>\n",
       "      <td>MAJEMUK</td>\n",
       "      <td>MUTIARA</td>\n",
       "    </tr>\n",
       "    <tr>\n",
       "      <th>8</th>\n",
       "      <td>RONDAP</td>\n",
       "      <td>NaN</td>\n",
       "      <td>MAJEMUK</td>\n",
       "      <td>MUTIARA</td>\n",
       "      <td>MAJEMUK</td>\n",
       "      <td>MUTIARA</td>\n",
       "    </tr>\n",
       "    <tr>\n",
       "      <th>9</th>\n",
       "      <td>SEKOR</td>\n",
       "      <td>NaN</td>\n",
       "      <td>MAJEMUK</td>\n",
       "      <td>MUTIARA</td>\n",
       "      <td>MAJEMUK</td>\n",
       "      <td>MUTIARA</td>\n",
       "    </tr>\n",
       "  </tbody>\n",
       "</table>\n",
       "</div>"
      ],
      "text/plain": [
       "               product_name product_sku product_type_map brand_map  \\\n",
       "0           PUPUK UREA N 46         NaN             UREA     TAWON   \n",
       "1   PUPUK AMONIUM SULFAT ZA         NaN               ZA     TAWON   \n",
       "2   PUPUK SUPER FOSFAT SP36         NaN           FOSFAT     TAWON   \n",
       "3         PUPUK NPK PHONSKA         NaN          MAJEMUK     TAWON   \n",
       "4  PUPUK NPK FORMULA KHUSUS         NaN          MAJEMUK   MUTIARA   \n",
       "5      PUPUK ORGANIK GRANUL         NaN          ORGANIK     TAWON   \n",
       "6        PUPUK ORGANIK CAIR         NaN          ORGANIK   MUTIARA   \n",
       "7               PRODUK LAIN         NaN          MAJEMUK   MUTIARA   \n",
       "8                    RONDAP         NaN          MAJEMUK   MUTIARA   \n",
       "9                     SEKOR         NaN          MAJEMUK   MUTIARA   \n",
       "\n",
       "  product_type_test product_brand_test  \n",
       "0              UREA              TAWON  \n",
       "1                ZA              TAWON  \n",
       "2                ZA              TAWON  \n",
       "3           MAJEMUK              TAWON  \n",
       "4           MAJEMUK            MUTIARA  \n",
       "5              UREA              TAWON  \n",
       "6              UREA            MUTIARA  \n",
       "7           MAJEMUK            MUTIARA  \n",
       "8           MAJEMUK            MUTIARA  \n",
       "9           MAJEMUK            MUTIARA  "
      ]
     },
     "execution_count": 109,
     "metadata": {},
     "output_type": "execute_result"
    }
   ],
   "source": [
    "product_pos.head(10)"
   ]
  },
  {
   "cell_type": "code",
   "execution_count": 110,
   "metadata": {},
   "outputs": [
    {
     "data": {
      "text/html": [
       "<div>\n",
       "<style scoped>\n",
       "    .dataframe tbody tr th:only-of-type {\n",
       "        vertical-align: middle;\n",
       "    }\n",
       "\n",
       "    .dataframe tbody tr th {\n",
       "        vertical-align: top;\n",
       "    }\n",
       "\n",
       "    .dataframe thead th {\n",
       "        text-align: right;\n",
       "    }\n",
       "</style>\n",
       "<table border=\"1\" class=\"dataframe\">\n",
       "  <thead>\n",
       "    <tr style=\"text-align: right;\">\n",
       "      <th></th>\n",
       "      <th>product_name</th>\n",
       "      <th>product_sku</th>\n",
       "      <th>product_type_map</th>\n",
       "      <th>brand_map</th>\n",
       "      <th>product_type_test</th>\n",
       "      <th>product_brand_test</th>\n",
       "    </tr>\n",
       "  </thead>\n",
       "  <tbody>\n",
       "    <tr>\n",
       "      <th>count</th>\n",
       "      <td>40021</td>\n",
       "      <td>23</td>\n",
       "      <td>40021</td>\n",
       "      <td>40021</td>\n",
       "      <td>40021</td>\n",
       "      <td>40021</td>\n",
       "    </tr>\n",
       "    <tr>\n",
       "      <th>unique</th>\n",
       "      <td>40021</td>\n",
       "      <td>23</td>\n",
       "      <td>10</td>\n",
       "      <td>7</td>\n",
       "      <td>6</td>\n",
       "      <td>6</td>\n",
       "    </tr>\n",
       "    <tr>\n",
       "      <th>top</th>\n",
       "      <td>PUPUK UREA N 46</td>\n",
       "      <td>MESTAC</td>\n",
       "      <td>MAJEMUK</td>\n",
       "      <td>MUTIARA</td>\n",
       "      <td>MAJEMUK</td>\n",
       "      <td>MUTIARA</td>\n",
       "    </tr>\n",
       "    <tr>\n",
       "      <th>freq</th>\n",
       "      <td>1</td>\n",
       "      <td>1</td>\n",
       "      <td>21833</td>\n",
       "      <td>32726</td>\n",
       "      <td>21960</td>\n",
       "      <td>32750</td>\n",
       "    </tr>\n",
       "  </tbody>\n",
       "</table>\n",
       "</div>"
      ],
      "text/plain": [
       "           product_name product_sku product_type_map brand_map  \\\n",
       "count             40021          23            40021     40021   \n",
       "unique            40021          23               10         7   \n",
       "top     PUPUK UREA N 46      MESTAC          MAJEMUK   MUTIARA   \n",
       "freq                  1           1            21833     32726   \n",
       "\n",
       "       product_type_test product_brand_test  \n",
       "count              40021              40021  \n",
       "unique                 6                  6  \n",
       "top              MAJEMUK            MUTIARA  \n",
       "freq               21960              32750  "
      ]
     },
     "execution_count": 110,
     "metadata": {},
     "output_type": "execute_result"
    }
   ],
   "source": [
    "product_pos.describe()"
   ]
  },
  {
   "cell_type": "code",
   "execution_count": 111,
   "metadata": {},
   "outputs": [
    {
     "name": "stdout",
     "output_type": "stream",
     "text": [
      "<class 'pandas.core.frame.DataFrame'>\n",
      "RangeIndex: 40021 entries, 0 to 40020\n",
      "Data columns (total 6 columns):\n",
      " #   Column              Non-Null Count  Dtype \n",
      "---  ------              --------------  ----- \n",
      " 0   product_name        40021 non-null  object\n",
      " 1   product_sku         23 non-null     object\n",
      " 2   product_type_map    40021 non-null  object\n",
      " 3   brand_map           40021 non-null  object\n",
      " 4   product_type_test   40021 non-null  object\n",
      " 5   product_brand_test  40021 non-null  object\n",
      "dtypes: object(6)\n",
      "memory usage: 1.8+ MB\n"
     ]
    }
   ],
   "source": [
    "product_pos.info()"
   ]
  },
  {
   "cell_type": "code",
   "execution_count": 112,
   "metadata": {},
   "outputs": [],
   "source": [
    "# Remove column `product_type_test` & `product_brand_test` since they are no longer used\n",
    "product_pos = product_pos.drop(['product_type_test', 'product_brand_test'], axis=1)"
   ]
  },
  {
   "cell_type": "code",
   "execution_count": 113,
   "metadata": {},
   "outputs": [
    {
     "data": {
      "text/html": [
       "<div>\n",
       "<style scoped>\n",
       "    .dataframe tbody tr th:only-of-type {\n",
       "        vertical-align: middle;\n",
       "    }\n",
       "\n",
       "    .dataframe tbody tr th {\n",
       "        vertical-align: top;\n",
       "    }\n",
       "\n",
       "    .dataframe thead th {\n",
       "        text-align: right;\n",
       "    }\n",
       "</style>\n",
       "<table border=\"1\" class=\"dataframe\">\n",
       "  <thead>\n",
       "    <tr style=\"text-align: right;\">\n",
       "      <th></th>\n",
       "      <th>product_name</th>\n",
       "      <th>product_sku</th>\n",
       "      <th>product_type_map</th>\n",
       "      <th>brand_map</th>\n",
       "    </tr>\n",
       "  </thead>\n",
       "  <tbody>\n",
       "    <tr>\n",
       "      <th>0</th>\n",
       "      <td>PUPUK UREA N 46</td>\n",
       "      <td>NaN</td>\n",
       "      <td>UREA</td>\n",
       "      <td>TAWON</td>\n",
       "    </tr>\n",
       "    <tr>\n",
       "      <th>1</th>\n",
       "      <td>PUPUK AMONIUM SULFAT ZA</td>\n",
       "      <td>NaN</td>\n",
       "      <td>ZA</td>\n",
       "      <td>TAWON</td>\n",
       "    </tr>\n",
       "    <tr>\n",
       "      <th>2</th>\n",
       "      <td>PUPUK SUPER FOSFAT SP36</td>\n",
       "      <td>NaN</td>\n",
       "      <td>FOSFAT</td>\n",
       "      <td>TAWON</td>\n",
       "    </tr>\n",
       "    <tr>\n",
       "      <th>3</th>\n",
       "      <td>PUPUK NPK PHONSKA</td>\n",
       "      <td>NaN</td>\n",
       "      <td>MAJEMUK</td>\n",
       "      <td>TAWON</td>\n",
       "    </tr>\n",
       "    <tr>\n",
       "      <th>4</th>\n",
       "      <td>PUPUK NPK FORMULA KHUSUS</td>\n",
       "      <td>NaN</td>\n",
       "      <td>MAJEMUK</td>\n",
       "      <td>MUTIARA</td>\n",
       "    </tr>\n",
       "  </tbody>\n",
       "</table>\n",
       "</div>"
      ],
      "text/plain": [
       "               product_name product_sku product_type_map brand_map\n",
       "0           PUPUK UREA N 46         NaN             UREA     TAWON\n",
       "1   PUPUK AMONIUM SULFAT ZA         NaN               ZA     TAWON\n",
       "2   PUPUK SUPER FOSFAT SP36         NaN           FOSFAT     TAWON\n",
       "3         PUPUK NPK PHONSKA         NaN          MAJEMUK     TAWON\n",
       "4  PUPUK NPK FORMULA KHUSUS         NaN          MAJEMUK   MUTIARA"
      ]
     },
     "execution_count": 113,
     "metadata": {},
     "output_type": "execute_result"
    }
   ],
   "source": [
    "product_pos.head()"
   ]
  },
  {
   "cell_type": "markdown",
   "metadata": {},
   "source": [
    "Since the product types & brands have been mapped, it is time to create a model to predict the product SKUs"
   ]
  },
  {
   "cell_type": "code",
   "execution_count": 114,
   "metadata": {},
   "outputs": [],
   "source": [
    "# Create a new column which concatenates `product_name`, `product_type`, & `product_brand` to be used in the model to predict the product SKUs\n",
    "product_pos['product_name_type_brand'] = product_pos['product_name'] + '-' + product_pos['product_type_map'] + '-' + product_pos['brand_map']"
   ]
  },
  {
   "cell_type": "code",
   "execution_count": 115,
   "metadata": {},
   "outputs": [
    {
     "data": {
      "text/html": [
       "<div>\n",
       "<style scoped>\n",
       "    .dataframe tbody tr th:only-of-type {\n",
       "        vertical-align: middle;\n",
       "    }\n",
       "\n",
       "    .dataframe tbody tr th {\n",
       "        vertical-align: top;\n",
       "    }\n",
       "\n",
       "    .dataframe thead th {\n",
       "        text-align: right;\n",
       "    }\n",
       "</style>\n",
       "<table border=\"1\" class=\"dataframe\">\n",
       "  <thead>\n",
       "    <tr style=\"text-align: right;\">\n",
       "      <th></th>\n",
       "      <th>product_name</th>\n",
       "      <th>product_sku</th>\n",
       "      <th>product_type_map</th>\n",
       "      <th>brand_map</th>\n",
       "      <th>product_name_type_brand</th>\n",
       "    </tr>\n",
       "  </thead>\n",
       "  <tbody>\n",
       "    <tr>\n",
       "      <th>0</th>\n",
       "      <td>PUPUK UREA N 46</td>\n",
       "      <td>NaN</td>\n",
       "      <td>UREA</td>\n",
       "      <td>TAWON</td>\n",
       "      <td>PUPUK UREA N 46-UREA-TAWON</td>\n",
       "    </tr>\n",
       "    <tr>\n",
       "      <th>1</th>\n",
       "      <td>PUPUK AMONIUM SULFAT ZA</td>\n",
       "      <td>NaN</td>\n",
       "      <td>ZA</td>\n",
       "      <td>TAWON</td>\n",
       "      <td>PUPUK AMONIUM SULFAT ZA-ZA-TAWON</td>\n",
       "    </tr>\n",
       "    <tr>\n",
       "      <th>2</th>\n",
       "      <td>PUPUK SUPER FOSFAT SP36</td>\n",
       "      <td>NaN</td>\n",
       "      <td>FOSFAT</td>\n",
       "      <td>TAWON</td>\n",
       "      <td>PUPUK SUPER FOSFAT SP36-FOSFAT-TAWON</td>\n",
       "    </tr>\n",
       "    <tr>\n",
       "      <th>3</th>\n",
       "      <td>PUPUK NPK PHONSKA</td>\n",
       "      <td>NaN</td>\n",
       "      <td>MAJEMUK</td>\n",
       "      <td>TAWON</td>\n",
       "      <td>PUPUK NPK PHONSKA-MAJEMUK-TAWON</td>\n",
       "    </tr>\n",
       "    <tr>\n",
       "      <th>4</th>\n",
       "      <td>PUPUK NPK FORMULA KHUSUS</td>\n",
       "      <td>NaN</td>\n",
       "      <td>MAJEMUK</td>\n",
       "      <td>MUTIARA</td>\n",
       "      <td>PUPUK NPK FORMULA KHUSUS-MAJEMUK-MUTIARA</td>\n",
       "    </tr>\n",
       "  </tbody>\n",
       "</table>\n",
       "</div>"
      ],
      "text/plain": [
       "               product_name product_sku product_type_map brand_map  \\\n",
       "0           PUPUK UREA N 46         NaN             UREA     TAWON   \n",
       "1   PUPUK AMONIUM SULFAT ZA         NaN               ZA     TAWON   \n",
       "2   PUPUK SUPER FOSFAT SP36         NaN           FOSFAT     TAWON   \n",
       "3         PUPUK NPK PHONSKA         NaN          MAJEMUK     TAWON   \n",
       "4  PUPUK NPK FORMULA KHUSUS         NaN          MAJEMUK   MUTIARA   \n",
       "\n",
       "                    product_name_type_brand  \n",
       "0                PUPUK UREA N 46-UREA-TAWON  \n",
       "1          PUPUK AMONIUM SULFAT ZA-ZA-TAWON  \n",
       "2      PUPUK SUPER FOSFAT SP36-FOSFAT-TAWON  \n",
       "3           PUPUK NPK PHONSKA-MAJEMUK-TAWON  \n",
       "4  PUPUK NPK FORMULA KHUSUS-MAJEMUK-MUTIARA  "
      ]
     },
     "execution_count": 115,
     "metadata": {},
     "output_type": "execute_result"
    }
   ],
   "source": [
    "product_pos.head()"
   ]
  },
  {
   "cell_type": "code",
   "execution_count": 116,
   "metadata": {},
   "outputs": [
    {
     "name": "stdout",
     "output_type": "stream",
     "text": [
      "<class 'pandas.core.frame.DataFrame'>\n",
      "Index: 23 entries, 415 to 32485\n",
      "Data columns (total 5 columns):\n",
      " #   Column                   Non-Null Count  Dtype \n",
      "---  ------                   --------------  ----- \n",
      " 0   product_name             23 non-null     object\n",
      " 1   product_sku              23 non-null     object\n",
      " 2   product_type_map         23 non-null     object\n",
      " 3   brand_map                23 non-null     object\n",
      " 4   product_name_type_brand  23 non-null     object\n",
      "dtypes: object(5)\n",
      "memory usage: 1.1+ KB\n"
     ]
    }
   ],
   "source": [
    "product_pos[product_pos['product_sku'].notnull()].info()"
   ]
  },
  {
   "cell_type": "code",
   "execution_count": 117,
   "metadata": {},
   "outputs": [
    {
     "data": {
      "text/html": [
       "<div>\n",
       "<style scoped>\n",
       "    .dataframe tbody tr th:only-of-type {\n",
       "        vertical-align: middle;\n",
       "    }\n",
       "\n",
       "    .dataframe tbody tr th {\n",
       "        vertical-align: top;\n",
       "    }\n",
       "\n",
       "    .dataframe thead th {\n",
       "        text-align: right;\n",
       "    }\n",
       "</style>\n",
       "<table border=\"1\" class=\"dataframe\">\n",
       "  <thead>\n",
       "    <tr style=\"text-align: right;\">\n",
       "      <th></th>\n",
       "      <th>product_name</th>\n",
       "      <th>product_sku</th>\n",
       "      <th>product_type_map</th>\n",
       "      <th>brand_map</th>\n",
       "      <th>product_name_type_brand</th>\n",
       "    </tr>\n",
       "  </thead>\n",
       "  <tbody>\n",
       "    <tr>\n",
       "      <th>count</th>\n",
       "      <td>23</td>\n",
       "      <td>23</td>\n",
       "      <td>23</td>\n",
       "      <td>23</td>\n",
       "      <td>23</td>\n",
       "    </tr>\n",
       "    <tr>\n",
       "      <th>unique</th>\n",
       "      <td>23</td>\n",
       "      <td>23</td>\n",
       "      <td>4</td>\n",
       "      <td>5</td>\n",
       "      <td>23</td>\n",
       "    </tr>\n",
       "    <tr>\n",
       "      <th>top</th>\n",
       "      <td>MESTAC</td>\n",
       "      <td>MESTAC</td>\n",
       "      <td>MAJEMUK</td>\n",
       "      <td>MUTIARA</td>\n",
       "      <td>MESTAC-UREA-LAOYING</td>\n",
       "    </tr>\n",
       "    <tr>\n",
       "      <th>freq</th>\n",
       "      <td>1</td>\n",
       "      <td>1</td>\n",
       "      <td>8</td>\n",
       "      <td>9</td>\n",
       "      <td>1</td>\n",
       "    </tr>\n",
       "  </tbody>\n",
       "</table>\n",
       "</div>"
      ],
      "text/plain": [
       "       product_name product_sku product_type_map brand_map  \\\n",
       "count            23          23               23        23   \n",
       "unique           23          23                4         5   \n",
       "top          MESTAC      MESTAC          MAJEMUK   MUTIARA   \n",
       "freq              1           1                8         9   \n",
       "\n",
       "       product_name_type_brand  \n",
       "count                       23  \n",
       "unique                      23  \n",
       "top        MESTAC-UREA-LAOYING  \n",
       "freq                         1  "
      ]
     },
     "execution_count": 117,
     "metadata": {},
     "output_type": "execute_result"
    }
   ],
   "source": [
    "product_pos[product_pos['product_sku'].notnull()].describe()"
   ]
  },
  {
   "cell_type": "code",
   "execution_count": 118,
   "metadata": {},
   "outputs": [],
   "source": [
    "# Creating a dataframe as raw data to be used in the model training\n",
    "df_map_sku = product_pos[product_pos['product_sku'].notnull()]"
   ]
  },
  {
   "cell_type": "code",
   "execution_count": 119,
   "metadata": {},
   "outputs": [
    {
     "data": {
      "text/html": [
       "<div>\n",
       "<style scoped>\n",
       "    .dataframe tbody tr th:only-of-type {\n",
       "        vertical-align: middle;\n",
       "    }\n",
       "\n",
       "    .dataframe tbody tr th {\n",
       "        vertical-align: top;\n",
       "    }\n",
       "\n",
       "    .dataframe thead th {\n",
       "        text-align: right;\n",
       "    }\n",
       "</style>\n",
       "<table border=\"1\" class=\"dataframe\">\n",
       "  <thead>\n",
       "    <tr style=\"text-align: right;\">\n",
       "      <th></th>\n",
       "      <th>product_name</th>\n",
       "      <th>product_sku</th>\n",
       "      <th>product_type_map</th>\n",
       "      <th>brand_map</th>\n",
       "      <th>product_name_type_brand</th>\n",
       "    </tr>\n",
       "  </thead>\n",
       "  <tbody>\n",
       "    <tr>\n",
       "      <th>415</th>\n",
       "      <td>MESTAC</td>\n",
       "      <td>MESTAC</td>\n",
       "      <td>UREA</td>\n",
       "      <td>LAOYING</td>\n",
       "      <td>MESTAC-UREA-LAOYING</td>\n",
       "    </tr>\n",
       "    <tr>\n",
       "      <th>503</th>\n",
       "      <td>FERTIPHOS</td>\n",
       "      <td>FERTIPHOS</td>\n",
       "      <td>MAJEMUK</td>\n",
       "      <td>PAK TANI</td>\n",
       "      <td>FERTIPHOS-MAJEMUK-PAK TANI</td>\n",
       "    </tr>\n",
       "    <tr>\n",
       "      <th>633</th>\n",
       "      <td>UREA PETRO</td>\n",
       "      <td>UREA PETRO</td>\n",
       "      <td>UREA</td>\n",
       "      <td>TAWON</td>\n",
       "      <td>UREA PETRO-UREA-TAWON</td>\n",
       "    </tr>\n",
       "    <tr>\n",
       "      <th>730</th>\n",
       "      <td>ZA PETRO</td>\n",
       "      <td>ZA PETRO</td>\n",
       "      <td>ZA</td>\n",
       "      <td>TAWON</td>\n",
       "      <td>ZA PETRO-ZA-TAWON</td>\n",
       "    </tr>\n",
       "    <tr>\n",
       "      <th>736</th>\n",
       "      <td>MESTIKALI</td>\n",
       "      <td>MESTIKALI</td>\n",
       "      <td>MAJEMUK</td>\n",
       "      <td>MUTIARA</td>\n",
       "      <td>MESTIKALI-MAJEMUK-MUTIARA</td>\n",
       "    </tr>\n",
       "    <tr>\n",
       "      <th>4757</th>\n",
       "      <td>NITRALITE</td>\n",
       "      <td>NITRALITE</td>\n",
       "      <td>UREA</td>\n",
       "      <td>MUTIARA</td>\n",
       "      <td>NITRALITE-UREA-MUTIARA</td>\n",
       "    </tr>\n",
       "    <tr>\n",
       "      <th>4823</th>\n",
       "      <td>UREA PUSRI</td>\n",
       "      <td>UREA PUSRI</td>\n",
       "      <td>UREA</td>\n",
       "      <td>TAWON</td>\n",
       "      <td>UREA PUSRI-UREA-TAWON</td>\n",
       "    </tr>\n",
       "    <tr>\n",
       "      <th>4866</th>\n",
       "      <td>ZK PETRO</td>\n",
       "      <td>ZK PETRO</td>\n",
       "      <td>ZK</td>\n",
       "      <td>MUTIARA</td>\n",
       "      <td>ZK PETRO-ZK-MUTIARA</td>\n",
       "    </tr>\n",
       "    <tr>\n",
       "      <th>5049</th>\n",
       "      <td>ZA PAK TANI</td>\n",
       "      <td>ZA PAK TANI</td>\n",
       "      <td>ZA</td>\n",
       "      <td>PAK TANI</td>\n",
       "      <td>ZA PAK TANI-ZA-PAK TANI</td>\n",
       "    </tr>\n",
       "    <tr>\n",
       "      <th>5394</th>\n",
       "      <td>UREA NITREA</td>\n",
       "      <td>UREA NITREA</td>\n",
       "      <td>UREA</td>\n",
       "      <td>TAWON</td>\n",
       "      <td>UREA NITREA-UREA-TAWON</td>\n",
       "    </tr>\n",
       "    <tr>\n",
       "      <th>6013</th>\n",
       "      <td>UREA DAUN BUAH</td>\n",
       "      <td>UREA DAUN BUAH</td>\n",
       "      <td>UREA</td>\n",
       "      <td>MUTIARA</td>\n",
       "      <td>UREA DAUN BUAH-UREA-MUTIARA</td>\n",
       "    </tr>\n",
       "    <tr>\n",
       "      <th>6036</th>\n",
       "      <td>UREA PIM</td>\n",
       "      <td>UREA PIM</td>\n",
       "      <td>UREA</td>\n",
       "      <td>TAWON</td>\n",
       "      <td>UREA PIM-UREA-TAWON</td>\n",
       "    </tr>\n",
       "    <tr>\n",
       "      <th>6420</th>\n",
       "      <td>PHOSGRO</td>\n",
       "      <td>PHOSGRO</td>\n",
       "      <td>MAJEMUK</td>\n",
       "      <td>PAK TANI</td>\n",
       "      <td>PHOSGRO-MAJEMUK-PAK TANI</td>\n",
       "    </tr>\n",
       "    <tr>\n",
       "      <th>10373</th>\n",
       "      <td>PHOSGREEN</td>\n",
       "      <td>PHOSGREEN</td>\n",
       "      <td>MAJEMUK</td>\n",
       "      <td>MUTIARA</td>\n",
       "      <td>PHOSGREEN-MAJEMUK-MUTIARA</td>\n",
       "    </tr>\n",
       "    <tr>\n",
       "      <th>10374</th>\n",
       "      <td>ZA PLUS PETRO</td>\n",
       "      <td>ZA PLUS PETRO</td>\n",
       "      <td>ZA</td>\n",
       "      <td>TAWON</td>\n",
       "      <td>ZA PLUS PETRO-ZA-TAWON</td>\n",
       "    </tr>\n",
       "    <tr>\n",
       "      <th>14454</th>\n",
       "      <td>URECOTE</td>\n",
       "      <td>URECOTE</td>\n",
       "      <td>MAJEMUK</td>\n",
       "      <td>MUTIARA</td>\n",
       "      <td>URECOTE-MAJEMUK-MUTIARA</td>\n",
       "    </tr>\n",
       "    <tr>\n",
       "      <th>14823</th>\n",
       "      <td>KSP</td>\n",
       "      <td>KSP</td>\n",
       "      <td>ZA</td>\n",
       "      <td>TAWON</td>\n",
       "      <td>KSP-ZA-TAWON</td>\n",
       "    </tr>\n",
       "    <tr>\n",
       "      <th>17479</th>\n",
       "      <td>MEROKEZA</td>\n",
       "      <td>MEROKEZA</td>\n",
       "      <td>ZA</td>\n",
       "      <td>MUTIARA</td>\n",
       "      <td>MEROKEZA-ZA-MUTIARA</td>\n",
       "    </tr>\n",
       "    <tr>\n",
       "      <th>19477</th>\n",
       "      <td>KAPUR PERTANIAN KEBOMAS</td>\n",
       "      <td>KAPUR PERTANIAN KEBOMAS</td>\n",
       "      <td>MAJEMUK</td>\n",
       "      <td>MUTIARA</td>\n",
       "      <td>KAPUR PERTANIAN KEBOMAS-MAJEMUK-MUTIARA</td>\n",
       "    </tr>\n",
       "    <tr>\n",
       "      <th>22574</th>\n",
       "      <td>BORAT</td>\n",
       "      <td>BORAT</td>\n",
       "      <td>MAJEMUK</td>\n",
       "      <td>TAWON</td>\n",
       "      <td>BORAT-MAJEMUK-TAWON</td>\n",
       "    </tr>\n",
       "    <tr>\n",
       "      <th>23432</th>\n",
       "      <td>PETRO BIOFERTIL</td>\n",
       "      <td>PETRO BIOFERTIL</td>\n",
       "      <td>ZA</td>\n",
       "      <td>MUTIARA</td>\n",
       "      <td>PETRO BIOFERTIL-ZA-MUTIARA</td>\n",
       "    </tr>\n",
       "    <tr>\n",
       "      <th>31107</th>\n",
       "      <td>MAGNESIUM SULFATE</td>\n",
       "      <td>MAGNESIUM SULFATE</td>\n",
       "      <td>MAJEMUK</td>\n",
       "      <td>PAK TANI</td>\n",
       "      <td>MAGNESIUM SULFATE-MAJEMUK-PAK TANI</td>\n",
       "    </tr>\n",
       "    <tr>\n",
       "      <th>32485</th>\n",
       "      <td>MAHKOTA ZA</td>\n",
       "      <td>MAHKOTA ZA</td>\n",
       "      <td>ZA</td>\n",
       "      <td>MAHKOTA</td>\n",
       "      <td>MAHKOTA ZA-ZA-MAHKOTA</td>\n",
       "    </tr>\n",
       "  </tbody>\n",
       "</table>\n",
       "</div>"
      ],
      "text/plain": [
       "                  product_name              product_sku product_type_map  \\\n",
       "415                     MESTAC                   MESTAC             UREA   \n",
       "503                  FERTIPHOS                FERTIPHOS          MAJEMUK   \n",
       "633                 UREA PETRO               UREA PETRO             UREA   \n",
       "730                   ZA PETRO                 ZA PETRO               ZA   \n",
       "736                  MESTIKALI                MESTIKALI          MAJEMUK   \n",
       "4757                 NITRALITE                NITRALITE             UREA   \n",
       "4823                UREA PUSRI               UREA PUSRI             UREA   \n",
       "4866                  ZK PETRO                 ZK PETRO               ZK   \n",
       "5049               ZA PAK TANI              ZA PAK TANI               ZA   \n",
       "5394               UREA NITREA              UREA NITREA             UREA   \n",
       "6013            UREA DAUN BUAH           UREA DAUN BUAH             UREA   \n",
       "6036                  UREA PIM                 UREA PIM             UREA   \n",
       "6420                   PHOSGRO                  PHOSGRO          MAJEMUK   \n",
       "10373                PHOSGREEN                PHOSGREEN          MAJEMUK   \n",
       "10374            ZA PLUS PETRO            ZA PLUS PETRO               ZA   \n",
       "14454                  URECOTE                  URECOTE          MAJEMUK   \n",
       "14823                      KSP                      KSP               ZA   \n",
       "17479                 MEROKEZA                 MEROKEZA               ZA   \n",
       "19477  KAPUR PERTANIAN KEBOMAS  KAPUR PERTANIAN KEBOMAS          MAJEMUK   \n",
       "22574                    BORAT                    BORAT          MAJEMUK   \n",
       "23432          PETRO BIOFERTIL          PETRO BIOFERTIL               ZA   \n",
       "31107        MAGNESIUM SULFATE        MAGNESIUM SULFATE          MAJEMUK   \n",
       "32485               MAHKOTA ZA               MAHKOTA ZA               ZA   \n",
       "\n",
       "      brand_map                  product_name_type_brand  \n",
       "415     LAOYING                      MESTAC-UREA-LAOYING  \n",
       "503    PAK TANI               FERTIPHOS-MAJEMUK-PAK TANI  \n",
       "633       TAWON                    UREA PETRO-UREA-TAWON  \n",
       "730       TAWON                        ZA PETRO-ZA-TAWON  \n",
       "736     MUTIARA                MESTIKALI-MAJEMUK-MUTIARA  \n",
       "4757    MUTIARA                   NITRALITE-UREA-MUTIARA  \n",
       "4823      TAWON                    UREA PUSRI-UREA-TAWON  \n",
       "4866    MUTIARA                      ZK PETRO-ZK-MUTIARA  \n",
       "5049   PAK TANI                  ZA PAK TANI-ZA-PAK TANI  \n",
       "5394      TAWON                   UREA NITREA-UREA-TAWON  \n",
       "6013    MUTIARA              UREA DAUN BUAH-UREA-MUTIARA  \n",
       "6036      TAWON                      UREA PIM-UREA-TAWON  \n",
       "6420   PAK TANI                 PHOSGRO-MAJEMUK-PAK TANI  \n",
       "10373   MUTIARA                PHOSGREEN-MAJEMUK-MUTIARA  \n",
       "10374     TAWON                   ZA PLUS PETRO-ZA-TAWON  \n",
       "14454   MUTIARA                  URECOTE-MAJEMUK-MUTIARA  \n",
       "14823     TAWON                             KSP-ZA-TAWON  \n",
       "17479   MUTIARA                      MEROKEZA-ZA-MUTIARA  \n",
       "19477   MUTIARA  KAPUR PERTANIAN KEBOMAS-MAJEMUK-MUTIARA  \n",
       "22574     TAWON                      BORAT-MAJEMUK-TAWON  \n",
       "23432   MUTIARA               PETRO BIOFERTIL-ZA-MUTIARA  \n",
       "31107  PAK TANI       MAGNESIUM SULFATE-MAJEMUK-PAK TANI  \n",
       "32485   MAHKOTA                    MAHKOTA ZA-ZA-MAHKOTA  "
      ]
     },
     "execution_count": 119,
     "metadata": {},
     "output_type": "execute_result"
    }
   ],
   "source": [
    "df_map_sku"
   ]
  },
  {
   "cell_type": "code",
   "execution_count": 120,
   "metadata": {},
   "outputs": [],
   "source": [
    "# # Split the data into training and testing sets\n",
    "# X_train_sku, X_test_sku, y_train_sku, y_test_sku = train_test_split(df_map_sku['product_name'], df_map_sku['product_sku'], test_size=0.3, random_state=42)\n",
    "\n",
    "# # Create a text classification pipeline\n",
    "# model_sku = make_pipeline(TfidfVectorizer(), MultinomialNB())\n",
    "\n",
    "# # Train the model\n",
    "# model_sku.fit(X_train_sku, y_train_sku)\n",
    "\n",
    "# # Make predictions on the test set\n",
    "# predictions_sku = model_sku.predict(X_test_sku)\n",
    "\n",
    "# # Evaluate the model\n",
    "# print(\"Accuracy:\", metrics.accuracy_score(y_test_sku, predictions_sku))\n",
    "# print(\"Classification Report:\\n\", metrics.classification_report(y_test_sku, predictions_sku))"
   ]
  },
  {
   "cell_type": "markdown",
   "metadata": {},
   "source": [
    "Honestly, I am stuck here, knowing that only 23 product names are mapped to the product SKUs out of 40 K and I still have no idea on how to proceed further from the current data situation."
   ]
  },
  {
   "cell_type": "code",
   "execution_count": null,
   "metadata": {},
   "outputs": [],
   "source": []
  }
 ],
 "metadata": {
  "kernelspec": {
   "display_name": "Python 3",
   "language": "python",
   "name": "python3"
  },
  "language_info": {
   "codemirror_mode": {
    "name": "ipython",
    "version": 3
   },
   "file_extension": ".py",
   "mimetype": "text/x-python",
   "name": "python",
   "nbconvert_exporter": "python",
   "pygments_lexer": "ipython3",
   "version": "3.8.5"
  }
 },
 "nbformat": 4,
 "nbformat_minor": 2
}
